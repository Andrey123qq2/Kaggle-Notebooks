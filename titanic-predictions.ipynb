{
 "cells": [
  {
   "cell_type": "markdown",
   "id": "79b2b1ec",
   "metadata": {
    "papermill": {
     "duration": 0.018736,
     "end_time": "2023-03-26T19:08:25.040318",
     "exception": false,
     "start_time": "2023-03-26T19:08:25.021582",
     "status": "completed"
    },
    "tags": []
   },
   "source": [
    "# Introduction"
   ]
  },
  {
   "cell_type": "markdown",
   "id": "c19dd3f6",
   "metadata": {
    "papermill": {
     "duration": 0.01671,
     "end_time": "2023-03-26T19:08:25.073693",
     "exception": false,
     "start_time": "2023-03-26T19:08:25.056983",
     "status": "completed"
    },
    "tags": []
   },
   "source": [
    "This is the legendary Titanic ML competition – the best, first challenge for you to dive into ML competitions and familiarize yourself with how the Kaggle platform works.\n",
    "\n",
    "The competition is simple: use machine learning to create a model that predicts which passengers survived the Titanic shipwreck."
   ]
  },
  {
   "cell_type": "markdown",
   "id": "9cf2ef41",
   "metadata": {
    "papermill": {
     "duration": 0.017761,
     "end_time": "2023-03-26T19:08:25.113154",
     "exception": false,
     "start_time": "2023-03-26T19:08:25.095393",
     "status": "completed"
    },
    "tags": []
   },
   "source": [
    "**Features**:<br>\n",
    "Survived - Whether the passenger survived (1) or not (0).<br>\n",
    "Pclass - Ticket class. A proxy for socio-economic status (SES), i.e. 1st = Upper, 2nd = Middle, 3rd = Lower.<br>\n",
    "Name - Passenger name.<br>\n",
    "Sex - Passenger sex.<br>\n",
    "Age - Passenger age in years.<br>\n",
    "SibSp - Number of siblings / spouses aboard the Titanic.<br>\n",
    "Parch - Number of parents / children aboard the Titanic.<br>\n",
    "Ticket - Ticket number.<br>\n",
    "Fare - Passenger fare.<br>\n",
    "Cabin - Cabin number.<br>\n",
    "Embarked - Port of Embarkation, i.e. C = Cherbourg, Q = Queenstown, S = Southampton.<br>"
   ]
  },
  {
   "cell_type": "markdown",
   "id": "5c5eaab3",
   "metadata": {
    "papermill": {
     "duration": 0.016745,
     "end_time": "2023-03-26T19:08:25.146584",
     "exception": false,
     "start_time": "2023-03-26T19:08:25.129839",
     "status": "completed"
    },
    "tags": []
   },
   "source": [
    "**This Notebook Covers:**\n",
    "1. Exploratory Data Analysis\n",
    "1. Building custom transformers and preprocessing pipeline.\n",
    "1. Comparison of different models' baseline scores.\n",
    "1. Choosing the best model and tuning it.\n",
    "1. Final submission."
   ]
  },
  {
   "cell_type": "code",
   "execution_count": 1,
   "id": "f7ce352e",
   "metadata": {
    "_kg_hide-input": true,
    "execution": {
     "iopub.execute_input": "2023-03-26T19:08:25.184923Z",
     "iopub.status.busy": "2023-03-26T19:08:25.184071Z",
     "iopub.status.idle": "2023-03-26T19:08:27.925537Z",
     "shell.execute_reply": "2023-03-26T19:08:27.924292Z"
    },
    "papermill": {
     "duration": 2.762679,
     "end_time": "2023-03-26T19:08:27.928586",
     "exception": false,
     "start_time": "2023-03-26T19:08:25.165907",
     "status": "completed"
    },
    "tags": []
   },
   "outputs": [],
   "source": [
    "import os\n",
    "import numpy as np\n",
    "import pandas as pd\n",
    "import matplotlib as mpl\n",
    "import matplotlib.pyplot as plt\n",
    "import seaborn as sns\n",
    "import warnings\n",
    "import itertools\n",
    "import math\n",
    "import imgaug.augmenters as iaa\n",
    "from sklearn.experimental import enable_halving_search_cv \n",
    "from sklearn.model_selection import train_test_split, GridSearchCV, HalvingGridSearchCV, cross_val_predict, learning_curve\n",
    "from sklearn.feature_selection import SelectKBest, chi2\n",
    "from sklearn.ensemble import RandomForestClassifier, GradientBoostingClassifier\n",
    "from sklearn.neighbors import KNeighborsClassifier\n",
    "from sklearn.naive_bayes import GaussianNB\n",
    "from sklearn.svm import SVC, LinearSVC\n",
    "from sklearn.linear_model import LogisticRegression, SGDClassifier\n",
    "from sklearn.tree import DecisionTreeClassifier\n",
    "import xgboost as xgb\n",
    "from sklearn.preprocessing import MinMaxScaler, StandardScaler, Binarizer, LabelEncoder, OneHotEncoder, FunctionTransformer\n",
    "from sklearn.compose import ColumnTransformer, make_column_transformer\n",
    "from sklearn.impute import SimpleImputer, KNNImputer\n",
    "from sklearn.pipeline import Pipeline, make_pipeline\n",
    "from sklearn.base import BaseEstimator, TransformerMixin\n",
    "from sklearn.metrics import confusion_matrix, accuracy_score, classification_report, f1_score, precision_score, recall_score, make_scorer,roc_curve, precision_recall_curve\n",
    "from sklearn.utils.validation import check_is_fitted\n",
    "from sklearn import set_config\n",
    "from scipy.stats import expon, randint, geom, reciprocal\n",
    "from scipy.ndimage.interpolation import shift\n",
    "from IPython.display import Markdown, display\n",
    "from matplotlib.colors import ListedColormap\n",
    "\n",
    "pd.set_option('display.max_columns', None)\n",
    "\n",
    "# to make this notebook's output stable across runs\n",
    "np.random.seed(42)\n",
    "\n",
    "ON_KAGGLE = os.getenv(\"KAGGLE_KERNEL_RUN_TYPE\") is not None\n",
    "\n",
    "def download_from_kaggle(competition):\n",
    "    command = \"kaggle competitions download -c \"\n",
    "    filepath = Path(\"data/\" + competition + \".zip\")\n",
    "\n",
    "    if not filepath.is_file():\n",
    "        subprocess.run((command + competition).split())\n",
    "        Path(\"data\").mkdir(parents=True, exist_ok=True)\n",
    "        shutil.unpack_archive(competition + \".zip\", \"data\")\n",
    "        shutil.move(competition + \".zip\", \"data\")\n",
    "        \n",
    "# MODELS_PATH = Path(\"models\")\n",
    "# MODELS_PATH.mkdir(exist_ok=True) \n",
    "\n",
    "# =============================================================================\n",
    "# This patch comes from.\n",
    "# https://github.com/ageron/handson-ml3/blob/main/02_end_to_end_machine_learning_project.ipynb\n",
    "def monkey_patch_get_signature_names_out():\n",
    "    \"\"\"Monkey patch some classes which did not handle get_feature_names_out()\n",
    "    correctly in Scikit-Learn 1.0.*.\"\"\"\n",
    "    from inspect import Parameter, Signature, signature\n",
    "\n",
    "    import pandas as pd\n",
    "    from sklearn.impute import KNNImputer, SimpleImputer\n",
    "    from sklearn.pipeline import Pipeline, make_pipeline\n",
    "    from sklearn.preprocessing import FunctionTransformer, StandardScaler\n",
    "\n",
    "    default_get_feature_names_out = StandardScaler.get_feature_names_out\n",
    "\n",
    "    if not hasattr(SimpleImputer, \"get_feature_names_out\"):\n",
    "        # print(\"Monkey-patching SimpleImputer.get_feature_names_out()\")\n",
    "        SimpleImputer.get_feature_names_out = default_get_feature_names_out\n",
    "\n",
    "    if not hasattr(KNNImputer, \"get_feature_names_out\"):\n",
    "        # print(\"Monkey-patching KNNImputer.get_feature_names_out()\")\n",
    "        KNNImputer.get_feature_names_out = default_get_feature_names_out\n",
    "\n",
    "    if not hasattr(FunctionTransformer, \"get_feature_names_out\"):\n",
    "        # print(\"Monkey-patching FunctionTransformer.get_feature_names_out()\")\n",
    "        orig_init = FunctionTransformer.__init__\n",
    "        orig_sig = signature(orig_init)\n",
    "\n",
    "        def __init__(*args, feature_names_out=None, **kwargs):\n",
    "            orig_sig.bind(*args, **kwargs)\n",
    "            orig_init(*args, **kwargs)\n",
    "            args[0].feature_names_out = feature_names_out\n",
    "\n",
    "        __init__.__signature__ = Signature(\n",
    "            list(signature(orig_init).parameters.values())\n",
    "            + [Parameter(\"feature_names_out\", Parameter.KEYWORD_ONLY)]\n",
    "        )\n",
    "\n",
    "        def get_feature_names_out(self, names=None):\n",
    "            if callable(self.feature_names_out):\n",
    "                return self.feature_names_out(self, names)\n",
    "            assert self.feature_names_out == \"one-to-one\"\n",
    "            return default_get_feature_names_out(self, names)\n",
    "\n",
    "        FunctionTransformer.__init__ = __init__\n",
    "        FunctionTransformer.get_feature_names_out = get_feature_names_out\n",
    "\n",
    "\n",
    "if ON_KAGGLE:\n",
    "    monkey_patch_get_signature_names_out()"
   ]
  },
  {
   "cell_type": "markdown",
   "id": "60b36e56",
   "metadata": {
    "papermill": {
     "duration": 0.016473,
     "end_time": "2023-03-26T19:08:27.961910",
     "exception": false,
     "start_time": "2023-03-26T19:08:27.945437",
     "status": "completed"
    },
    "tags": []
   },
   "source": [
    "### Data Collection"
   ]
  },
  {
   "cell_type": "code",
   "execution_count": 2,
   "id": "06cd0e31",
   "metadata": {
    "execution": {
     "iopub.execute_input": "2023-03-26T19:08:27.997211Z",
     "iopub.status.busy": "2023-03-26T19:08:27.996369Z",
     "iopub.status.idle": "2023-03-26T19:08:28.031758Z",
     "shell.execute_reply": "2023-03-26T19:08:28.030402Z"
    },
    "papermill": {
     "duration": 0.056358,
     "end_time": "2023-03-26T19:08:28.034699",
     "exception": false,
     "start_time": "2023-03-26T19:08:27.978341",
     "status": "completed"
    },
    "tags": []
   },
   "outputs": [],
   "source": [
    "competition = \"titanic\"\n",
    "if not ON_KAGGLE:\n",
    "    download_from_kaggle(competition)\n",
    "    train_path = \"data/train.csv\"\n",
    "    test_path = \"data/test.csv\"\n",
    "else:\n",
    "    train_path = f\"/kaggle/input/{competition}/train.csv\"\n",
    "    test_path = f\"/kaggle/input/{competition}/test.csv\"\n",
    "    \n",
    "train_data = pd.read_csv(train_path, index_col=\"PassengerId\")\n",
    "test_data = pd.read_csv(test_path, index_col=\"PassengerId\")"
   ]
  },
  {
   "cell_type": "code",
   "execution_count": 3,
   "id": "8c837b38",
   "metadata": {
    "execution": {
     "iopub.execute_input": "2023-03-26T19:08:28.073165Z",
     "iopub.status.busy": "2023-03-26T19:08:28.072339Z",
     "iopub.status.idle": "2023-03-26T19:08:28.100884Z",
     "shell.execute_reply": "2023-03-26T19:08:28.099620Z"
    },
    "papermill": {
     "duration": 0.050745,
     "end_time": "2023-03-26T19:08:28.104789",
     "exception": false,
     "start_time": "2023-03-26T19:08:28.054044",
     "status": "completed"
    },
    "tags": []
   },
   "outputs": [
    {
     "data": {
      "text/html": [
       "<div>\n",
       "<style scoped>\n",
       "    .dataframe tbody tr th:only-of-type {\n",
       "        vertical-align: middle;\n",
       "    }\n",
       "\n",
       "    .dataframe tbody tr th {\n",
       "        vertical-align: top;\n",
       "    }\n",
       "\n",
       "    .dataframe thead th {\n",
       "        text-align: right;\n",
       "    }\n",
       "</style>\n",
       "<table border=\"1\" class=\"dataframe\">\n",
       "  <thead>\n",
       "    <tr style=\"text-align: right;\">\n",
       "      <th></th>\n",
       "      <th>Survived</th>\n",
       "      <th>Pclass</th>\n",
       "      <th>Name</th>\n",
       "      <th>Sex</th>\n",
       "      <th>Age</th>\n",
       "      <th>SibSp</th>\n",
       "      <th>Parch</th>\n",
       "      <th>Ticket</th>\n",
       "      <th>Fare</th>\n",
       "      <th>Cabin</th>\n",
       "      <th>Embarked</th>\n",
       "    </tr>\n",
       "    <tr>\n",
       "      <th>PassengerId</th>\n",
       "      <th></th>\n",
       "      <th></th>\n",
       "      <th></th>\n",
       "      <th></th>\n",
       "      <th></th>\n",
       "      <th></th>\n",
       "      <th></th>\n",
       "      <th></th>\n",
       "      <th></th>\n",
       "      <th></th>\n",
       "      <th></th>\n",
       "    </tr>\n",
       "  </thead>\n",
       "  <tbody>\n",
       "    <tr>\n",
       "      <th>1</th>\n",
       "      <td>0</td>\n",
       "      <td>3</td>\n",
       "      <td>Braund, Mr. Owen Harris</td>\n",
       "      <td>male</td>\n",
       "      <td>22.0</td>\n",
       "      <td>1</td>\n",
       "      <td>0</td>\n",
       "      <td>A/5 21171</td>\n",
       "      <td>7.2500</td>\n",
       "      <td>NaN</td>\n",
       "      <td>S</td>\n",
       "    </tr>\n",
       "    <tr>\n",
       "      <th>2</th>\n",
       "      <td>1</td>\n",
       "      <td>1</td>\n",
       "      <td>Cumings, Mrs. John Bradley (Florence Briggs Th...</td>\n",
       "      <td>female</td>\n",
       "      <td>38.0</td>\n",
       "      <td>1</td>\n",
       "      <td>0</td>\n",
       "      <td>PC 17599</td>\n",
       "      <td>71.2833</td>\n",
       "      <td>C85</td>\n",
       "      <td>C</td>\n",
       "    </tr>\n",
       "    <tr>\n",
       "      <th>3</th>\n",
       "      <td>1</td>\n",
       "      <td>3</td>\n",
       "      <td>Heikkinen, Miss. Laina</td>\n",
       "      <td>female</td>\n",
       "      <td>26.0</td>\n",
       "      <td>0</td>\n",
       "      <td>0</td>\n",
       "      <td>STON/O2. 3101282</td>\n",
       "      <td>7.9250</td>\n",
       "      <td>NaN</td>\n",
       "      <td>S</td>\n",
       "    </tr>\n",
       "    <tr>\n",
       "      <th>4</th>\n",
       "      <td>1</td>\n",
       "      <td>1</td>\n",
       "      <td>Futrelle, Mrs. Jacques Heath (Lily May Peel)</td>\n",
       "      <td>female</td>\n",
       "      <td>35.0</td>\n",
       "      <td>1</td>\n",
       "      <td>0</td>\n",
       "      <td>113803</td>\n",
       "      <td>53.1000</td>\n",
       "      <td>C123</td>\n",
       "      <td>S</td>\n",
       "    </tr>\n",
       "    <tr>\n",
       "      <th>5</th>\n",
       "      <td>0</td>\n",
       "      <td>3</td>\n",
       "      <td>Allen, Mr. William Henry</td>\n",
       "      <td>male</td>\n",
       "      <td>35.0</td>\n",
       "      <td>0</td>\n",
       "      <td>0</td>\n",
       "      <td>373450</td>\n",
       "      <td>8.0500</td>\n",
       "      <td>NaN</td>\n",
       "      <td>S</td>\n",
       "    </tr>\n",
       "  </tbody>\n",
       "</table>\n",
       "</div>"
      ],
      "text/plain": [
       "             Survived  Pclass  \\\n",
       "PassengerId                     \n",
       "1                   0       3   \n",
       "2                   1       1   \n",
       "3                   1       3   \n",
       "4                   1       1   \n",
       "5                   0       3   \n",
       "\n",
       "                                                          Name     Sex   Age  \\\n",
       "PassengerId                                                                    \n",
       "1                                      Braund, Mr. Owen Harris    male  22.0   \n",
       "2            Cumings, Mrs. John Bradley (Florence Briggs Th...  female  38.0   \n",
       "3                                       Heikkinen, Miss. Laina  female  26.0   \n",
       "4                 Futrelle, Mrs. Jacques Heath (Lily May Peel)  female  35.0   \n",
       "5                                     Allen, Mr. William Henry    male  35.0   \n",
       "\n",
       "             SibSp  Parch            Ticket     Fare Cabin Embarked  \n",
       "PassengerId                                                          \n",
       "1                1      0         A/5 21171   7.2500   NaN        S  \n",
       "2                1      0          PC 17599  71.2833   C85        C  \n",
       "3                0      0  STON/O2. 3101282   7.9250   NaN        S  \n",
       "4                1      0            113803  53.1000  C123        S  \n",
       "5                0      0            373450   8.0500   NaN        S  "
      ]
     },
     "execution_count": 3,
     "metadata": {},
     "output_type": "execute_result"
    }
   ],
   "source": [
    "train_data.head()"
   ]
  },
  {
   "cell_type": "code",
   "execution_count": 4,
   "id": "5a288236",
   "metadata": {
    "execution": {
     "iopub.execute_input": "2023-03-26T19:08:28.141119Z",
     "iopub.status.busy": "2023-03-26T19:08:28.140651Z",
     "iopub.status.idle": "2023-03-26T19:08:28.157808Z",
     "shell.execute_reply": "2023-03-26T19:08:28.156540Z"
    },
    "papermill": {
     "duration": 0.038249,
     "end_time": "2023-03-26T19:08:28.160385",
     "exception": false,
     "start_time": "2023-03-26T19:08:28.122136",
     "status": "completed"
    },
    "tags": []
   },
   "outputs": [
    {
     "data": {
      "text/html": [
       "<div>\n",
       "<style scoped>\n",
       "    .dataframe tbody tr th:only-of-type {\n",
       "        vertical-align: middle;\n",
       "    }\n",
       "\n",
       "    .dataframe tbody tr th {\n",
       "        vertical-align: top;\n",
       "    }\n",
       "\n",
       "    .dataframe thead th {\n",
       "        text-align: right;\n",
       "    }\n",
       "</style>\n",
       "<table border=\"1\" class=\"dataframe\">\n",
       "  <thead>\n",
       "    <tr style=\"text-align: right;\">\n",
       "      <th></th>\n",
       "      <th>Pclass</th>\n",
       "      <th>Name</th>\n",
       "      <th>Sex</th>\n",
       "      <th>Age</th>\n",
       "      <th>SibSp</th>\n",
       "      <th>Parch</th>\n",
       "      <th>Ticket</th>\n",
       "      <th>Fare</th>\n",
       "      <th>Cabin</th>\n",
       "      <th>Embarked</th>\n",
       "    </tr>\n",
       "    <tr>\n",
       "      <th>PassengerId</th>\n",
       "      <th></th>\n",
       "      <th></th>\n",
       "      <th></th>\n",
       "      <th></th>\n",
       "      <th></th>\n",
       "      <th></th>\n",
       "      <th></th>\n",
       "      <th></th>\n",
       "      <th></th>\n",
       "      <th></th>\n",
       "    </tr>\n",
       "  </thead>\n",
       "  <tbody>\n",
       "    <tr>\n",
       "      <th>892</th>\n",
       "      <td>3</td>\n",
       "      <td>Kelly, Mr. James</td>\n",
       "      <td>male</td>\n",
       "      <td>34.5</td>\n",
       "      <td>0</td>\n",
       "      <td>0</td>\n",
       "      <td>330911</td>\n",
       "      <td>7.8292</td>\n",
       "      <td>NaN</td>\n",
       "      <td>Q</td>\n",
       "    </tr>\n",
       "    <tr>\n",
       "      <th>893</th>\n",
       "      <td>3</td>\n",
       "      <td>Wilkes, Mrs. James (Ellen Needs)</td>\n",
       "      <td>female</td>\n",
       "      <td>47.0</td>\n",
       "      <td>1</td>\n",
       "      <td>0</td>\n",
       "      <td>363272</td>\n",
       "      <td>7.0000</td>\n",
       "      <td>NaN</td>\n",
       "      <td>S</td>\n",
       "    </tr>\n",
       "    <tr>\n",
       "      <th>894</th>\n",
       "      <td>2</td>\n",
       "      <td>Myles, Mr. Thomas Francis</td>\n",
       "      <td>male</td>\n",
       "      <td>62.0</td>\n",
       "      <td>0</td>\n",
       "      <td>0</td>\n",
       "      <td>240276</td>\n",
       "      <td>9.6875</td>\n",
       "      <td>NaN</td>\n",
       "      <td>Q</td>\n",
       "    </tr>\n",
       "    <tr>\n",
       "      <th>895</th>\n",
       "      <td>3</td>\n",
       "      <td>Wirz, Mr. Albert</td>\n",
       "      <td>male</td>\n",
       "      <td>27.0</td>\n",
       "      <td>0</td>\n",
       "      <td>0</td>\n",
       "      <td>315154</td>\n",
       "      <td>8.6625</td>\n",
       "      <td>NaN</td>\n",
       "      <td>S</td>\n",
       "    </tr>\n",
       "    <tr>\n",
       "      <th>896</th>\n",
       "      <td>3</td>\n",
       "      <td>Hirvonen, Mrs. Alexander (Helga E Lindqvist)</td>\n",
       "      <td>female</td>\n",
       "      <td>22.0</td>\n",
       "      <td>1</td>\n",
       "      <td>1</td>\n",
       "      <td>3101298</td>\n",
       "      <td>12.2875</td>\n",
       "      <td>NaN</td>\n",
       "      <td>S</td>\n",
       "    </tr>\n",
       "  </tbody>\n",
       "</table>\n",
       "</div>"
      ],
      "text/plain": [
       "             Pclass                                          Name     Sex  \\\n",
       "PassengerId                                                                 \n",
       "892               3                              Kelly, Mr. James    male   \n",
       "893               3              Wilkes, Mrs. James (Ellen Needs)  female   \n",
       "894               2                     Myles, Mr. Thomas Francis    male   \n",
       "895               3                              Wirz, Mr. Albert    male   \n",
       "896               3  Hirvonen, Mrs. Alexander (Helga E Lindqvist)  female   \n",
       "\n",
       "              Age  SibSp  Parch   Ticket     Fare Cabin Embarked  \n",
       "PassengerId                                                       \n",
       "892          34.5      0      0   330911   7.8292   NaN        Q  \n",
       "893          47.0      1      0   363272   7.0000   NaN        S  \n",
       "894          62.0      0      0   240276   9.6875   NaN        Q  \n",
       "895          27.0      0      0   315154   8.6625   NaN        S  \n",
       "896          22.0      1      1  3101298  12.2875   NaN        S  "
      ]
     },
     "execution_count": 4,
     "metadata": {},
     "output_type": "execute_result"
    }
   ],
   "source": [
    "test_data.head()"
   ]
  },
  {
   "cell_type": "code",
   "execution_count": 5,
   "id": "fe8891fa",
   "metadata": {
    "execution": {
     "iopub.execute_input": "2023-03-26T19:08:28.197496Z",
     "iopub.status.busy": "2023-03-26T19:08:28.196594Z",
     "iopub.status.idle": "2023-03-26T19:08:28.214215Z",
     "shell.execute_reply": "2023-03-26T19:08:28.212813Z"
    },
    "papermill": {
     "duration": 0.038904,
     "end_time": "2023-03-26T19:08:28.216764",
     "exception": false,
     "start_time": "2023-03-26T19:08:28.177860",
     "status": "completed"
    },
    "tags": []
   },
   "outputs": [
    {
     "data": {
      "text/html": [
       "<div>\n",
       "<style scoped>\n",
       "    .dataframe tbody tr th:only-of-type {\n",
       "        vertical-align: middle;\n",
       "    }\n",
       "\n",
       "    .dataframe tbody tr th {\n",
       "        vertical-align: top;\n",
       "    }\n",
       "\n",
       "    .dataframe thead th {\n",
       "        text-align: right;\n",
       "    }\n",
       "</style>\n",
       "<table border=\"1\" class=\"dataframe\">\n",
       "  <thead>\n",
       "    <tr style=\"text-align: right;\">\n",
       "      <th></th>\n",
       "      <th>PassengerId</th>\n",
       "      <th>Survived</th>\n",
       "    </tr>\n",
       "  </thead>\n",
       "  <tbody>\n",
       "    <tr>\n",
       "      <th>0</th>\n",
       "      <td>892</td>\n",
       "      <td>0</td>\n",
       "    </tr>\n",
       "    <tr>\n",
       "      <th>1</th>\n",
       "      <td>893</td>\n",
       "      <td>1</td>\n",
       "    </tr>\n",
       "    <tr>\n",
       "      <th>2</th>\n",
       "      <td>894</td>\n",
       "      <td>0</td>\n",
       "    </tr>\n",
       "    <tr>\n",
       "      <th>3</th>\n",
       "      <td>895</td>\n",
       "      <td>0</td>\n",
       "    </tr>\n",
       "    <tr>\n",
       "      <th>4</th>\n",
       "      <td>896</td>\n",
       "      <td>1</td>\n",
       "    </tr>\n",
       "  </tbody>\n",
       "</table>\n",
       "</div>"
      ],
      "text/plain": [
       "   PassengerId  Survived\n",
       "0          892         0\n",
       "1          893         1\n",
       "2          894         0\n",
       "3          895         0\n",
       "4          896         1"
      ]
     },
     "execution_count": 5,
     "metadata": {},
     "output_type": "execute_result"
    }
   ],
   "source": [
    "submission_data = pd.read_csv(\"/kaggle/input/titanic/gender_submission.csv\")\n",
    "submission_data.head()"
   ]
  },
  {
   "cell_type": "markdown",
   "id": "f1a35aa2",
   "metadata": {
    "papermill": {
     "duration": 0.017168,
     "end_time": "2023-03-26T19:08:28.251638",
     "exception": false,
     "start_time": "2023-03-26T19:08:28.234470",
     "status": "completed"
    },
    "tags": []
   },
   "source": [
    "# Data Analysis"
   ]
  },
  {
   "cell_type": "markdown",
   "id": "417fbaa4",
   "metadata": {
    "papermill": {
     "duration": 0.016977,
     "end_time": "2023-03-26T19:08:28.285869",
     "exception": false,
     "start_time": "2023-03-26T19:08:28.268892",
     "status": "completed"
    },
    "tags": []
   },
   "source": [
    "Explore the dataset, analyze distributions, and visualize relationships."
   ]
  },
  {
   "cell_type": "code",
   "execution_count": 6,
   "id": "97ef2bca",
   "metadata": {
    "execution": {
     "iopub.execute_input": "2023-03-26T19:08:28.324179Z",
     "iopub.status.busy": "2023-03-26T19:08:28.323684Z",
     "iopub.status.idle": "2023-03-26T19:08:28.330200Z",
     "shell.execute_reply": "2023-03-26T19:08:28.328841Z"
    },
    "papermill": {
     "duration": 0.030631,
     "end_time": "2023-03-26T19:08:28.334560",
     "exception": false,
     "start_time": "2023-03-26T19:08:28.303929",
     "status": "completed"
    },
    "tags": []
   },
   "outputs": [
    {
     "name": "stdout",
     "output_type": "stream",
     "text": [
      "Train data shape:\t (891, 11) \n",
      "Test data shape:\t (418, 10)\n"
     ]
    }
   ],
   "source": [
    "print(f'Train data shape:\\t {train_data.shape}',\n",
    "    f'\\nTest data shape:\\t {test_data.shape}')"
   ]
  },
  {
   "cell_type": "code",
   "execution_count": 7,
   "id": "fa6e9bd7",
   "metadata": {
    "execution": {
     "iopub.execute_input": "2023-03-26T19:08:28.371985Z",
     "iopub.status.busy": "2023-03-26T19:08:28.371142Z",
     "iopub.status.idle": "2023-03-26T19:08:28.391333Z",
     "shell.execute_reply": "2023-03-26T19:08:28.389651Z"
    },
    "papermill": {
     "duration": 0.042204,
     "end_time": "2023-03-26T19:08:28.394359",
     "exception": false,
     "start_time": "2023-03-26T19:08:28.352155",
     "status": "completed"
    },
    "tags": []
   },
   "outputs": [
    {
     "name": "stdout",
     "output_type": "stream",
     "text": [
      "<class 'pandas.core.frame.DataFrame'>\n",
      "Int64Index: 891 entries, 1 to 891\n",
      "Data columns (total 11 columns):\n",
      " #   Column    Non-Null Count  Dtype  \n",
      "---  ------    --------------  -----  \n",
      " 0   Survived  891 non-null    int64  \n",
      " 1   Pclass    891 non-null    int64  \n",
      " 2   Name      891 non-null    object \n",
      " 3   Sex       891 non-null    object \n",
      " 4   Age       714 non-null    float64\n",
      " 5   SibSp     891 non-null    int64  \n",
      " 6   Parch     891 non-null    int64  \n",
      " 7   Ticket    891 non-null    object \n",
      " 8   Fare      891 non-null    float64\n",
      " 9   Cabin     204 non-null    object \n",
      " 10  Embarked  889 non-null    object \n",
      "dtypes: float64(2), int64(4), object(5)\n",
      "memory usage: 83.5+ KB\n"
     ]
    }
   ],
   "source": [
    "train_data.info()"
   ]
  },
  {
   "cell_type": "code",
   "execution_count": 8,
   "id": "d538e630",
   "metadata": {
    "execution": {
     "iopub.execute_input": "2023-03-26T19:08:28.432149Z",
     "iopub.status.busy": "2023-03-26T19:08:28.431690Z",
     "iopub.status.idle": "2023-03-26T19:08:28.446881Z",
     "shell.execute_reply": "2023-03-26T19:08:28.445360Z"
    },
    "papermill": {
     "duration": 0.037218,
     "end_time": "2023-03-26T19:08:28.449650",
     "exception": false,
     "start_time": "2023-03-26T19:08:28.412432",
     "status": "completed"
    },
    "tags": []
   },
   "outputs": [
    {
     "name": "stdout",
     "output_type": "stream",
     "text": [
      "<class 'pandas.core.frame.DataFrame'>\n",
      "Int64Index: 418 entries, 892 to 1309\n",
      "Data columns (total 10 columns):\n",
      " #   Column    Non-Null Count  Dtype  \n",
      "---  ------    --------------  -----  \n",
      " 0   Pclass    418 non-null    int64  \n",
      " 1   Name      418 non-null    object \n",
      " 2   Sex       418 non-null    object \n",
      " 3   Age       332 non-null    float64\n",
      " 4   SibSp     418 non-null    int64  \n",
      " 5   Parch     418 non-null    int64  \n",
      " 6   Ticket    418 non-null    object \n",
      " 7   Fare      417 non-null    float64\n",
      " 8   Cabin     91 non-null     object \n",
      " 9   Embarked  418 non-null    object \n",
      "dtypes: float64(2), int64(3), object(5)\n",
      "memory usage: 35.9+ KB\n"
     ]
    }
   ],
   "source": [
    "test_data.info()"
   ]
  },
  {
   "cell_type": "markdown",
   "id": "849efc94",
   "metadata": {
    "papermill": {
     "duration": 0.01722,
     "end_time": "2023-03-26T19:08:28.485047",
     "exception": false,
     "start_time": "2023-03-26T19:08:28.467827",
     "status": "completed"
    },
    "tags": []
   },
   "source": [
    "We see that the dataset is relatively small, with only 891 entries. There are missing values in the dataset."
   ]
  },
  {
   "cell_type": "code",
   "execution_count": 9,
   "id": "4c0a2e69",
   "metadata": {
    "execution": {
     "iopub.execute_input": "2023-03-26T19:08:28.522703Z",
     "iopub.status.busy": "2023-03-26T19:08:28.522260Z",
     "iopub.status.idle": "2023-03-26T19:08:28.531028Z",
     "shell.execute_reply": "2023-03-26T19:08:28.529952Z"
    },
    "papermill": {
     "duration": 0.031488,
     "end_time": "2023-03-26T19:08:28.534467",
     "exception": false,
     "start_time": "2023-03-26T19:08:28.502979",
     "status": "completed"
    },
    "tags": []
   },
   "outputs": [
    {
     "name": "stdout",
     "output_type": "stream",
     "text": [
      "Train dataset, missing values:\n",
      " Survived      0\n",
      "Pclass        0\n",
      "Name          0\n",
      "Sex           0\n",
      "Age         177\n",
      "SibSp         0\n",
      "Parch         0\n",
      "Ticket        0\n",
      "Fare          0\n",
      "Cabin       687\n",
      "Embarked      2\n",
      "dtype: int64\n"
     ]
    }
   ],
   "source": [
    "print('Train dataset, missing values:\\n', train_data.isna().sum())"
   ]
  },
  {
   "cell_type": "code",
   "execution_count": 10,
   "id": "7337c6eb",
   "metadata": {
    "execution": {
     "iopub.execute_input": "2023-03-26T19:08:28.573947Z",
     "iopub.status.busy": "2023-03-26T19:08:28.573556Z",
     "iopub.status.idle": "2023-03-26T19:08:28.608975Z",
     "shell.execute_reply": "2023-03-26T19:08:28.608072Z"
    },
    "papermill": {
     "duration": 0.057678,
     "end_time": "2023-03-26T19:08:28.611435",
     "exception": false,
     "start_time": "2023-03-26T19:08:28.553757",
     "status": "completed"
    },
    "tags": []
   },
   "outputs": [
    {
     "data": {
      "text/html": [
       "<div>\n",
       "<style scoped>\n",
       "    .dataframe tbody tr th:only-of-type {\n",
       "        vertical-align: middle;\n",
       "    }\n",
       "\n",
       "    .dataframe tbody tr th {\n",
       "        vertical-align: top;\n",
       "    }\n",
       "\n",
       "    .dataframe thead th {\n",
       "        text-align: right;\n",
       "    }\n",
       "</style>\n",
       "<table border=\"1\" class=\"dataframe\">\n",
       "  <thead>\n",
       "    <tr style=\"text-align: right;\">\n",
       "      <th></th>\n",
       "      <th>Survived</th>\n",
       "      <th>Pclass</th>\n",
       "      <th>Age</th>\n",
       "      <th>SibSp</th>\n",
       "      <th>Parch</th>\n",
       "      <th>Fare</th>\n",
       "    </tr>\n",
       "  </thead>\n",
       "  <tbody>\n",
       "    <tr>\n",
       "      <th>count</th>\n",
       "      <td>891.000000</td>\n",
       "      <td>891.000000</td>\n",
       "      <td>714.000000</td>\n",
       "      <td>891.000000</td>\n",
       "      <td>891.000000</td>\n",
       "      <td>891.000000</td>\n",
       "    </tr>\n",
       "    <tr>\n",
       "      <th>mean</th>\n",
       "      <td>0.383838</td>\n",
       "      <td>2.308642</td>\n",
       "      <td>29.699118</td>\n",
       "      <td>0.523008</td>\n",
       "      <td>0.381594</td>\n",
       "      <td>32.204208</td>\n",
       "    </tr>\n",
       "    <tr>\n",
       "      <th>std</th>\n",
       "      <td>0.486592</td>\n",
       "      <td>0.836071</td>\n",
       "      <td>14.526497</td>\n",
       "      <td>1.102743</td>\n",
       "      <td>0.806057</td>\n",
       "      <td>49.693429</td>\n",
       "    </tr>\n",
       "    <tr>\n",
       "      <th>min</th>\n",
       "      <td>0.000000</td>\n",
       "      <td>1.000000</td>\n",
       "      <td>0.420000</td>\n",
       "      <td>0.000000</td>\n",
       "      <td>0.000000</td>\n",
       "      <td>0.000000</td>\n",
       "    </tr>\n",
       "    <tr>\n",
       "      <th>25%</th>\n",
       "      <td>0.000000</td>\n",
       "      <td>2.000000</td>\n",
       "      <td>20.125000</td>\n",
       "      <td>0.000000</td>\n",
       "      <td>0.000000</td>\n",
       "      <td>7.910400</td>\n",
       "    </tr>\n",
       "    <tr>\n",
       "      <th>50%</th>\n",
       "      <td>0.000000</td>\n",
       "      <td>3.000000</td>\n",
       "      <td>28.000000</td>\n",
       "      <td>0.000000</td>\n",
       "      <td>0.000000</td>\n",
       "      <td>14.454200</td>\n",
       "    </tr>\n",
       "    <tr>\n",
       "      <th>75%</th>\n",
       "      <td>1.000000</td>\n",
       "      <td>3.000000</td>\n",
       "      <td>38.000000</td>\n",
       "      <td>1.000000</td>\n",
       "      <td>0.000000</td>\n",
       "      <td>31.000000</td>\n",
       "    </tr>\n",
       "    <tr>\n",
       "      <th>max</th>\n",
       "      <td>1.000000</td>\n",
       "      <td>3.000000</td>\n",
       "      <td>80.000000</td>\n",
       "      <td>8.000000</td>\n",
       "      <td>6.000000</td>\n",
       "      <td>512.329200</td>\n",
       "    </tr>\n",
       "  </tbody>\n",
       "</table>\n",
       "</div>"
      ],
      "text/plain": [
       "         Survived      Pclass         Age       SibSp       Parch        Fare\n",
       "count  891.000000  891.000000  714.000000  891.000000  891.000000  891.000000\n",
       "mean     0.383838    2.308642   29.699118    0.523008    0.381594   32.204208\n",
       "std      0.486592    0.836071   14.526497    1.102743    0.806057   49.693429\n",
       "min      0.000000    1.000000    0.420000    0.000000    0.000000    0.000000\n",
       "25%      0.000000    2.000000   20.125000    0.000000    0.000000    7.910400\n",
       "50%      0.000000    3.000000   28.000000    0.000000    0.000000   14.454200\n",
       "75%      1.000000    3.000000   38.000000    1.000000    0.000000   31.000000\n",
       "max      1.000000    3.000000   80.000000    8.000000    6.000000  512.329200"
      ]
     },
     "execution_count": 10,
     "metadata": {},
     "output_type": "execute_result"
    }
   ],
   "source": [
    "train_data.loc[:, train_data.columns != 'PassengerId'].describe()"
   ]
  },
  {
   "cell_type": "markdown",
   "id": "d38eeb31",
   "metadata": {
    "papermill": {
     "duration": 0.017963,
     "end_time": "2023-03-26T19:08:28.647449",
     "exception": false,
     "start_time": "2023-03-26T19:08:28.629486",
     "status": "completed"
    },
    "tags": []
   },
   "source": [
    "Create a copy of the training set for further analysys."
   ]
  },
  {
   "cell_type": "code",
   "execution_count": 11,
   "id": "ae1c87db",
   "metadata": {
    "execution": {
     "iopub.execute_input": "2023-03-26T19:08:28.686152Z",
     "iopub.status.busy": "2023-03-26T19:08:28.684965Z",
     "iopub.status.idle": "2023-03-26T19:08:28.690572Z",
     "shell.execute_reply": "2023-03-26T19:08:28.689599Z"
    },
    "papermill": {
     "duration": 0.027347,
     "end_time": "2023-03-26T19:08:28.692833",
     "exception": false,
     "start_time": "2023-03-26T19:08:28.665486",
     "status": "completed"
    },
    "tags": []
   },
   "outputs": [],
   "source": [
    "train_data_eda = train_data.copy()"
   ]
  },
  {
   "cell_type": "markdown",
   "id": "30620193",
   "metadata": {
    "papermill": {
     "duration": 0.017606,
     "end_time": "2023-03-26T19:08:28.728725",
     "exception": false,
     "start_time": "2023-03-26T19:08:28.711119",
     "status": "completed"
    },
    "tags": []
   },
   "source": [
    "The format of the Cabin field values contains one letter and a number. Extract the first letter from the field and place it in a separate field CabinCat. For empty values create a separate category \"X\"."
   ]
  },
  {
   "cell_type": "code",
   "execution_count": 12,
   "id": "33744f32",
   "metadata": {
    "execution": {
     "iopub.execute_input": "2023-03-26T19:08:28.766727Z",
     "iopub.status.busy": "2023-03-26T19:08:28.766295Z",
     "iopub.status.idle": "2023-03-26T19:08:28.777904Z",
     "shell.execute_reply": "2023-03-26T19:08:28.776769Z"
    },
    "papermill": {
     "duration": 0.033546,
     "end_time": "2023-03-26T19:08:28.780259",
     "exception": false,
     "start_time": "2023-03-26T19:08:28.746713",
     "status": "completed"
    },
    "tags": []
   },
   "outputs": [
    {
     "data": {
      "text/plain": [
       "X    687\n",
       "C     59\n",
       "B     47\n",
       "D     33\n",
       "E     32\n",
       "A     15\n",
       "F     13\n",
       "G      4\n",
       "T      1\n",
       "Name: CabinCat, dtype: int64"
      ]
     },
     "execution_count": 12,
     "metadata": {},
     "output_type": "execute_result"
    }
   ],
   "source": [
    "train_data_eda['CabinCat'] = train_data_eda[\"Cabin\"].apply(lambda x: \"X\" if pd.isna(x) else x[0])\n",
    "train_data_eda['CabinCat'].value_counts()"
   ]
  },
  {
   "cell_type": "markdown",
   "id": "3bfb3a95",
   "metadata": {
    "papermill": {
     "duration": 0.018321,
     "end_time": "2023-03-26T19:08:28.816871",
     "exception": false,
     "start_time": "2023-03-26T19:08:28.798550",
     "status": "completed"
    },
    "tags": []
   },
   "source": [
    "There are repeated values in the Name field, they are titles. Let's extract them into a separate attribute \"Title\"."
   ]
  },
  {
   "cell_type": "code",
   "execution_count": 13,
   "id": "2d9b52b2",
   "metadata": {
    "execution": {
     "iopub.execute_input": "2023-03-26T19:08:28.857356Z",
     "iopub.status.busy": "2023-03-26T19:08:28.856119Z",
     "iopub.status.idle": "2023-03-26T19:08:28.868375Z",
     "shell.execute_reply": "2023-03-26T19:08:28.867065Z"
    },
    "papermill": {
     "duration": 0.035993,
     "end_time": "2023-03-26T19:08:28.871125",
     "exception": false,
     "start_time": "2023-03-26T19:08:28.835132",
     "status": "completed"
    },
    "tags": []
   },
   "outputs": [
    {
     "data": {
      "text/plain": [
       "Mr          517\n",
       "Miss        182\n",
       "Mrs         125\n",
       "Master       40\n",
       "Dr            7\n",
       "Rev           6\n",
       "Mlle          2\n",
       "Major         2\n",
       "Col           2\n",
       "Countess      1\n",
       "Capt          1\n",
       "Ms            1\n",
       "Sir           1\n",
       "Lady          1\n",
       "Mme           1\n",
       "Don           1\n",
       "Jonkheer      1\n",
       "Name: Title, dtype: int64"
      ]
     },
     "execution_count": 13,
     "metadata": {},
     "output_type": "execute_result"
    }
   ],
   "source": [
    "train_data_eda['Title'] = train_data_eda.Name.str.extract(' ([A-Za-z]+)\\.', expand=False)\n",
    "train_data_eda['Title'].value_counts()"
   ]
  },
  {
   "cell_type": "code",
   "execution_count": 14,
   "id": "c0555903",
   "metadata": {
    "execution": {
     "iopub.execute_input": "2023-03-26T19:08:28.910786Z",
     "iopub.status.busy": "2023-03-26T19:08:28.910345Z",
     "iopub.status.idle": "2023-03-26T19:08:28.928078Z",
     "shell.execute_reply": "2023-03-26T19:08:28.926756Z"
    },
    "papermill": {
     "duration": 0.040357,
     "end_time": "2023-03-26T19:08:28.930542",
     "exception": false,
     "start_time": "2023-03-26T19:08:28.890185",
     "status": "completed"
    },
    "tags": []
   },
   "outputs": [
    {
     "data": {
      "text/html": [
       "<div>\n",
       "<style scoped>\n",
       "    .dataframe tbody tr th:only-of-type {\n",
       "        vertical-align: middle;\n",
       "    }\n",
       "\n",
       "    .dataframe tbody tr th {\n",
       "        vertical-align: top;\n",
       "    }\n",
       "\n",
       "    .dataframe thead th {\n",
       "        text-align: right;\n",
       "    }\n",
       "</style>\n",
       "<table border=\"1\" class=\"dataframe\">\n",
       "  <thead>\n",
       "    <tr style=\"text-align: right;\">\n",
       "      <th></th>\n",
       "      <th>Survived</th>\n",
       "      <th>Pclass</th>\n",
       "      <th>Name</th>\n",
       "      <th>Sex</th>\n",
       "      <th>Age</th>\n",
       "      <th>SibSp</th>\n",
       "      <th>Parch</th>\n",
       "      <th>Ticket</th>\n",
       "      <th>Fare</th>\n",
       "      <th>Cabin</th>\n",
       "      <th>Embarked</th>\n",
       "      <th>CabinCat</th>\n",
       "      <th>Title</th>\n",
       "    </tr>\n",
       "    <tr>\n",
       "      <th>PassengerId</th>\n",
       "      <th></th>\n",
       "      <th></th>\n",
       "      <th></th>\n",
       "      <th></th>\n",
       "      <th></th>\n",
       "      <th></th>\n",
       "      <th></th>\n",
       "      <th></th>\n",
       "      <th></th>\n",
       "      <th></th>\n",
       "      <th></th>\n",
       "      <th></th>\n",
       "      <th></th>\n",
       "    </tr>\n",
       "  </thead>\n",
       "  <tbody>\n",
       "    <tr>\n",
       "      <th>1</th>\n",
       "      <td>0</td>\n",
       "      <td>3</td>\n",
       "      <td>Braund, Mr. Owen Harris</td>\n",
       "      <td>male</td>\n",
       "      <td>22.0</td>\n",
       "      <td>1</td>\n",
       "      <td>0</td>\n",
       "      <td>A/5 21171</td>\n",
       "      <td>7.2500</td>\n",
       "      <td>NaN</td>\n",
       "      <td>S</td>\n",
       "      <td>X</td>\n",
       "      <td>Mr</td>\n",
       "    </tr>\n",
       "    <tr>\n",
       "      <th>2</th>\n",
       "      <td>1</td>\n",
       "      <td>1</td>\n",
       "      <td>Cumings, Mrs. John Bradley (Florence Briggs Th...</td>\n",
       "      <td>female</td>\n",
       "      <td>38.0</td>\n",
       "      <td>1</td>\n",
       "      <td>0</td>\n",
       "      <td>PC 17599</td>\n",
       "      <td>71.2833</td>\n",
       "      <td>C85</td>\n",
       "      <td>C</td>\n",
       "      <td>C</td>\n",
       "      <td>Mrs</td>\n",
       "    </tr>\n",
       "  </tbody>\n",
       "</table>\n",
       "</div>"
      ],
      "text/plain": [
       "             Survived  Pclass  \\\n",
       "PassengerId                     \n",
       "1                   0       3   \n",
       "2                   1       1   \n",
       "\n",
       "                                                          Name     Sex   Age  \\\n",
       "PassengerId                                                                    \n",
       "1                                      Braund, Mr. Owen Harris    male  22.0   \n",
       "2            Cumings, Mrs. John Bradley (Florence Briggs Th...  female  38.0   \n",
       "\n",
       "             SibSp  Parch     Ticket     Fare Cabin Embarked CabinCat Title  \n",
       "PassengerId                                                                  \n",
       "1                1      0  A/5 21171   7.2500   NaN        S        X    Mr  \n",
       "2                1      0   PC 17599  71.2833   C85        C        C   Mrs  "
      ]
     },
     "execution_count": 14,
     "metadata": {},
     "output_type": "execute_result"
    }
   ],
   "source": [
    "train_data_eda.head(2)"
   ]
  },
  {
   "cell_type": "markdown",
   "id": "5cc24be6",
   "metadata": {
    "papermill": {
     "duration": 0.018504,
     "end_time": "2023-03-26T19:08:28.968337",
     "exception": false,
     "start_time": "2023-03-26T19:08:28.949833",
     "status": "completed"
    },
    "tags": []
   },
   "source": [
    "Let's analyze the attribute distributions and the survival rate."
   ]
  },
  {
   "cell_type": "code",
   "execution_count": 15,
   "id": "ab105d87",
   "metadata": {
    "_kg_hide-input": true,
    "execution": {
     "iopub.execute_input": "2023-03-26T19:08:29.007656Z",
     "iopub.status.busy": "2023-03-26T19:08:29.007107Z",
     "iopub.status.idle": "2023-03-26T19:08:29.015728Z",
     "shell.execute_reply": "2023-03-26T19:08:29.014424Z"
    },
    "papermill": {
     "duration": 0.031245,
     "end_time": "2023-03-26T19:08:29.018209",
     "exception": false,
     "start_time": "2023-03-26T19:08:28.986964",
     "status": "completed"
    },
    "tags": []
   },
   "outputs": [],
   "source": [
    "def categorical_analysis(df, column_name, rate_column = 'Survived'):\n",
    "    total_count = df[column_name].count()\n",
    "    groupby_col = df.groupby(column_name).agg({column_name: 'count'})\n",
    "    groupby_col.columns = ['count']\n",
    "    groupby_col['percentage'] = groupby_col['count'] / total_count * 100\n",
    "    if column_name != rate_column:\n",
    "        survived_rate = df[[column_name, rate_column]].groupby([column_name]).mean()[[rate_column]]\n",
    "        merged_df = pd.merge(groupby_col, survived_rate, left_index=True, right_index=True)\n",
    "    else:\n",
    "        merged_df = groupby_col\n",
    "    display(merged_df\n",
    "            .style.format({'percentage': '{:.2f}%'})\n",
    "            .set_properties(**{'text-align': 'center'})\n",
    "            .set_table_attributes(\"style='display:inline'\"))"
   ]
  },
  {
   "cell_type": "code",
   "execution_count": 16,
   "id": "31c771bf",
   "metadata": {
    "_kg_hide-input": true,
    "execution": {
     "iopub.execute_input": "2023-03-26T19:08:29.057691Z",
     "iopub.status.busy": "2023-03-26T19:08:29.057260Z",
     "iopub.status.idle": "2023-03-26T19:08:29.063587Z",
     "shell.execute_reply": "2023-03-26T19:08:29.062220Z"
    },
    "papermill": {
     "duration": 0.028952,
     "end_time": "2023-03-26T19:08:29.065879",
     "exception": false,
     "start_time": "2023-03-26T19:08:29.036927",
     "status": "completed"
    },
    "tags": []
   },
   "outputs": [],
   "source": [
    "def find_categorical_columns(df, threshold=0.1):\n",
    "    categorical_cols = []\n",
    "    for col in df.columns:\n",
    "        if df[col].nunique() / df[col].count() < threshold:\n",
    "            categorical_cols.append(col)\n",
    "    return categorical_cols"
   ]
  },
  {
   "cell_type": "code",
   "execution_count": 17,
   "id": "0207a3f4",
   "metadata": {
    "_kg_hide-input": true,
    "execution": {
     "iopub.execute_input": "2023-03-26T19:08:29.105943Z",
     "iopub.status.busy": "2023-03-26T19:08:29.105224Z",
     "iopub.status.idle": "2023-03-26T19:08:29.114949Z",
     "shell.execute_reply": "2023-03-26T19:08:29.114070Z"
    },
    "papermill": {
     "duration": 0.032739,
     "end_time": "2023-03-26T19:08:29.117484",
     "exception": false,
     "start_time": "2023-03-26T19:08:29.084745",
     "status": "completed"
    },
    "tags": []
   },
   "outputs": [],
   "source": [
    "def plot_count_and_rate(df, col1, col2, axes, hide_labels=True):\n",
    "    total = len(df)*1.\n",
    "    sns.barplot(data=df, x=col1, y=col2, ax=axes[0])\n",
    "    axes[0].bar_label(axes[0].containers[0], fmt='%.2f')\n",
    "    axes[0].set_title(col1)\n",
    "    axes[0].set_ylabel(f\"{col2} rate\")\n",
    "    if hide_labels:\n",
    "        axes[0].get_yaxis().set_visible(False)\n",
    "    axes[0].xaxis.label.set_visible(False)\n",
    "    sns.countplot(data=df, x=col1, ax=axes[1])\n",
    "    for p in axes[1].patches:\n",
    "            axes[1].annotate('{:.1f}%'.format(100*p.get_height()/total), (p.get_x()+0.1, p.get_height()+5))\n",
    "    axes[1].set_ylabel(\"Total count\")\n",
    "    if hide_labels:\n",
    "        axes[1].get_yaxis().set_visible(False)\n",
    "    axes[1].xaxis.label.set_visible(False)"
   ]
  },
  {
   "cell_type": "code",
   "execution_count": 18,
   "id": "ed8f6c6d",
   "metadata": {
    "execution": {
     "iopub.execute_input": "2023-03-26T19:08:29.157148Z",
     "iopub.status.busy": "2023-03-26T19:08:29.156438Z",
     "iopub.status.idle": "2023-03-26T19:08:32.490748Z",
     "shell.execute_reply": "2023-03-26T19:08:32.489559Z"
    },
    "papermill": {
     "duration": 3.358291,
     "end_time": "2023-03-26T19:08:32.494425",
     "exception": false,
     "start_time": "2023-03-26T19:08:29.136134",
     "status": "completed"
    },
    "tags": []
   },
   "outputs": [
    {
     "data": {
      "image/png": "[encoded data removed]",
      "text/plain": [
       "<Figure size 1800x700 with 14 Axes>"
      ]
     },
     "metadata": {},
     "output_type": "display_data"
    }
   ],
   "source": [
    "fig, axes = plt.subplots(2, 7, figsize=(18, 7), sharex=False, sharey=False)\n",
    "i=-1\n",
    "for col in find_categorical_columns(train_data_eda):\n",
    "    i += 1\n",
    "    if i==0:\n",
    "        continue\n",
    "    plot_count_and_rate(train_data_eda, col, 'Survived', (axes[0,i-1], axes[1,i-1]), i!=1)"
   ]
  },
  {
   "cell_type": "markdown",
   "id": "ab8cec0b",
   "metadata": {
    "papermill": {
     "duration": 0.020732,
     "end_time": "2023-03-26T19:08:32.536785",
     "exception": false,
     "start_time": "2023-03-26T19:08:32.516053",
     "status": "completed"
    },
    "tags": []
   },
   "source": [
    "Same with text."
   ]
  },
  {
   "cell_type": "code",
   "execution_count": 19,
   "id": "a386af8f",
   "metadata": {
    "execution": {
     "iopub.execute_input": "2023-03-26T19:08:32.580360Z",
     "iopub.status.busy": "2023-03-26T19:08:32.579910Z",
     "iopub.status.idle": "2023-03-26T19:08:32.778677Z",
     "shell.execute_reply": "2023-03-26T19:08:32.777432Z"
    },
    "papermill": {
     "duration": 0.223789,
     "end_time": "2023-03-26T19:08:32.781387",
     "exception": false,
     "start_time": "2023-03-26T19:08:32.557598",
     "status": "completed"
    },
    "tags": []
   },
   "outputs": [
    {
     "data": {
      "text/html": [
       "<style type=\"text/css\">\n",
       "#T_e3515_row0_col0, #T_e3515_row0_col1, #T_e3515_row1_col0, #T_e3515_row1_col1 {\n",
       "  text-align: center;\n",
       "}\n",
       "</style>\n",
       "<table id=\"T_e3515_\" style='display:inline'>\n",
       "  <thead>\n",
       "    <tr>\n",
       "      <th class=\"blank level0\" >&nbsp;</th>\n",
       "      <th class=\"col_heading level0 col0\" >count</th>\n",
       "      <th class=\"col_heading level0 col1\" >percentage</th>\n",
       "    </tr>\n",
       "    <tr>\n",
       "      <th class=\"index_name level0\" >Survived</th>\n",
       "      <th class=\"blank col0\" >&nbsp;</th>\n",
       "      <th class=\"blank col1\" >&nbsp;</th>\n",
       "    </tr>\n",
       "  </thead>\n",
       "  <tbody>\n",
       "    <tr>\n",
       "      <th id=\"T_e3515_level0_row0\" class=\"row_heading level0 row0\" >0</th>\n",
       "      <td id=\"T_e3515_row0_col0\" class=\"data row0 col0\" >549</td>\n",
       "      <td id=\"T_e3515_row0_col1\" class=\"data row0 col1\" >61.62%</td>\n",
       "    </tr>\n",
       "    <tr>\n",
       "      <th id=\"T_e3515_level0_row1\" class=\"row_heading level0 row1\" >1</th>\n",
       "      <td id=\"T_e3515_row1_col0\" class=\"data row1 col0\" >342</td>\n",
       "      <td id=\"T_e3515_row1_col1\" class=\"data row1 col1\" >38.38%</td>\n",
       "    </tr>\n",
       "  </tbody>\n",
       "</table>\n"
      ],
      "text/plain": [
       "<pandas.io.formats.style.Styler at 0x7fc664458990>"
      ]
     },
     "metadata": {},
     "output_type": "display_data"
    },
    {
     "data": {
      "text/html": [
       "<style type=\"text/css\">\n",
       "#T_6da72_row0_col0, #T_6da72_row0_col1, #T_6da72_row0_col2, #T_6da72_row1_col0, #T_6da72_row1_col1, #T_6da72_row1_col2, #T_6da72_row2_col0, #T_6da72_row2_col1, #T_6da72_row2_col2 {\n",
       "  text-align: center;\n",
       "}\n",
       "</style>\n",
       "<table id=\"T_6da72_\" style='display:inline'>\n",
       "  <thead>\n",
       "    <tr>\n",
       "      <th class=\"blank level0\" >&nbsp;</th>\n",
       "      <th class=\"col_heading level0 col0\" >count</th>\n",
       "      <th class=\"col_heading level0 col1\" >percentage</th>\n",
       "      <th class=\"col_heading level0 col2\" >Survived</th>\n",
       "    </tr>\n",
       "    <tr>\n",
       "      <th class=\"index_name level0\" >Pclass</th>\n",
       "      <th class=\"blank col0\" >&nbsp;</th>\n",
       "      <th class=\"blank col1\" >&nbsp;</th>\n",
       "      <th class=\"blank col2\" >&nbsp;</th>\n",
       "    </tr>\n",
       "  </thead>\n",
       "  <tbody>\n",
       "    <tr>\n",
       "      <th id=\"T_6da72_level0_row0\" class=\"row_heading level0 row0\" >1</th>\n",
       "      <td id=\"T_6da72_row0_col0\" class=\"data row0 col0\" >216</td>\n",
       "      <td id=\"T_6da72_row0_col1\" class=\"data row0 col1\" >24.24%</td>\n",
       "      <td id=\"T_6da72_row0_col2\" class=\"data row0 col2\" >0.629630</td>\n",
       "    </tr>\n",
       "    <tr>\n",
       "      <th id=\"T_6da72_level0_row1\" class=\"row_heading level0 row1\" >2</th>\n",
       "      <td id=\"T_6da72_row1_col0\" class=\"data row1 col0\" >184</td>\n",
       "      <td id=\"T_6da72_row1_col1\" class=\"data row1 col1\" >20.65%</td>\n",
       "      <td id=\"T_6da72_row1_col2\" class=\"data row1 col2\" >0.472826</td>\n",
       "    </tr>\n",
       "    <tr>\n",
       "      <th id=\"T_6da72_level0_row2\" class=\"row_heading level0 row2\" >3</th>\n",
       "      <td id=\"T_6da72_row2_col0\" class=\"data row2 col0\" >491</td>\n",
       "      <td id=\"T_6da72_row2_col1\" class=\"data row2 col1\" >55.11%</td>\n",
       "      <td id=\"T_6da72_row2_col2\" class=\"data row2 col2\" >0.242363</td>\n",
       "    </tr>\n",
       "  </tbody>\n",
       "</table>\n"
      ],
      "text/plain": [
       "<pandas.io.formats.style.Styler at 0x7fc65991ced0>"
      ]
     },
     "metadata": {},
     "output_type": "display_data"
    },
    {
     "data": {
      "text/html": [
       "<style type=\"text/css\">\n",
       "#T_19039_row0_col0, #T_19039_row0_col1, #T_19039_row0_col2, #T_19039_row1_col0, #T_19039_row1_col1, #T_19039_row1_col2 {\n",
       "  text-align: center;\n",
       "}\n",
       "</style>\n",
       "<table id=\"T_19039_\" style='display:inline'>\n",
       "  <thead>\n",
       "    <tr>\n",
       "      <th class=\"blank level0\" >&nbsp;</th>\n",
       "      <th class=\"col_heading level0 col0\" >count</th>\n",
       "      <th class=\"col_heading level0 col1\" >percentage</th>\n",
       "      <th class=\"col_heading level0 col2\" >Survived</th>\n",
       "    </tr>\n",
       "    <tr>\n",
       "      <th class=\"index_name level0\" >Sex</th>\n",
       "      <th class=\"blank col0\" >&nbsp;</th>\n",
       "      <th class=\"blank col1\" >&nbsp;</th>\n",
       "      <th class=\"blank col2\" >&nbsp;</th>\n",
       "    </tr>\n",
       "  </thead>\n",
       "  <tbody>\n",
       "    <tr>\n",
       "      <th id=\"T_19039_level0_row0\" class=\"row_heading level0 row0\" >female</th>\n",
       "      <td id=\"T_19039_row0_col0\" class=\"data row0 col0\" >314</td>\n",
       "      <td id=\"T_19039_row0_col1\" class=\"data row0 col1\" >35.24%</td>\n",
       "      <td id=\"T_19039_row0_col2\" class=\"data row0 col2\" >0.742038</td>\n",
       "    </tr>\n",
       "    <tr>\n",
       "      <th id=\"T_19039_level0_row1\" class=\"row_heading level0 row1\" >male</th>\n",
       "      <td id=\"T_19039_row1_col0\" class=\"data row1 col0\" >577</td>\n",
       "      <td id=\"T_19039_row1_col1\" class=\"data row1 col1\" >64.76%</td>\n",
       "      <td id=\"T_19039_row1_col2\" class=\"data row1 col2\" >0.188908</td>\n",
       "    </tr>\n",
       "  </tbody>\n",
       "</table>\n"
      ],
      "text/plain": [
       "<pandas.io.formats.style.Styler at 0x7fc6640f6ad0>"
      ]
     },
     "metadata": {},
     "output_type": "display_data"
    },
    {
     "data": {
      "text/html": [
       "<style type=\"text/css\">\n",
       "#T_e3216_row0_col0, #T_e3216_row0_col1, #T_e3216_row0_col2, #T_e3216_row1_col0, #T_e3216_row1_col1, #T_e3216_row1_col2, #T_e3216_row2_col0, #T_e3216_row2_col1, #T_e3216_row2_col2, #T_e3216_row3_col0, #T_e3216_row3_col1, #T_e3216_row3_col2, #T_e3216_row4_col0, #T_e3216_row4_col1, #T_e3216_row4_col2, #T_e3216_row5_col0, #T_e3216_row5_col1, #T_e3216_row5_col2, #T_e3216_row6_col0, #T_e3216_row6_col1, #T_e3216_row6_col2 {\n",
       "  text-align: center;\n",
       "}\n",
       "</style>\n",
       "<table id=\"T_e3216_\" style='display:inline'>\n",
       "  <thead>\n",
       "    <tr>\n",
       "      <th class=\"blank level0\" >&nbsp;</th>\n",
       "      <th class=\"col_heading level0 col0\" >count</th>\n",
       "      <th class=\"col_heading level0 col1\" >percentage</th>\n",
       "      <th class=\"col_heading level0 col2\" >Survived</th>\n",
       "    </tr>\n",
       "    <tr>\n",
       "      <th class=\"index_name level0\" >SibSp</th>\n",
       "      <th class=\"blank col0\" >&nbsp;</th>\n",
       "      <th class=\"blank col1\" >&nbsp;</th>\n",
       "      <th class=\"blank col2\" >&nbsp;</th>\n",
       "    </tr>\n",
       "  </thead>\n",
       "  <tbody>\n",
       "    <tr>\n",
       "      <th id=\"T_e3216_level0_row0\" class=\"row_heading level0 row0\" >0</th>\n",
       "      <td id=\"T_e3216_row0_col0\" class=\"data row0 col0\" >608</td>\n",
       "      <td id=\"T_e3216_row0_col1\" class=\"data row0 col1\" >68.24%</td>\n",
       "      <td id=\"T_e3216_row0_col2\" class=\"data row0 col2\" >0.345395</td>\n",
       "    </tr>\n",
       "    <tr>\n",
       "      <th id=\"T_e3216_level0_row1\" class=\"row_heading level0 row1\" >1</th>\n",
       "      <td id=\"T_e3216_row1_col0\" class=\"data row1 col0\" >209</td>\n",
       "      <td id=\"T_e3216_row1_col1\" class=\"data row1 col1\" >23.46%</td>\n",
       "      <td id=\"T_e3216_row1_col2\" class=\"data row1 col2\" >0.535885</td>\n",
       "    </tr>\n",
       "    <tr>\n",
       "      <th id=\"T_e3216_level0_row2\" class=\"row_heading level0 row2\" >2</th>\n",
       "      <td id=\"T_e3216_row2_col0\" class=\"data row2 col0\" >28</td>\n",
       "      <td id=\"T_e3216_row2_col1\" class=\"data row2 col1\" >3.14%</td>\n",
       "      <td id=\"T_e3216_row2_col2\" class=\"data row2 col2\" >0.464286</td>\n",
       "    </tr>\n",
       "    <tr>\n",
       "      <th id=\"T_e3216_level0_row3\" class=\"row_heading level0 row3\" >3</th>\n",
       "      <td id=\"T_e3216_row3_col0\" class=\"data row3 col0\" >16</td>\n",
       "      <td id=\"T_e3216_row3_col1\" class=\"data row3 col1\" >1.80%</td>\n",
       "      <td id=\"T_e3216_row3_col2\" class=\"data row3 col2\" >0.250000</td>\n",
       "    </tr>\n",
       "    <tr>\n",
       "      <th id=\"T_e3216_level0_row4\" class=\"row_heading level0 row4\" >4</th>\n",
       "      <td id=\"T_e3216_row4_col0\" class=\"data row4 col0\" >18</td>\n",
       "      <td id=\"T_e3216_row4_col1\" class=\"data row4 col1\" >2.02%</td>\n",
       "      <td id=\"T_e3216_row4_col2\" class=\"data row4 col2\" >0.166667</td>\n",
       "    </tr>\n",
       "    <tr>\n",
       "      <th id=\"T_e3216_level0_row5\" class=\"row_heading level0 row5\" >5</th>\n",
       "      <td id=\"T_e3216_row5_col0\" class=\"data row5 col0\" >5</td>\n",
       "      <td id=\"T_e3216_row5_col1\" class=\"data row5 col1\" >0.56%</td>\n",
       "      <td id=\"T_e3216_row5_col2\" class=\"data row5 col2\" >0.000000</td>\n",
       "    </tr>\n",
       "    <tr>\n",
       "      <th id=\"T_e3216_level0_row6\" class=\"row_heading level0 row6\" >8</th>\n",
       "      <td id=\"T_e3216_row6_col0\" class=\"data row6 col0\" >7</td>\n",
       "      <td id=\"T_e3216_row6_col1\" class=\"data row6 col1\" >0.79%</td>\n",
       "      <td id=\"T_e3216_row6_col2\" class=\"data row6 col2\" >0.000000</td>\n",
       "    </tr>\n",
       "  </tbody>\n",
       "</table>\n"
      ],
      "text/plain": [
       "<pandas.io.formats.style.Styler at 0x7fc659902ed0>"
      ]
     },
     "metadata": {},
     "output_type": "display_data"
    },
    {
     "data": {
      "text/html": [
       "<style type=\"text/css\">\n",
       "#T_28ef0_row0_col0, #T_28ef0_row0_col1, #T_28ef0_row0_col2, #T_28ef0_row1_col0, #T_28ef0_row1_col1, #T_28ef0_row1_col2, #T_28ef0_row2_col0, #T_28ef0_row2_col1, #T_28ef0_row2_col2, #T_28ef0_row3_col0, #T_28ef0_row3_col1, #T_28ef0_row3_col2, #T_28ef0_row4_col0, #T_28ef0_row4_col1, #T_28ef0_row4_col2, #T_28ef0_row5_col0, #T_28ef0_row5_col1, #T_28ef0_row5_col2, #T_28ef0_row6_col0, #T_28ef0_row6_col1, #T_28ef0_row6_col2 {\n",
       "  text-align: center;\n",
       "}\n",
       "</style>\n",
       "<table id=\"T_28ef0_\" style='display:inline'>\n",
       "  <thead>\n",
       "    <tr>\n",
       "      <th class=\"blank level0\" >&nbsp;</th>\n",
       "      <th class=\"col_heading level0 col0\" >count</th>\n",
       "      <th class=\"col_heading level0 col1\" >percentage</th>\n",
       "      <th class=\"col_heading level0 col2\" >Survived</th>\n",
       "    </tr>\n",
       "    <tr>\n",
       "      <th class=\"index_name level0\" >Parch</th>\n",
       "      <th class=\"blank col0\" >&nbsp;</th>\n",
       "      <th class=\"blank col1\" >&nbsp;</th>\n",
       "      <th class=\"blank col2\" >&nbsp;</th>\n",
       "    </tr>\n",
       "  </thead>\n",
       "  <tbody>\n",
       "    <tr>\n",
       "      <th id=\"T_28ef0_level0_row0\" class=\"row_heading level0 row0\" >0</th>\n",
       "      <td id=\"T_28ef0_row0_col0\" class=\"data row0 col0\" >678</td>\n",
       "      <td id=\"T_28ef0_row0_col1\" class=\"data row0 col1\" >76.09%</td>\n",
       "      <td id=\"T_28ef0_row0_col2\" class=\"data row0 col2\" >0.343658</td>\n",
       "    </tr>\n",
       "    <tr>\n",
       "      <th id=\"T_28ef0_level0_row1\" class=\"row_heading level0 row1\" >1</th>\n",
       "      <td id=\"T_28ef0_row1_col0\" class=\"data row1 col0\" >118</td>\n",
       "      <td id=\"T_28ef0_row1_col1\" class=\"data row1 col1\" >13.24%</td>\n",
       "      <td id=\"T_28ef0_row1_col2\" class=\"data row1 col2\" >0.550847</td>\n",
       "    </tr>\n",
       "    <tr>\n",
       "      <th id=\"T_28ef0_level0_row2\" class=\"row_heading level0 row2\" >2</th>\n",
       "      <td id=\"T_28ef0_row2_col0\" class=\"data row2 col0\" >80</td>\n",
       "      <td id=\"T_28ef0_row2_col1\" class=\"data row2 col1\" >8.98%</td>\n",
       "      <td id=\"T_28ef0_row2_col2\" class=\"data row2 col2\" >0.500000</td>\n",
       "    </tr>\n",
       "    <tr>\n",
       "      <th id=\"T_28ef0_level0_row3\" class=\"row_heading level0 row3\" >3</th>\n",
       "      <td id=\"T_28ef0_row3_col0\" class=\"data row3 col0\" >5</td>\n",
       "      <td id=\"T_28ef0_row3_col1\" class=\"data row3 col1\" >0.56%</td>\n",
       "      <td id=\"T_28ef0_row3_col2\" class=\"data row3 col2\" >0.600000</td>\n",
       "    </tr>\n",
       "    <tr>\n",
       "      <th id=\"T_28ef0_level0_row4\" class=\"row_heading level0 row4\" >4</th>\n",
       "      <td id=\"T_28ef0_row4_col0\" class=\"data row4 col0\" >4</td>\n",
       "      <td id=\"T_28ef0_row4_col1\" class=\"data row4 col1\" >0.45%</td>\n",
       "      <td id=\"T_28ef0_row4_col2\" class=\"data row4 col2\" >0.000000</td>\n",
       "    </tr>\n",
       "    <tr>\n",
       "      <th id=\"T_28ef0_level0_row5\" class=\"row_heading level0 row5\" >5</th>\n",
       "      <td id=\"T_28ef0_row5_col0\" class=\"data row5 col0\" >5</td>\n",
       "      <td id=\"T_28ef0_row5_col1\" class=\"data row5 col1\" >0.56%</td>\n",
       "      <td id=\"T_28ef0_row5_col2\" class=\"data row5 col2\" >0.200000</td>\n",
       "    </tr>\n",
       "    <tr>\n",
       "      <th id=\"T_28ef0_level0_row6\" class=\"row_heading level0 row6\" >6</th>\n",
       "      <td id=\"T_28ef0_row6_col0\" class=\"data row6 col0\" >1</td>\n",
       "      <td id=\"T_28ef0_row6_col1\" class=\"data row6 col1\" >0.11%</td>\n",
       "      <td id=\"T_28ef0_row6_col2\" class=\"data row6 col2\" >0.000000</td>\n",
       "    </tr>\n",
       "  </tbody>\n",
       "</table>\n"
      ],
      "text/plain": [
       "<pandas.io.formats.style.Styler at 0x7fc65991cc50>"
      ]
     },
     "metadata": {},
     "output_type": "display_data"
    },
    {
     "data": {
      "text/html": [
       "<style type=\"text/css\">\n",
       "#T_9aff0_row0_col0, #T_9aff0_row0_col1, #T_9aff0_row0_col2, #T_9aff0_row1_col0, #T_9aff0_row1_col1, #T_9aff0_row1_col2, #T_9aff0_row2_col0, #T_9aff0_row2_col1, #T_9aff0_row2_col2 {\n",
       "  text-align: center;\n",
       "}\n",
       "</style>\n",
       "<table id=\"T_9aff0_\" style='display:inline'>\n",
       "  <thead>\n",
       "    <tr>\n",
       "      <th class=\"blank level0\" >&nbsp;</th>\n",
       "      <th class=\"col_heading level0 col0\" >count</th>\n",
       "      <th class=\"col_heading level0 col1\" >percentage</th>\n",
       "      <th class=\"col_heading level0 col2\" >Survived</th>\n",
       "    </tr>\n",
       "    <tr>\n",
       "      <th class=\"index_name level0\" >Embarked</th>\n",
       "      <th class=\"blank col0\" >&nbsp;</th>\n",
       "      <th class=\"blank col1\" >&nbsp;</th>\n",
       "      <th class=\"blank col2\" >&nbsp;</th>\n",
       "    </tr>\n",
       "  </thead>\n",
       "  <tbody>\n",
       "    <tr>\n",
       "      <th id=\"T_9aff0_level0_row0\" class=\"row_heading level0 row0\" >C</th>\n",
       "      <td id=\"T_9aff0_row0_col0\" class=\"data row0 col0\" >168</td>\n",
       "      <td id=\"T_9aff0_row0_col1\" class=\"data row0 col1\" >18.90%</td>\n",
       "      <td id=\"T_9aff0_row0_col2\" class=\"data row0 col2\" >0.553571</td>\n",
       "    </tr>\n",
       "    <tr>\n",
       "      <th id=\"T_9aff0_level0_row1\" class=\"row_heading level0 row1\" >Q</th>\n",
       "      <td id=\"T_9aff0_row1_col0\" class=\"data row1 col0\" >77</td>\n",
       "      <td id=\"T_9aff0_row1_col1\" class=\"data row1 col1\" >8.66%</td>\n",
       "      <td id=\"T_9aff0_row1_col2\" class=\"data row1 col2\" >0.389610</td>\n",
       "    </tr>\n",
       "    <tr>\n",
       "      <th id=\"T_9aff0_level0_row2\" class=\"row_heading level0 row2\" >S</th>\n",
       "      <td id=\"T_9aff0_row2_col0\" class=\"data row2 col0\" >644</td>\n",
       "      <td id=\"T_9aff0_row2_col1\" class=\"data row2 col1\" >72.44%</td>\n",
       "      <td id=\"T_9aff0_row2_col2\" class=\"data row2 col2\" >0.336957</td>\n",
       "    </tr>\n",
       "  </tbody>\n",
       "</table>\n"
      ],
      "text/plain": [
       "<pandas.io.formats.style.Styler at 0x7fc663c2bd90>"
      ]
     },
     "metadata": {},
     "output_type": "display_data"
    },
    {
     "data": {
      "text/html": [
       "<style type=\"text/css\">\n",
       "#T_0ea62_row0_col0, #T_0ea62_row0_col1, #T_0ea62_row0_col2, #T_0ea62_row1_col0, #T_0ea62_row1_col1, #T_0ea62_row1_col2, #T_0ea62_row2_col0, #T_0ea62_row2_col1, #T_0ea62_row2_col2, #T_0ea62_row3_col0, #T_0ea62_row3_col1, #T_0ea62_row3_col2, #T_0ea62_row4_col0, #T_0ea62_row4_col1, #T_0ea62_row4_col2, #T_0ea62_row5_col0, #T_0ea62_row5_col1, #T_0ea62_row5_col2, #T_0ea62_row6_col0, #T_0ea62_row6_col1, #T_0ea62_row6_col2, #T_0ea62_row7_col0, #T_0ea62_row7_col1, #T_0ea62_row7_col2, #T_0ea62_row8_col0, #T_0ea62_row8_col1, #T_0ea62_row8_col2 {\n",
       "  text-align: center;\n",
       "}\n",
       "</style>\n",
       "<table id=\"T_0ea62_\" style='display:inline'>\n",
       "  <thead>\n",
       "    <tr>\n",
       "      <th class=\"blank level0\" >&nbsp;</th>\n",
       "      <th class=\"col_heading level0 col0\" >count</th>\n",
       "      <th class=\"col_heading level0 col1\" >percentage</th>\n",
       "      <th class=\"col_heading level0 col2\" >Survived</th>\n",
       "    </tr>\n",
       "    <tr>\n",
       "      <th class=\"index_name level0\" >CabinCat</th>\n",
       "      <th class=\"blank col0\" >&nbsp;</th>\n",
       "      <th class=\"blank col1\" >&nbsp;</th>\n",
       "      <th class=\"blank col2\" >&nbsp;</th>\n",
       "    </tr>\n",
       "  </thead>\n",
       "  <tbody>\n",
       "    <tr>\n",
       "      <th id=\"T_0ea62_level0_row0\" class=\"row_heading level0 row0\" >A</th>\n",
       "      <td id=\"T_0ea62_row0_col0\" class=\"data row0 col0\" >15</td>\n",
       "      <td id=\"T_0ea62_row0_col1\" class=\"data row0 col1\" >1.68%</td>\n",
       "      <td id=\"T_0ea62_row0_col2\" class=\"data row0 col2\" >0.466667</td>\n",
       "    </tr>\n",
       "    <tr>\n",
       "      <th id=\"T_0ea62_level0_row1\" class=\"row_heading level0 row1\" >B</th>\n",
       "      <td id=\"T_0ea62_row1_col0\" class=\"data row1 col0\" >47</td>\n",
       "      <td id=\"T_0ea62_row1_col1\" class=\"data row1 col1\" >5.27%</td>\n",
       "      <td id=\"T_0ea62_row1_col2\" class=\"data row1 col2\" >0.744681</td>\n",
       "    </tr>\n",
       "    <tr>\n",
       "      <th id=\"T_0ea62_level0_row2\" class=\"row_heading level0 row2\" >C</th>\n",
       "      <td id=\"T_0ea62_row2_col0\" class=\"data row2 col0\" >59</td>\n",
       "      <td id=\"T_0ea62_row2_col1\" class=\"data row2 col1\" >6.62%</td>\n",
       "      <td id=\"T_0ea62_row2_col2\" class=\"data row2 col2\" >0.593220</td>\n",
       "    </tr>\n",
       "    <tr>\n",
       "      <th id=\"T_0ea62_level0_row3\" class=\"row_heading level0 row3\" >D</th>\n",
       "      <td id=\"T_0ea62_row3_col0\" class=\"data row3 col0\" >33</td>\n",
       "      <td id=\"T_0ea62_row3_col1\" class=\"data row3 col1\" >3.70%</td>\n",
       "      <td id=\"T_0ea62_row3_col2\" class=\"data row3 col2\" >0.757576</td>\n",
       "    </tr>\n",
       "    <tr>\n",
       "      <th id=\"T_0ea62_level0_row4\" class=\"row_heading level0 row4\" >E</th>\n",
       "      <td id=\"T_0ea62_row4_col0\" class=\"data row4 col0\" >32</td>\n",
       "      <td id=\"T_0ea62_row4_col1\" class=\"data row4 col1\" >3.59%</td>\n",
       "      <td id=\"T_0ea62_row4_col2\" class=\"data row4 col2\" >0.750000</td>\n",
       "    </tr>\n",
       "    <tr>\n",
       "      <th id=\"T_0ea62_level0_row5\" class=\"row_heading level0 row5\" >F</th>\n",
       "      <td id=\"T_0ea62_row5_col0\" class=\"data row5 col0\" >13</td>\n",
       "      <td id=\"T_0ea62_row5_col1\" class=\"data row5 col1\" >1.46%</td>\n",
       "      <td id=\"T_0ea62_row5_col2\" class=\"data row5 col2\" >0.615385</td>\n",
       "    </tr>\n",
       "    <tr>\n",
       "      <th id=\"T_0ea62_level0_row6\" class=\"row_heading level0 row6\" >G</th>\n",
       "      <td id=\"T_0ea62_row6_col0\" class=\"data row6 col0\" >4</td>\n",
       "      <td id=\"T_0ea62_row6_col1\" class=\"data row6 col1\" >0.45%</td>\n",
       "      <td id=\"T_0ea62_row6_col2\" class=\"data row6 col2\" >0.500000</td>\n",
       "    </tr>\n",
       "    <tr>\n",
       "      <th id=\"T_0ea62_level0_row7\" class=\"row_heading level0 row7\" >T</th>\n",
       "      <td id=\"T_0ea62_row7_col0\" class=\"data row7 col0\" >1</td>\n",
       "      <td id=\"T_0ea62_row7_col1\" class=\"data row7 col1\" >0.11%</td>\n",
       "      <td id=\"T_0ea62_row7_col2\" class=\"data row7 col2\" >0.000000</td>\n",
       "    </tr>\n",
       "    <tr>\n",
       "      <th id=\"T_0ea62_level0_row8\" class=\"row_heading level0 row8\" >X</th>\n",
       "      <td id=\"T_0ea62_row8_col0\" class=\"data row8 col0\" >687</td>\n",
       "      <td id=\"T_0ea62_row8_col1\" class=\"data row8 col1\" >77.10%</td>\n",
       "      <td id=\"T_0ea62_row8_col2\" class=\"data row8 col2\" >0.299854</td>\n",
       "    </tr>\n",
       "  </tbody>\n",
       "</table>\n"
      ],
      "text/plain": [
       "<pandas.io.formats.style.Styler at 0x7fc65991cf90>"
      ]
     },
     "metadata": {},
     "output_type": "display_data"
    },
    {
     "data": {
      "text/html": [
       "<style type=\"text/css\">\n",
       "#T_ca61b_row0_col0, #T_ca61b_row0_col1, #T_ca61b_row0_col2, #T_ca61b_row1_col0, #T_ca61b_row1_col1, #T_ca61b_row1_col2, #T_ca61b_row2_col0, #T_ca61b_row2_col1, #T_ca61b_row2_col2, #T_ca61b_row3_col0, #T_ca61b_row3_col1, #T_ca61b_row3_col2, #T_ca61b_row4_col0, #T_ca61b_row4_col1, #T_ca61b_row4_col2, #T_ca61b_row5_col0, #T_ca61b_row5_col1, #T_ca61b_row5_col2, #T_ca61b_row6_col0, #T_ca61b_row6_col1, #T_ca61b_row6_col2, #T_ca61b_row7_col0, #T_ca61b_row7_col1, #T_ca61b_row7_col2, #T_ca61b_row8_col0, #T_ca61b_row8_col1, #T_ca61b_row8_col2, #T_ca61b_row9_col0, #T_ca61b_row9_col1, #T_ca61b_row9_col2, #T_ca61b_row10_col0, #T_ca61b_row10_col1, #T_ca61b_row10_col2, #T_ca61b_row11_col0, #T_ca61b_row11_col1, #T_ca61b_row11_col2, #T_ca61b_row12_col0, #T_ca61b_row12_col1, #T_ca61b_row12_col2, #T_ca61b_row13_col0, #T_ca61b_row13_col1, #T_ca61b_row13_col2, #T_ca61b_row14_col0, #T_ca61b_row14_col1, #T_ca61b_row14_col2, #T_ca61b_row15_col0, #T_ca61b_row15_col1, #T_ca61b_row15_col2, #T_ca61b_row16_col0, #T_ca61b_row16_col1, #T_ca61b_row16_col2 {\n",
       "  text-align: center;\n",
       "}\n",
       "</style>\n",
       "<table id=\"T_ca61b_\" style='display:inline'>\n",
       "  <thead>\n",
       "    <tr>\n",
       "      <th class=\"blank level0\" >&nbsp;</th>\n",
       "      <th class=\"col_heading level0 col0\" >count</th>\n",
       "      <th class=\"col_heading level0 col1\" >percentage</th>\n",
       "      <th class=\"col_heading level0 col2\" >Survived</th>\n",
       "    </tr>\n",
       "    <tr>\n",
       "      <th class=\"index_name level0\" >Title</th>\n",
       "      <th class=\"blank col0\" >&nbsp;</th>\n",
       "      <th class=\"blank col1\" >&nbsp;</th>\n",
       "      <th class=\"blank col2\" >&nbsp;</th>\n",
       "    </tr>\n",
       "  </thead>\n",
       "  <tbody>\n",
       "    <tr>\n",
       "      <th id=\"T_ca61b_level0_row0\" class=\"row_heading level0 row0\" >Capt</th>\n",
       "      <td id=\"T_ca61b_row0_col0\" class=\"data row0 col0\" >1</td>\n",
       "      <td id=\"T_ca61b_row0_col1\" class=\"data row0 col1\" >0.11%</td>\n",
       "      <td id=\"T_ca61b_row0_col2\" class=\"data row0 col2\" >0.000000</td>\n",
       "    </tr>\n",
       "    <tr>\n",
       "      <th id=\"T_ca61b_level0_row1\" class=\"row_heading level0 row1\" >Col</th>\n",
       "      <td id=\"T_ca61b_row1_col0\" class=\"data row1 col0\" >2</td>\n",
       "      <td id=\"T_ca61b_row1_col1\" class=\"data row1 col1\" >0.22%</td>\n",
       "      <td id=\"T_ca61b_row1_col2\" class=\"data row1 col2\" >0.500000</td>\n",
       "    </tr>\n",
       "    <tr>\n",
       "      <th id=\"T_ca61b_level0_row2\" class=\"row_heading level0 row2\" >Countess</th>\n",
       "      <td id=\"T_ca61b_row2_col0\" class=\"data row2 col0\" >1</td>\n",
       "      <td id=\"T_ca61b_row2_col1\" class=\"data row2 col1\" >0.11%</td>\n",
       "      <td id=\"T_ca61b_row2_col2\" class=\"data row2 col2\" >1.000000</td>\n",
       "    </tr>\n",
       "    <tr>\n",
       "      <th id=\"T_ca61b_level0_row3\" class=\"row_heading level0 row3\" >Don</th>\n",
       "      <td id=\"T_ca61b_row3_col0\" class=\"data row3 col0\" >1</td>\n",
       "      <td id=\"T_ca61b_row3_col1\" class=\"data row3 col1\" >0.11%</td>\n",
       "      <td id=\"T_ca61b_row3_col2\" class=\"data row3 col2\" >0.000000</td>\n",
       "    </tr>\n",
       "    <tr>\n",
       "      <th id=\"T_ca61b_level0_row4\" class=\"row_heading level0 row4\" >Dr</th>\n",
       "      <td id=\"T_ca61b_row4_col0\" class=\"data row4 col0\" >7</td>\n",
       "      <td id=\"T_ca61b_row4_col1\" class=\"data row4 col1\" >0.79%</td>\n",
       "      <td id=\"T_ca61b_row4_col2\" class=\"data row4 col2\" >0.428571</td>\n",
       "    </tr>\n",
       "    <tr>\n",
       "      <th id=\"T_ca61b_level0_row5\" class=\"row_heading level0 row5\" >Jonkheer</th>\n",
       "      <td id=\"T_ca61b_row5_col0\" class=\"data row5 col0\" >1</td>\n",
       "      <td id=\"T_ca61b_row5_col1\" class=\"data row5 col1\" >0.11%</td>\n",
       "      <td id=\"T_ca61b_row5_col2\" class=\"data row5 col2\" >0.000000</td>\n",
       "    </tr>\n",
       "    <tr>\n",
       "      <th id=\"T_ca61b_level0_row6\" class=\"row_heading level0 row6\" >Lady</th>\n",
       "      <td id=\"T_ca61b_row6_col0\" class=\"data row6 col0\" >1</td>\n",
       "      <td id=\"T_ca61b_row6_col1\" class=\"data row6 col1\" >0.11%</td>\n",
       "      <td id=\"T_ca61b_row6_col2\" class=\"data row6 col2\" >1.000000</td>\n",
       "    </tr>\n",
       "    <tr>\n",
       "      <th id=\"T_ca61b_level0_row7\" class=\"row_heading level0 row7\" >Major</th>\n",
       "      <td id=\"T_ca61b_row7_col0\" class=\"data row7 col0\" >2</td>\n",
       "      <td id=\"T_ca61b_row7_col1\" class=\"data row7 col1\" >0.22%</td>\n",
       "      <td id=\"T_ca61b_row7_col2\" class=\"data row7 col2\" >0.500000</td>\n",
       "    </tr>\n",
       "    <tr>\n",
       "      <th id=\"T_ca61b_level0_row8\" class=\"row_heading level0 row8\" >Master</th>\n",
       "      <td id=\"T_ca61b_row8_col0\" class=\"data row8 col0\" >40</td>\n",
       "      <td id=\"T_ca61b_row8_col1\" class=\"data row8 col1\" >4.49%</td>\n",
       "      <td id=\"T_ca61b_row8_col2\" class=\"data row8 col2\" >0.575000</td>\n",
       "    </tr>\n",
       "    <tr>\n",
       "      <th id=\"T_ca61b_level0_row9\" class=\"row_heading level0 row9\" >Miss</th>\n",
       "      <td id=\"T_ca61b_row9_col0\" class=\"data row9 col0\" >182</td>\n",
       "      <td id=\"T_ca61b_row9_col1\" class=\"data row9 col1\" >20.43%</td>\n",
       "      <td id=\"T_ca61b_row9_col2\" class=\"data row9 col2\" >0.697802</td>\n",
       "    </tr>\n",
       "    <tr>\n",
       "      <th id=\"T_ca61b_level0_row10\" class=\"row_heading level0 row10\" >Mlle</th>\n",
       "      <td id=\"T_ca61b_row10_col0\" class=\"data row10 col0\" >2</td>\n",
       "      <td id=\"T_ca61b_row10_col1\" class=\"data row10 col1\" >0.22%</td>\n",
       "      <td id=\"T_ca61b_row10_col2\" class=\"data row10 col2\" >1.000000</td>\n",
       "    </tr>\n",
       "    <tr>\n",
       "      <th id=\"T_ca61b_level0_row11\" class=\"row_heading level0 row11\" >Mme</th>\n",
       "      <td id=\"T_ca61b_row11_col0\" class=\"data row11 col0\" >1</td>\n",
       "      <td id=\"T_ca61b_row11_col1\" class=\"data row11 col1\" >0.11%</td>\n",
       "      <td id=\"T_ca61b_row11_col2\" class=\"data row11 col2\" >1.000000</td>\n",
       "    </tr>\n",
       "    <tr>\n",
       "      <th id=\"T_ca61b_level0_row12\" class=\"row_heading level0 row12\" >Mr</th>\n",
       "      <td id=\"T_ca61b_row12_col0\" class=\"data row12 col0\" >517</td>\n",
       "      <td id=\"T_ca61b_row12_col1\" class=\"data row12 col1\" >58.02%</td>\n",
       "      <td id=\"T_ca61b_row12_col2\" class=\"data row12 col2\" >0.156673</td>\n",
       "    </tr>\n",
       "    <tr>\n",
       "      <th id=\"T_ca61b_level0_row13\" class=\"row_heading level0 row13\" >Mrs</th>\n",
       "      <td id=\"T_ca61b_row13_col0\" class=\"data row13 col0\" >125</td>\n",
       "      <td id=\"T_ca61b_row13_col1\" class=\"data row13 col1\" >14.03%</td>\n",
       "      <td id=\"T_ca61b_row13_col2\" class=\"data row13 col2\" >0.792000</td>\n",
       "    </tr>\n",
       "    <tr>\n",
       "      <th id=\"T_ca61b_level0_row14\" class=\"row_heading level0 row14\" >Ms</th>\n",
       "      <td id=\"T_ca61b_row14_col0\" class=\"data row14 col0\" >1</td>\n",
       "      <td id=\"T_ca61b_row14_col1\" class=\"data row14 col1\" >0.11%</td>\n",
       "      <td id=\"T_ca61b_row14_col2\" class=\"data row14 col2\" >1.000000</td>\n",
       "    </tr>\n",
       "    <tr>\n",
       "      <th id=\"T_ca61b_level0_row15\" class=\"row_heading level0 row15\" >Rev</th>\n",
       "      <td id=\"T_ca61b_row15_col0\" class=\"data row15 col0\" >6</td>\n",
       "      <td id=\"T_ca61b_row15_col1\" class=\"data row15 col1\" >0.67%</td>\n",
       "      <td id=\"T_ca61b_row15_col2\" class=\"data row15 col2\" >0.000000</td>\n",
       "    </tr>\n",
       "    <tr>\n",
       "      <th id=\"T_ca61b_level0_row16\" class=\"row_heading level0 row16\" >Sir</th>\n",
       "      <td id=\"T_ca61b_row16_col0\" class=\"data row16 col0\" >1</td>\n",
       "      <td id=\"T_ca61b_row16_col1\" class=\"data row16 col1\" >0.11%</td>\n",
       "      <td id=\"T_ca61b_row16_col2\" class=\"data row16 col2\" >1.000000</td>\n",
       "    </tr>\n",
       "  </tbody>\n",
       "</table>\n"
      ],
      "text/plain": [
       "<pandas.io.formats.style.Styler at 0x7fc659902ed0>"
      ]
     },
     "metadata": {},
     "output_type": "display_data"
    }
   ],
   "source": [
    "for col in find_categorical_columns(train_data_eda):\n",
    "    categorical_analysis(train_data_eda, col)"
   ]
  },
  {
   "cell_type": "markdown",
   "id": "334ab872",
   "metadata": {
    "papermill": {
     "duration": 0.022724,
     "end_time": "2023-03-26T19:08:32.826853",
     "exception": false,
     "start_time": "2023-03-26T19:08:32.804129",
     "status": "completed"
    },
    "tags": []
   },
   "source": [
    "Analyze numeric attributes."
   ]
  },
  {
   "cell_type": "code",
   "execution_count": 20,
   "id": "3b49120f",
   "metadata": {
    "_kg_hide-input": true,
    "execution": {
     "iopub.execute_input": "2023-03-26T19:08:32.875298Z",
     "iopub.status.busy": "2023-03-26T19:08:32.874141Z",
     "iopub.status.idle": "2023-03-26T19:08:33.797424Z",
     "shell.execute_reply": "2023-03-26T19:08:33.796098Z"
    },
    "papermill": {
     "duration": 0.950098,
     "end_time": "2023-03-26T19:08:33.800183",
     "exception": false,
     "start_time": "2023-03-26T19:08:32.850085",
     "status": "completed"
    },
    "tags": []
   },
   "outputs": [
    {
     "data": {
      "image/png": "[encoded data removed]",
      "text/plain": [
       "<Figure size 1200x400 with 2 Axes>"
      ]
     },
     "metadata": {},
     "output_type": "display_data"
    }
   ],
   "source": [
    "def plot_age_density(df):\n",
    "    bins_range = range(int(min(df.Age)), int(max(df.Age)) + 1, 1)\n",
    "    fig, (ax0, ax1) = plt.subplots(1, 2, figsize=(12, 4))\n",
    "\n",
    "    sns.histplot(data=df, x='Age', kde=True, hue=\"Survived\", bins=bins_range, \n",
    "                    palette = {1:'green', 0:'red'}, common_norm=False, ax=ax0)\n",
    "    ax0.set_title(\"Density plot of Age by surviving\")\n",
    "    ax0.set_xlim(0, int(max(df.Age)) + 1)\n",
    "\n",
    "    age_bucket_size = 15\n",
    "    hist_bins = range(0,int(max(df.Age)) + 1,age_bucket_size)\n",
    "    df[\"AgeBucket\"] = df[\"Age\"] // age_bucket_size * age_bucket_size\n",
    "    age_buckets_means = df[[\"AgeBucket\", \"Survived\"]].groupby(['AgeBucket']).mean()\n",
    "    (df[df['Survived'] == 1]['AgeBucket']\n",
    "         .hist(ax = ax1, bins = hist_bins, color = 'green', alpha = 0.5))\n",
    "    (df[df['Survived'] == 0]['AgeBucket']\n",
    "         .hist(ax = ax1, bins = hist_bins, color = 'red', alpha = 0.5))\n",
    "    ax1.set_title(\"Survived/not survived rate by AgeBucket\", fontsize=10, pad=10)\n",
    "    ax1.set_xlabel('AgeBucket')\n",
    "    ax1.set_ylabel('Count')\n",
    "    ax1.set_xlim(0, int(max(df.Age)) + 1)\n",
    "    plt.xticks(hist_bins)\n",
    "    rects = ax1.patches\n",
    "    for rect, label in zip(rects, age_buckets_means.values[:-1]):\n",
    "        height = rect.get_height()\n",
    "        label_pcnt = \"{:.0%}\".format(label[0])\n",
    "        ax1.text(rect.get_x() + rect.get_width() / 2, height+0.01, label_pcnt,\n",
    "                ha='center', va='bottom')\n",
    "    plt.show()\n",
    "plot_age_density(train_data_eda)"
   ]
  },
  {
   "cell_type": "markdown",
   "id": "34efe9dd",
   "metadata": {
    "papermill": {
     "duration": 0.024486,
     "end_time": "2023-03-26T19:08:33.848369",
     "exception": false,
     "start_time": "2023-03-26T19:08:33.823883",
     "status": "completed"
    },
    "tags": []
   },
   "source": [
    "More accurate average age values."
   ]
  },
  {
   "cell_type": "code",
   "execution_count": 21,
   "id": "d8b4b010",
   "metadata": {
    "execution": {
     "iopub.execute_input": "2023-03-26T19:08:33.897917Z",
     "iopub.status.busy": "2023-03-26T19:08:33.897060Z",
     "iopub.status.idle": "2023-03-26T19:08:33.912643Z",
     "shell.execute_reply": "2023-03-26T19:08:33.911343Z"
    },
    "papermill": {
     "duration": 0.04319,
     "end_time": "2023-03-26T19:08:33.915275",
     "exception": false,
     "start_time": "2023-03-26T19:08:33.872085",
     "status": "completed"
    },
    "tags": []
   },
   "outputs": [
    {
     "data": {
      "text/html": [
       "<div>\n",
       "<style scoped>\n",
       "    .dataframe tbody tr th:only-of-type {\n",
       "        vertical-align: middle;\n",
       "    }\n",
       "\n",
       "    .dataframe tbody tr th {\n",
       "        vertical-align: top;\n",
       "    }\n",
       "\n",
       "    .dataframe thead th {\n",
       "        text-align: right;\n",
       "    }\n",
       "</style>\n",
       "<table border=\"1\" class=\"dataframe\">\n",
       "  <thead>\n",
       "    <tr style=\"text-align: right;\">\n",
       "      <th></th>\n",
       "      <th>Age</th>\n",
       "    </tr>\n",
       "    <tr>\n",
       "      <th>Survived</th>\n",
       "      <th></th>\n",
       "    </tr>\n",
       "  </thead>\n",
       "  <tbody>\n",
       "    <tr>\n",
       "      <th>0</th>\n",
       "      <td>30.626179</td>\n",
       "    </tr>\n",
       "    <tr>\n",
       "      <th>1</th>\n",
       "      <td>28.343690</td>\n",
       "    </tr>\n",
       "  </tbody>\n",
       "</table>\n",
       "</div>"
      ],
      "text/plain": [
       "                Age\n",
       "Survived           \n",
       "0         30.626179\n",
       "1         28.343690"
      ]
     },
     "execution_count": 21,
     "metadata": {},
     "output_type": "execute_result"
    }
   ],
   "source": [
    "train_data_eda[[\"Survived\", \"Age\"]].groupby(['Survived']).mean()"
   ]
  },
  {
   "cell_type": "code",
   "execution_count": 22,
   "id": "d00f96d4",
   "metadata": {
    "_kg_hide-input": true,
    "execution": {
     "iopub.execute_input": "2023-03-26T19:08:33.964845Z",
     "iopub.status.busy": "2023-03-26T19:08:33.964048Z",
     "iopub.status.idle": "2023-03-26T19:08:34.239112Z",
     "shell.execute_reply": "2023-03-26T19:08:34.237796Z"
    },
    "papermill": {
     "duration": 0.303079,
     "end_time": "2023-03-26T19:08:34.242038",
     "exception": false,
     "start_time": "2023-03-26T19:08:33.938959",
     "status": "completed"
    },
    "tags": []
   },
   "outputs": [
    {
     "data": {
      "image/png": "[encoded data removed]",
      "text/plain": [
       "<Figure size 640x480 with 1 Axes>"
      ]
     },
     "metadata": {},
     "output_type": "display_data"
    }
   ],
   "source": [
    "def plot_fare_density(df):\n",
    "    ax = sns.kdeplot(data=df, x='Fare', hue=\"Survived\", palette = {1:'green', 0:'red'}, \n",
    "                     fill=True, common_norm=False)\n",
    "    plt.legend(['Survived', 'Died'])\n",
    "    plt.title('Density plot of Fare by surviving')\n",
    "    ax.set(xlabel='Fare')\n",
    "    plt.xlim(-30,300)\n",
    "    plt.show()\n",
    "plot_fare_density(train_data_eda)"
   ]
  },
  {
   "cell_type": "code",
   "execution_count": 23,
   "id": "1b684dcb",
   "metadata": {
    "execution": {
     "iopub.execute_input": "2023-03-26T19:08:34.295616Z",
     "iopub.status.busy": "2023-03-26T19:08:34.295186Z",
     "iopub.status.idle": "2023-03-26T19:08:34.310718Z",
     "shell.execute_reply": "2023-03-26T19:08:34.309449Z"
    },
    "papermill": {
     "duration": 0.046242,
     "end_time": "2023-03-26T19:08:34.313603",
     "exception": false,
     "start_time": "2023-03-26T19:08:34.267361",
     "status": "completed"
    },
    "tags": []
   },
   "outputs": [
    {
     "data": {
      "text/html": [
       "<div>\n",
       "<style scoped>\n",
       "    .dataframe tbody tr th:only-of-type {\n",
       "        vertical-align: middle;\n",
       "    }\n",
       "\n",
       "    .dataframe tbody tr th {\n",
       "        vertical-align: top;\n",
       "    }\n",
       "\n",
       "    .dataframe thead th {\n",
       "        text-align: right;\n",
       "    }\n",
       "</style>\n",
       "<table border=\"1\" class=\"dataframe\">\n",
       "  <thead>\n",
       "    <tr style=\"text-align: right;\">\n",
       "      <th></th>\n",
       "      <th>Fare</th>\n",
       "    </tr>\n",
       "    <tr>\n",
       "      <th>Survived</th>\n",
       "      <th></th>\n",
       "    </tr>\n",
       "  </thead>\n",
       "  <tbody>\n",
       "    <tr>\n",
       "      <th>0</th>\n",
       "      <td>22.117887</td>\n",
       "    </tr>\n",
       "    <tr>\n",
       "      <th>1</th>\n",
       "      <td>48.395408</td>\n",
       "    </tr>\n",
       "  </tbody>\n",
       "</table>\n",
       "</div>"
      ],
      "text/plain": [
       "               Fare\n",
       "Survived           \n",
       "0         22.117887\n",
       "1         48.395408"
      ]
     },
     "execution_count": 23,
     "metadata": {},
     "output_type": "execute_result"
    }
   ],
   "source": [
    "train_data_eda[[\"Survived\", \"Fare\"]].groupby(['Survived']).mean()"
   ]
  },
  {
   "cell_type": "markdown",
   "id": "a42e8e1f",
   "metadata": {
    "papermill": {
     "duration": 0.024509,
     "end_time": "2023-03-26T19:08:34.363034",
     "exception": false,
     "start_time": "2023-03-26T19:08:34.338525",
     "status": "completed"
    },
    "tags": []
   },
   "source": [
    "We see that the survival rate for Pclass is relatively high. So let's see how other attributes are correlated with it. There are also missing values in the Age column, so let us see how it is distributed by Pclass and Sex."
   ]
  },
  {
   "cell_type": "code",
   "execution_count": 24,
   "id": "990f3f9c",
   "metadata": {
    "_kg_hide-input": true,
    "execution": {
     "iopub.execute_input": "2023-03-26T19:08:34.414264Z",
     "iopub.status.busy": "2023-03-26T19:08:34.413818Z",
     "iopub.status.idle": "2023-03-26T19:08:36.554748Z",
     "shell.execute_reply": "2023-03-26T19:08:36.553763Z"
    },
    "papermill": {
     "duration": 2.169408,
     "end_time": "2023-03-26T19:08:36.557166",
     "exception": false,
     "start_time": "2023-03-26T19:08:34.387758",
     "status": "completed"
    },
    "tags": []
   },
   "outputs": [
    {
     "data": {
      "image/png": "[encoded data removed]",
      "text/plain": [
       "<Figure size 1800x1000 with 8 Axes>"
      ]
     },
     "metadata": {},
     "output_type": "display_data"
    }
   ],
   "source": [
    "def plot_pclass_distributions(df):\n",
    "    fig, axes = plt.subplots(2, 4, figsize=(18, 10), sharex=False, sharey=False)\n",
    "    sns.barplot(data=df, x='Pclass', y='Survived', color=\"green\", ax=axes[0, 0])\n",
    "    axes[0, 0].bar_label(axes[0, 0].containers[0])\n",
    "    axes[0, 0].set_title(\"Survive rate by Pclass\")\n",
    "\n",
    "    sns.barplot(data=df, x='Pclass', y='Fare', ax=axes[0, 1])\n",
    "    axes[0, 1].bar_label(axes[0, 1].containers[0])\n",
    "    axes[0, 1].set_title(\"Mean Fare by Pclass\")\n",
    "\n",
    "    sns.barplot(data=df, x='Pclass', y='Age', hue=\"Sex\", ax=axes[0, 2])\n",
    "    for bars in axes[0, 2].containers:\n",
    "            axes[0, 2].bar_label(bars, fmt='%.1f')\n",
    "    axes[0, 2].set_title(\"Mean Age by Pclass and Sex\")\n",
    "    \n",
    "    age_limit = 16\n",
    "    sns.countplot(data=df.query(f'Age <= {age_limit}'), x='Pclass', ax=axes[0, 3])\n",
    "    axes[0, 3].bar_label(axes[0, 3].containers[0])\n",
    "    axes[0, 3].set_title(f\"Age <= {age_limit} by Pclass\")\n",
    "\n",
    "    sns.barplot(data=df, x='Pclass', y='SibSp', ax=axes[1, 0])\n",
    "    axes[1, 0].bar_label(axes[1, 0].containers[0])\n",
    "    axes[1, 0].set_title(\"Mean SibSp by Pclass\")\n",
    "\n",
    "    sns.barplot(data=df, x='Pclass', y='Parch', ax=axes[1, 1])\n",
    "    axes[1, 1].bar_label(axes[1, 1].containers[0])\n",
    "    axes[1, 1].set_title(\"Mean Parch by Pclass\")\n",
    "    \n",
    "    pclass_grouped_df = (df.groupby(\"Pclass\")[\"Cabin\"]\n",
    "        .apply(lambda x: x.notna().sum()/x.shape[0]).reset_index())\n",
    "    sns.barplot(data=pclass_grouped_df, x=\"Pclass\", y=\"Cabin\", ax=axes[1, 2])\n",
    "    axes[1, 2].bar_label(axes[1, 2].containers[0])\n",
    "    axes[1, 2].set(ylabel='HasCabin')\n",
    "    axes[1, 2].set_title(\"HasCabin by Pclass\")\n",
    "\n",
    "    sns.barplot(data=df, x='Pclass', y='Embarked', ax=axes[1, 3])\n",
    "    axes[1, 3].bar_label(axes[1, 3].containers[0])\n",
    "    axes[1, 3].set_title(\"Mean Pclass by Embarked\")\n",
    "    \n",
    "    plt.show()\n",
    "    \n",
    "plot_pclass_distributions(train_data_eda)"
   ]
  },
  {
   "cell_type": "markdown",
   "id": "b42ebf4c",
   "metadata": {
    "papermill": {
     "duration": 0.026751,
     "end_time": "2023-03-26T19:08:36.611240",
     "exception": false,
     "start_time": "2023-03-26T19:08:36.584489",
     "status": "completed"
    },
    "tags": []
   },
   "source": [
    "We see that empty cabin can be useful information. Mean age by Pclass and sex can also be used to fill in missing age values."
   ]
  },
  {
   "cell_type": "markdown",
   "id": "5940a743",
   "metadata": {
    "papermill": {
     "duration": 0.026436,
     "end_time": "2023-03-26T19:08:36.664981",
     "exception": false,
     "start_time": "2023-03-26T19:08:36.638545",
     "status": "completed"
    },
    "tags": []
   },
   "source": [
    "Add and modify some columns for correlation analysis."
   ]
  },
  {
   "cell_type": "code",
   "execution_count": 25,
   "id": "144d65ae",
   "metadata": {
    "execution": {
     "iopub.execute_input": "2023-03-26T19:08:36.723051Z",
     "iopub.status.busy": "2023-03-26T19:08:36.722362Z",
     "iopub.status.idle": "2023-03-26T19:08:36.731101Z",
     "shell.execute_reply": "2023-03-26T19:08:36.730149Z"
    },
    "papermill": {
     "duration": 0.040118,
     "end_time": "2023-03-26T19:08:36.733635",
     "exception": false,
     "start_time": "2023-03-26T19:08:36.693517",
     "status": "completed"
    },
    "tags": []
   },
   "outputs": [],
   "source": [
    "le = LabelEncoder()\n",
    "train_data_eda['Sex'] = le.fit_transform(train_data_eda['Sex'])\n",
    "train_data_eda['Embarked'] = le.fit_transform(train_data_eda['Embarked'])\n",
    "train_data_eda['CabinCat'] = le.fit_transform(train_data_eda['CabinCat'])\n",
    "train_data_eda['Title'] = le.fit_transform(train_data_eda['Title'])"
   ]
  },
  {
   "cell_type": "code",
   "execution_count": 26,
   "id": "402e6c81",
   "metadata": {
    "execution": {
     "iopub.execute_input": "2023-03-26T19:08:36.789315Z",
     "iopub.status.busy": "2023-03-26T19:08:36.788585Z",
     "iopub.status.idle": "2023-03-26T19:08:37.357861Z",
     "shell.execute_reply": "2023-03-26T19:08:37.356375Z"
    },
    "papermill": {
     "duration": 0.602122,
     "end_time": "2023-03-26T19:08:37.362424",
     "exception": false,
     "start_time": "2023-03-26T19:08:36.760302",
     "status": "completed"
    },
    "tags": []
   },
   "outputs": [
    {
     "data": {
      "image/png": "[encoded data removed]",
      "text/plain": [
       "<Figure size 400x400 with 2 Axes>"
      ]
     },
     "metadata": {},
     "output_type": "display_data"
    }
   ],
   "source": [
    "corr_matrix_abs = train_data_eda.corr().abs()\n",
    "mask = np.triu(np.ones_like(corr_matrix_abs, dtype=bool))\n",
    "fig, ax = plt.subplots(figsize=(4,4))\n",
    "sns.heatmap(corr_matrix_abs, mask=mask, annot=True,\\\n",
    "    linewidths=0.5, fmt=\".1f\", ax=ax, cmap=\"Reds\", square=True)\n",
    "plt.suptitle('Correlation of Features', size='xx-large')\n",
    "plt.show()"
   ]
  },
  {
   "cell_type": "markdown",
   "id": "43c84225",
   "metadata": {
    "papermill": {
     "duration": 0.028144,
     "end_time": "2023-03-26T19:08:37.419595",
     "exception": false,
     "start_time": "2023-03-26T19:08:37.391451",
     "status": "completed"
    },
    "tags": []
   },
   "source": [
    "Correlations between attributes and Survived."
   ]
  },
  {
   "cell_type": "code",
   "execution_count": 27,
   "id": "b09c95a3",
   "metadata": {
    "execution": {
     "iopub.execute_input": "2023-03-26T19:08:37.478957Z",
     "iopub.status.busy": "2023-03-26T19:08:37.478530Z",
     "iopub.status.idle": "2023-03-26T19:08:37.491145Z",
     "shell.execute_reply": "2023-03-26T19:08:37.489791Z"
    },
    "papermill": {
     "duration": 0.04511,
     "end_time": "2023-03-26T19:08:37.493614",
     "exception": false,
     "start_time": "2023-03-26T19:08:37.448504",
     "status": "completed"
    },
    "tags": []
   },
   "outputs": [
    {
     "data": {
      "text/html": [
       "<div>\n",
       "<style scoped>\n",
       "    .dataframe tbody tr th:only-of-type {\n",
       "        vertical-align: middle;\n",
       "    }\n",
       "\n",
       "    .dataframe tbody tr th {\n",
       "        vertical-align: top;\n",
       "    }\n",
       "\n",
       "    .dataframe thead th {\n",
       "        text-align: right;\n",
       "    }\n",
       "</style>\n",
       "<table border=\"1\" class=\"dataframe\">\n",
       "  <thead>\n",
       "    <tr style=\"text-align: right;\">\n",
       "      <th></th>\n",
       "      <th>Survived</th>\n",
       "    </tr>\n",
       "  </thead>\n",
       "  <tbody>\n",
       "    <tr>\n",
       "      <th>Survived</th>\n",
       "      <td>1.000000</td>\n",
       "    </tr>\n",
       "    <tr>\n",
       "      <th>Sex</th>\n",
       "      <td>0.543351</td>\n",
       "    </tr>\n",
       "    <tr>\n",
       "      <th>Pclass</th>\n",
       "      <td>0.338481</td>\n",
       "    </tr>\n",
       "    <tr>\n",
       "      <th>CabinCat</th>\n",
       "      <td>0.301116</td>\n",
       "    </tr>\n",
       "    <tr>\n",
       "      <th>Fare</th>\n",
       "      <td>0.257307</td>\n",
       "    </tr>\n",
       "    <tr>\n",
       "      <th>Title</th>\n",
       "      <td>0.201345</td>\n",
       "    </tr>\n",
       "    <tr>\n",
       "      <th>Embarked</th>\n",
       "      <td>0.163517</td>\n",
       "    </tr>\n",
       "    <tr>\n",
       "      <th>Parch</th>\n",
       "      <td>0.081629</td>\n",
       "    </tr>\n",
       "    <tr>\n",
       "      <th>Age</th>\n",
       "      <td>0.077221</td>\n",
       "    </tr>\n",
       "    <tr>\n",
       "      <th>AgeBucket</th>\n",
       "      <td>0.058848</td>\n",
       "    </tr>\n",
       "    <tr>\n",
       "      <th>SibSp</th>\n",
       "      <td>0.035322</td>\n",
       "    </tr>\n",
       "  </tbody>\n",
       "</table>\n",
       "</div>"
      ],
      "text/plain": [
       "           Survived\n",
       "Survived   1.000000\n",
       "Sex        0.543351\n",
       "Pclass     0.338481\n",
       "CabinCat   0.301116\n",
       "Fare       0.257307\n",
       "Title      0.201345\n",
       "Embarked   0.163517\n",
       "Parch      0.081629\n",
       "Age        0.077221\n",
       "AgeBucket  0.058848\n",
       "SibSp      0.035322"
      ]
     },
     "execution_count": 27,
     "metadata": {},
     "output_type": "execute_result"
    }
   ],
   "source": [
    "(corr_matrix_abs['Survived']\n",
    "     .sort_values(ascending=False)\n",
    "     .to_frame())"
   ]
  },
  {
   "cell_type": "markdown",
   "id": "9c3799ff",
   "metadata": {
    "papermill": {
     "duration": 0.028678,
     "end_time": "2023-03-26T19:08:37.551955",
     "exception": false,
     "start_time": "2023-03-26T19:08:37.523277",
     "status": "completed"
    },
    "tags": []
   },
   "source": [
    "### EDA Summary\n",
    "1. The training dataset is relatively small, consisting of less than 1000 samples.\n",
    "1. The number of attributes is also not large. It has 11 features, including five categorical and six numerical attributes, including the binary target (survived, died).\n",
    "1. The following features have missing values: Age, Embarked, Fare and Cabin.\n",
    "1. 1st class passengers had a higher chance of surviving, while 3rd class passengers mostly died.\n",
    "1. Only 38% of passengers survived the disaster.\n",
    "1. The more exclusive the class, the older the passengers.\n",
    "1. Children and teenagers had a higher chance of survival, especially those in 1st class.\n",
    "1. In terms of gender, women had a higher survival rate of 74% compared to men who had a survival rate of 19%.\n",
    "\n",
    "Strategy for the feature ingeneering:\n",
    "1. Pclass - leave as is.\n",
    "1. Name - extract titles and encode them with OneHotEncoding.\n",
    "1. Sex - encode with OneHotEncoding.\n",
    "1. Age - impute missing values with k-Nearest Neighbors or median of individual groups.\n",
    "1. Ticket - probably this attribute should be dropped.\n",
    "1. Fare - impute with median.\n",
    "1. Cabin - create a separate feature ('CabinCat') with categories for only the first letter and empty values.\n",
    "1. Embarked - fill in the missing values with the most frequent one and encode with OneHotEncoding."
   ]
  },
  {
   "cell_type": "markdown",
   "id": "ecf1ca85",
   "metadata": {
    "papermill": {
     "duration": 0.028427,
     "end_time": "2023-03-26T19:08:37.608828",
     "exception": false,
     "start_time": "2023-03-26T19:08:37.580401",
     "status": "completed"
    },
    "tags": []
   },
   "source": [
    "# Preprocessing Pipeline"
   ]
  },
  {
   "cell_type": "markdown",
   "id": "479970a3",
   "metadata": {
    "papermill": {
     "duration": 0.028378,
     "end_time": "2023-03-26T19:08:37.665929",
     "exception": false,
     "start_time": "2023-03-26T19:08:37.637551",
     "status": "completed"
    },
    "tags": []
   },
   "source": [
    "Create Transformer which adds new features to the dataframe: Title, CabinCat."
   ]
  },
  {
   "cell_type": "code",
   "execution_count": 28,
   "id": "28ff51b3",
   "metadata": {
    "execution": {
     "iopub.execute_input": "2023-03-26T19:08:37.727588Z",
     "iopub.status.busy": "2023-03-26T19:08:37.727189Z",
     "iopub.status.idle": "2023-03-26T19:08:37.738347Z",
     "shell.execute_reply": "2023-03-26T19:08:37.736984Z"
    },
    "papermill": {
     "duration": 0.045926,
     "end_time": "2023-03-26T19:08:37.740865",
     "exception": false,
     "start_time": "2023-03-26T19:08:37.694939",
     "status": "completed"
    },
    "tags": []
   },
   "outputs": [],
   "source": [
    "class NewFeatureAdder(BaseEstimator, TransformerMixin):\n",
    "    def __init__(self):\n",
    "        pass\n",
    "\n",
    "    def fit(self, X, y=None):\n",
    "        if not isinstance(X, pd.DataFrame):\n",
    "            raise TypeError(\"X must be a pandas DataFrame.\")\n",
    "        self.n_features_in_ = X.shape[1]\n",
    "        self.feature_names_in_ = np.array(X.columns, dtype=object)\n",
    "        return self\n",
    "\n",
    "    def transform(self, X, y=None):\n",
    "        if not isinstance(X, pd.DataFrame):\n",
    "            raise TypeError(\"X must be a pandas DataFrame.\")\n",
    "        if not self.n_features_in_ == X.shape[1]:\n",
    "            raise ValueError(\"Unexpected number of features.\")\n",
    "        check_is_fitted(self)\n",
    "        Xc = X.copy()\n",
    "        Xc[\"Title\"] = Xc[\"Name\"].str.extract(r\" ([A-Za-z]+)\\.\")\n",
    "        common_titles = [\"Mr\", \"Miss\", \"Mrs\", \"Master\"]\n",
    "        unique_titles = np.setdiff1d(Xc[\"Title\"], common_titles).tolist()\n",
    "        Xc[\"Title\"] = Xc[\"Title\"].replace(unique_titles, \"Other\")\n",
    "        Xc[\"CabinCat\"] = Xc[\"Cabin\"].apply(lambda x: \"X\" if pd.isna(x) else x[0])\n",
    "        return Xc\n",
    "\n",
    "    def get_feature_names_out(self, input_features=None):\n",
    "        return np.r_[self.feature_names_in_, [\"Title\", \"CabinCat\"]]"
   ]
  },
  {
   "cell_type": "markdown",
   "id": "914e096c",
   "metadata": {
    "papermill": {
     "duration": 0.029022,
     "end_time": "2023-03-26T19:08:37.798798",
     "exception": false,
     "start_time": "2023-03-26T19:08:37.769776",
     "status": "completed"
    },
    "tags": []
   },
   "source": [
    "Check how it works."
   ]
  },
  {
   "cell_type": "code",
   "execution_count": 29,
   "id": "29fdf0c7",
   "metadata": {
    "execution": {
     "iopub.execute_input": "2023-03-26T19:08:37.859085Z",
     "iopub.status.busy": "2023-03-26T19:08:37.858381Z",
     "iopub.status.idle": "2023-03-26T19:08:37.882650Z",
     "shell.execute_reply": "2023-03-26T19:08:37.881780Z"
    },
    "papermill": {
     "duration": 0.057535,
     "end_time": "2023-03-26T19:08:37.884972",
     "exception": false,
     "start_time": "2023-03-26T19:08:37.827437",
     "status": "completed"
    },
    "tags": []
   },
   "outputs": [
    {
     "data": {
      "text/html": [
       "<div>\n",
       "<style scoped>\n",
       "    .dataframe tbody tr th:only-of-type {\n",
       "        vertical-align: middle;\n",
       "    }\n",
       "\n",
       "    .dataframe tbody tr th {\n",
       "        vertical-align: top;\n",
       "    }\n",
       "\n",
       "    .dataframe thead th {\n",
       "        text-align: right;\n",
       "    }\n",
       "</style>\n",
       "<table border=\"1\" class=\"dataframe\">\n",
       "  <thead>\n",
       "    <tr style=\"text-align: right;\">\n",
       "      <th></th>\n",
       "      <th>Survived</th>\n",
       "      <th>Pclass</th>\n",
       "      <th>Name</th>\n",
       "      <th>Sex</th>\n",
       "      <th>Age</th>\n",
       "      <th>SibSp</th>\n",
       "      <th>Parch</th>\n",
       "      <th>Ticket</th>\n",
       "      <th>Fare</th>\n",
       "      <th>Cabin</th>\n",
       "      <th>Embarked</th>\n",
       "      <th>Title</th>\n",
       "      <th>CabinCat</th>\n",
       "    </tr>\n",
       "    <tr>\n",
       "      <th>PassengerId</th>\n",
       "      <th></th>\n",
       "      <th></th>\n",
       "      <th></th>\n",
       "      <th></th>\n",
       "      <th></th>\n",
       "      <th></th>\n",
       "      <th></th>\n",
       "      <th></th>\n",
       "      <th></th>\n",
       "      <th></th>\n",
       "      <th></th>\n",
       "      <th></th>\n",
       "      <th></th>\n",
       "    </tr>\n",
       "  </thead>\n",
       "  <tbody>\n",
       "    <tr>\n",
       "      <th>1</th>\n",
       "      <td>0</td>\n",
       "      <td>3</td>\n",
       "      <td>Braund, Mr. Owen Harris</td>\n",
       "      <td>male</td>\n",
       "      <td>22.0</td>\n",
       "      <td>1</td>\n",
       "      <td>0</td>\n",
       "      <td>A/5 21171</td>\n",
       "      <td>7.2500</td>\n",
       "      <td>NaN</td>\n",
       "      <td>S</td>\n",
       "      <td>Mr</td>\n",
       "      <td>X</td>\n",
       "    </tr>\n",
       "    <tr>\n",
       "      <th>2</th>\n",
       "      <td>1</td>\n",
       "      <td>1</td>\n",
       "      <td>Cumings, Mrs. John Bradley (Florence Briggs Th...</td>\n",
       "      <td>female</td>\n",
       "      <td>38.0</td>\n",
       "      <td>1</td>\n",
       "      <td>0</td>\n",
       "      <td>PC 17599</td>\n",
       "      <td>71.2833</td>\n",
       "      <td>C85</td>\n",
       "      <td>C</td>\n",
       "      <td>Mrs</td>\n",
       "      <td>C</td>\n",
       "    </tr>\n",
       "    <tr>\n",
       "      <th>3</th>\n",
       "      <td>1</td>\n",
       "      <td>3</td>\n",
       "      <td>Heikkinen, Miss. Laina</td>\n",
       "      <td>female</td>\n",
       "      <td>26.0</td>\n",
       "      <td>0</td>\n",
       "      <td>0</td>\n",
       "      <td>STON/O2. 3101282</td>\n",
       "      <td>7.9250</td>\n",
       "      <td>NaN</td>\n",
       "      <td>S</td>\n",
       "      <td>Miss</td>\n",
       "      <td>X</td>\n",
       "    </tr>\n",
       "    <tr>\n",
       "      <th>4</th>\n",
       "      <td>1</td>\n",
       "      <td>1</td>\n",
       "      <td>Futrelle, Mrs. Jacques Heath (Lily May Peel)</td>\n",
       "      <td>female</td>\n",
       "      <td>35.0</td>\n",
       "      <td>1</td>\n",
       "      <td>0</td>\n",
       "      <td>113803</td>\n",
       "      <td>53.1000</td>\n",
       "      <td>C123</td>\n",
       "      <td>S</td>\n",
       "      <td>Mrs</td>\n",
       "      <td>C</td>\n",
       "    </tr>\n",
       "    <tr>\n",
       "      <th>5</th>\n",
       "      <td>0</td>\n",
       "      <td>3</td>\n",
       "      <td>Allen, Mr. William Henry</td>\n",
       "      <td>male</td>\n",
       "      <td>35.0</td>\n",
       "      <td>0</td>\n",
       "      <td>0</td>\n",
       "      <td>373450</td>\n",
       "      <td>8.0500</td>\n",
       "      <td>NaN</td>\n",
       "      <td>S</td>\n",
       "      <td>Mr</td>\n",
       "      <td>X</td>\n",
       "    </tr>\n",
       "  </tbody>\n",
       "</table>\n",
       "</div>"
      ],
      "text/plain": [
       "             Survived  Pclass  \\\n",
       "PassengerId                     \n",
       "1                   0       3   \n",
       "2                   1       1   \n",
       "3                   1       3   \n",
       "4                   1       1   \n",
       "5                   0       3   \n",
       "\n",
       "                                                          Name     Sex   Age  \\\n",
       "PassengerId                                                                    \n",
       "1                                      Braund, Mr. Owen Harris    male  22.0   \n",
       "2            Cumings, Mrs. John Bradley (Florence Briggs Th...  female  38.0   \n",
       "3                                       Heikkinen, Miss. Laina  female  26.0   \n",
       "4                 Futrelle, Mrs. Jacques Heath (Lily May Peel)  female  35.0   \n",
       "5                                     Allen, Mr. William Henry    male  35.0   \n",
       "\n",
       "             SibSp  Parch            Ticket     Fare Cabin Embarked Title  \\\n",
       "PassengerId                                                                 \n",
       "1                1      0         A/5 21171   7.2500   NaN        S    Mr   \n",
       "2                1      0          PC 17599  71.2833   C85        C   Mrs   \n",
       "3                0      0  STON/O2. 3101282   7.9250   NaN        S  Miss   \n",
       "4                1      0            113803  53.1000  C123        S   Mrs   \n",
       "5                0      0            373450   8.0500   NaN        S    Mr   \n",
       "\n",
       "            CabinCat  \n",
       "PassengerId           \n",
       "1                  X  \n",
       "2                  C  \n",
       "3                  X  \n",
       "4                  C  \n",
       "5                  X  "
      ]
     },
     "execution_count": 29,
     "metadata": {},
     "output_type": "execute_result"
    }
   ],
   "source": [
    "nfa = NewFeatureAdder()\n",
    "train_data_nfa = nfa.fit_transform(train_data)\n",
    "train_data_nfa.head()"
   ]
  },
  {
   "cell_type": "markdown",
   "id": "cdd5e846",
   "metadata": {
    "papermill": {
     "duration": 0.028669,
     "end_time": "2023-03-26T19:08:37.942750",
     "exception": false,
     "start_time": "2023-03-26T19:08:37.914081",
     "status": "completed"
    },
    "tags": []
   },
   "source": [
    "Create preprocessing pipeline that prepares data for machine learning algorithms."
   ]
  },
  {
   "cell_type": "code",
   "execution_count": 30,
   "id": "f63292ee",
   "metadata": {
    "execution": {
     "iopub.execute_input": "2023-03-26T19:08:38.003381Z",
     "iopub.status.busy": "2023-03-26T19:08:38.002639Z",
     "iopub.status.idle": "2023-03-26T19:08:38.111954Z",
     "shell.execute_reply": "2023-03-26T19:08:38.111070Z"
    },
    "papermill": {
     "duration": 0.142622,
     "end_time": "2023-03-26T19:08:38.114580",
     "exception": false,
     "start_time": "2023-03-26T19:08:37.971958",
     "status": "completed"
    },
    "tags": []
   },
   "outputs": [
    {
     "data": {
      "text/html": [
       "<style>#sk-835ceb7e-35dc-4aee-aa8f-e3e1035a40ba {color: black;background-color: white;}#sk-835ceb7e-35dc-4aee-aa8f-e3e1035a40ba pre{padding: 0;}#sk-835ceb7e-35dc-4aee-aa8f-e3e1035a40ba div.sk-toggleable {background-color: white;}#sk-835ceb7e-35dc-4aee-aa8f-e3e1035a40ba label.sk-toggleable__label {cursor: pointer;display: block;width: 100%;margin-bottom: 0;padding: 0.3em;box-sizing: border-box;text-align: center;}#sk-835ceb7e-35dc-4aee-aa8f-e3e1035a40ba label.sk-toggleable__label-arrow:before {content: \"▸\";float: left;margin-right: 0.25em;color: #696969;}#sk-835ceb7e-35dc-4aee-aa8f-e3e1035a40ba label.sk-toggleable__label-arrow:hover:before {color: black;}#sk-835ceb7e-35dc-4aee-aa8f-e3e1035a40ba div.sk-estimator:hover label.sk-toggleable__label-arrow:before {color: black;}#sk-835ceb7e-35dc-4aee-aa8f-e3e1035a40ba div.sk-toggleable__content {max-height: 0;max-width: 0;overflow: hidden;text-align: left;background-color: #f0f8ff;}#sk-835ceb7e-35dc-4aee-aa8f-e3e1035a40ba div.sk-toggleable__content pre {margin: 0.2em;color: black;border-radius: 0.25em;background-color: #f0f8ff;}#sk-835ceb7e-35dc-4aee-aa8f-e3e1035a40ba input.sk-toggleable__control:checked~div.sk-toggleable__content {max-height: 200px;max-width: 100%;overflow: auto;}#sk-835ceb7e-35dc-4aee-aa8f-e3e1035a40ba input.sk-toggleable__control:checked~label.sk-toggleable__label-arrow:before {content: \"▾\";}#sk-835ceb7e-35dc-4aee-aa8f-e3e1035a40ba div.sk-estimator input.sk-toggleable__control:checked~label.sk-toggleable__label {background-color: #d4ebff;}#sk-835ceb7e-35dc-4aee-aa8f-e3e1035a40ba div.sk-label input.sk-toggleable__control:checked~label.sk-toggleable__label {background-color: #d4ebff;}#sk-835ceb7e-35dc-4aee-aa8f-e3e1035a40ba input.sk-hidden--visually {border: 0;clip: rect(1px 1px 1px 1px);clip: rect(1px, 1px, 1px, 1px);height: 1px;margin: -1px;overflow: hidden;padding: 0;position: absolute;width: 1px;}#sk-835ceb7e-35dc-4aee-aa8f-e3e1035a40ba div.sk-estimator {font-family: monospace;background-color: #f0f8ff;border: 1px dotted black;border-radius: 0.25em;box-sizing: border-box;margin-bottom: 0.5em;}#sk-835ceb7e-35dc-4aee-aa8f-e3e1035a40ba div.sk-estimator:hover {background-color: #d4ebff;}#sk-835ceb7e-35dc-4aee-aa8f-e3e1035a40ba div.sk-parallel-item::after {content: \"\";width: 100%;border-bottom: 1px solid gray;flex-grow: 1;}#sk-835ceb7e-35dc-4aee-aa8f-e3e1035a40ba div.sk-label:hover label.sk-toggleable__label {background-color: #d4ebff;}#sk-835ceb7e-35dc-4aee-aa8f-e3e1035a40ba div.sk-serial::before {content: \"\";position: absolute;border-left: 1px solid gray;box-sizing: border-box;top: 2em;bottom: 0;left: 50%;}#sk-835ceb7e-35dc-4aee-aa8f-e3e1035a40ba div.sk-serial {display: flex;flex-direction: column;align-items: center;background-color: white;padding-right: 0.2em;padding-left: 0.2em;}#sk-835ceb7e-35dc-4aee-aa8f-e3e1035a40ba div.sk-item {z-index: 1;}#sk-835ceb7e-35dc-4aee-aa8f-e3e1035a40ba div.sk-parallel {display: flex;align-items: stretch;justify-content: center;background-color: white;}#sk-835ceb7e-35dc-4aee-aa8f-e3e1035a40ba div.sk-parallel::before {content: \"\";position: absolute;border-left: 1px solid gray;box-sizing: border-box;top: 2em;bottom: 0;left: 50%;}#sk-835ceb7e-35dc-4aee-aa8f-e3e1035a40ba div.sk-parallel-item {display: flex;flex-direction: column;position: relative;background-color: white;}#sk-835ceb7e-35dc-4aee-aa8f-e3e1035a40ba div.sk-parallel-item:first-child::after {align-self: flex-end;width: 50%;}#sk-835ceb7e-35dc-4aee-aa8f-e3e1035a40ba div.sk-parallel-item:last-child::after {align-self: flex-start;width: 50%;}#sk-835ceb7e-35dc-4aee-aa8f-e3e1035a40ba div.sk-parallel-item:only-child::after {width: 0;}#sk-835ceb7e-35dc-4aee-aa8f-e3e1035a40ba div.sk-dashed-wrapped {border: 1px dashed gray;margin: 0 0.4em 0.5em 0.4em;box-sizing: border-box;padding-bottom: 0.4em;background-color: white;position: relative;}#sk-835ceb7e-35dc-4aee-aa8f-e3e1035a40ba div.sk-label label {font-family: monospace;font-weight: bold;background-color: white;display: inline-block;line-height: 1.2em;}#sk-835ceb7e-35dc-4aee-aa8f-e3e1035a40ba div.sk-label-container {position: relative;z-index: 2;text-align: center;}#sk-835ceb7e-35dc-4aee-aa8f-e3e1035a40ba div.sk-container {/* jupyter's `normalize.less` sets `[hidden] { display: none; }` but bootstrap.min.css set `[hidden] { display: none !important; }` so we also need the `!important` here to be able to override the default hidden behavior on the sphinx rendered scikit-learn.org. See: https://github.com/scikit-learn/scikit-learn/issues/21755 */display: inline-block !important;position: relative;}#sk-835ceb7e-35dc-4aee-aa8f-e3e1035a40ba div.sk-text-repr-fallback {display: none;}</style><div id=\"sk-835ceb7e-35dc-4aee-aa8f-e3e1035a40ba\" class=\"sk-top-container\"><div class=\"sk-text-repr-fallback\"><pre>Pipeline(steps=[(&#x27;newfeatureadder&#x27;, NewFeatureAdder()),\n",
       "                (&#x27;columntransformer&#x27;,\n",
       "                 ColumnTransformer(transformers=[(&#x27;standardscaler&#x27;,\n",
       "                                                  StandardScaler(), [&#x27;Age&#x27;]),\n",
       "                                                 (&#x27;pipeline-1&#x27;,\n",
       "                                                  Pipeline(steps=[(&#x27;simpleimputer&#x27;,\n",
       "                                                                   SimpleImputer(strategy=&#x27;most_frequent&#x27;)),\n",
       "                                                                  (&#x27;standardscaler&#x27;,\n",
       "                                                                   StandardScaler())]),\n",
       "                                                  [&#x27;SibSp&#x27;, &#x27;Parch&#x27;, &#x27;Pclass&#x27;]),\n",
       "                                                 (&#x27;pipeline-2&#x27;,\n",
       "                                                  Pipeline(steps=[(&#x27;simpleimputer&#x27;,\n",
       "                                                                   SimpleImputer(strategy=&#x27;median&#x27;)),\n",
       "                                                                  (&#x27;standardscaler&#x27;,\n",
       "                                                                   StandardScaler())]),\n",
       "                                                  [&#x27;Fare&#x27;]),\n",
       "                                                 (&#x27;pipeline-3&#x27;,\n",
       "                                                  Pipeline(steps=[(&#x27;simpleimputer&#x27;,\n",
       "                                                                   SimpleImputer(strategy=&#x27;most_frequent&#x27;)),\n",
       "                                                                  (&#x27;onehotencoder&#x27;,\n",
       "                                                                   OneHotEncoder(handle_unknown=&#x27;ignore&#x27;,\n",
       "                                                                                 sparse=False))]),\n",
       "                                                  [&#x27;Sex&#x27;, &#x27;Embarked&#x27;,\n",
       "                                                   &#x27;CabinCat&#x27;, &#x27;Title&#x27;])],\n",
       "                                   verbose_feature_names_out=False)),\n",
       "                (&#x27;knnimputer&#x27;, KNNImputer())])</pre><b>Please rerun this cell to show the HTML repr or trust the notebook.</b></div><div class=\"sk-container\" hidden><div class=\"sk-item sk-dashed-wrapped\"><div class=\"sk-label-container\"><div class=\"sk-label sk-toggleable\"><input class=\"sk-toggleable__control sk-hidden--visually\" id=\"f2406421-4def-4460-9e47-99ccc3c1d570\" type=\"checkbox\" ><label for=\"f2406421-4def-4460-9e47-99ccc3c1d570\" class=\"sk-toggleable__label sk-toggleable__label-arrow\">Pipeline</label><div class=\"sk-toggleable__content\"><pre>Pipeline(steps=[(&#x27;newfeatureadder&#x27;, NewFeatureAdder()),\n",
       "                (&#x27;columntransformer&#x27;,\n",
       "                 ColumnTransformer(transformers=[(&#x27;standardscaler&#x27;,\n",
       "                                                  StandardScaler(), [&#x27;Age&#x27;]),\n",
       "                                                 (&#x27;pipeline-1&#x27;,\n",
       "                                                  Pipeline(steps=[(&#x27;simpleimputer&#x27;,\n",
       "                                                                   SimpleImputer(strategy=&#x27;most_frequent&#x27;)),\n",
       "                                                                  (&#x27;standardscaler&#x27;,\n",
       "                                                                   StandardScaler())]),\n",
       "                                                  [&#x27;SibSp&#x27;, &#x27;Parch&#x27;, &#x27;Pclass&#x27;]),\n",
       "                                                 (&#x27;pipeline-2&#x27;,\n",
       "                                                  Pipeline(steps=[(&#x27;simpleimputer&#x27;,\n",
       "                                                                   SimpleImputer(strategy=&#x27;median&#x27;)),\n",
       "                                                                  (&#x27;standardscaler&#x27;,\n",
       "                                                                   StandardScaler())]),\n",
       "                                                  [&#x27;Fare&#x27;]),\n",
       "                                                 (&#x27;pipeline-3&#x27;,\n",
       "                                                  Pipeline(steps=[(&#x27;simpleimputer&#x27;,\n",
       "                                                                   SimpleImputer(strategy=&#x27;most_frequent&#x27;)),\n",
       "                                                                  (&#x27;onehotencoder&#x27;,\n",
       "                                                                   OneHotEncoder(handle_unknown=&#x27;ignore&#x27;,\n",
       "                                                                                 sparse=False))]),\n",
       "                                                  [&#x27;Sex&#x27;, &#x27;Embarked&#x27;,\n",
       "                                                   &#x27;CabinCat&#x27;, &#x27;Title&#x27;])],\n",
       "                                   verbose_feature_names_out=False)),\n",
       "                (&#x27;knnimputer&#x27;, KNNImputer())])</pre></div></div></div><div class=\"sk-serial\"><div class=\"sk-item\"><div class=\"sk-estimator sk-toggleable\"><input class=\"sk-toggleable__control sk-hidden--visually\" id=\"b1cf9ea3-f1f6-4fb6-ab75-ee909cb7749a\" type=\"checkbox\" ><label for=\"b1cf9ea3-f1f6-4fb6-ab75-ee909cb7749a\" class=\"sk-toggleable__label sk-toggleable__label-arrow\">NewFeatureAdder</label><div class=\"sk-toggleable__content\"><pre>NewFeatureAdder()</pre></div></div></div><div class=\"sk-item sk-dashed-wrapped\"><div class=\"sk-label-container\"><div class=\"sk-label sk-toggleable\"><input class=\"sk-toggleable__control sk-hidden--visually\" id=\"d2c12d96-6565-4490-b230-e12891d029f9\" type=\"checkbox\" ><label for=\"d2c12d96-6565-4490-b230-e12891d029f9\" class=\"sk-toggleable__label sk-toggleable__label-arrow\">columntransformer: ColumnTransformer</label><div class=\"sk-toggleable__content\"><pre>ColumnTransformer(transformers=[(&#x27;standardscaler&#x27;, StandardScaler(), [&#x27;Age&#x27;]),\n",
       "                                (&#x27;pipeline-1&#x27;,\n",
       "                                 Pipeline(steps=[(&#x27;simpleimputer&#x27;,\n",
       "                                                  SimpleImputer(strategy=&#x27;most_frequent&#x27;)),\n",
       "                                                 (&#x27;standardscaler&#x27;,\n",
       "                                                  StandardScaler())]),\n",
       "                                 [&#x27;SibSp&#x27;, &#x27;Parch&#x27;, &#x27;Pclass&#x27;]),\n",
       "                                (&#x27;pipeline-2&#x27;,\n",
       "                                 Pipeline(steps=[(&#x27;simpleimputer&#x27;,\n",
       "                                                  SimpleImputer(strategy=&#x27;median&#x27;)),\n",
       "                                                 (&#x27;standardscaler&#x27;,\n",
       "                                                  StandardScaler())]),\n",
       "                                 [&#x27;Fare&#x27;]),\n",
       "                                (&#x27;pipeline-3&#x27;,\n",
       "                                 Pipeline(steps=[(&#x27;simpleimputer&#x27;,\n",
       "                                                  SimpleImputer(strategy=&#x27;most_frequent&#x27;)),\n",
       "                                                 (&#x27;onehotencoder&#x27;,\n",
       "                                                  OneHotEncoder(handle_unknown=&#x27;ignore&#x27;,\n",
       "                                                                sparse=False))]),\n",
       "                                 [&#x27;Sex&#x27;, &#x27;Embarked&#x27;, &#x27;CabinCat&#x27;, &#x27;Title&#x27;])],\n",
       "                  verbose_feature_names_out=False)</pre></div></div></div><div class=\"sk-parallel\"><div class=\"sk-parallel-item\"><div class=\"sk-item\"><div class=\"sk-label-container\"><div class=\"sk-label sk-toggleable\"><input class=\"sk-toggleable__control sk-hidden--visually\" id=\"20da4c84-ff17-4b94-91ca-9dafaa1ffdee\" type=\"checkbox\" ><label for=\"20da4c84-ff17-4b94-91ca-9dafaa1ffdee\" class=\"sk-toggleable__label sk-toggleable__label-arrow\">standardscaler</label><div class=\"sk-toggleable__content\"><pre>[&#x27;Age&#x27;]</pre></div></div></div><div class=\"sk-serial\"><div class=\"sk-item\"><div class=\"sk-estimator sk-toggleable\"><input class=\"sk-toggleable__control sk-hidden--visually\" id=\"6e78fcfa-d7d8-462d-a962-2fe5b529e63f\" type=\"checkbox\" ><label for=\"6e78fcfa-d7d8-462d-a962-2fe5b529e63f\" class=\"sk-toggleable__label sk-toggleable__label-arrow\">StandardScaler</label><div class=\"sk-toggleable__content\"><pre>StandardScaler()</pre></div></div></div></div></div></div><div class=\"sk-parallel-item\"><div class=\"sk-item\"><div class=\"sk-label-container\"><div class=\"sk-label sk-toggleable\"><input class=\"sk-toggleable__control sk-hidden--visually\" id=\"67e778ad-3ef4-4b47-b239-8165f8f30e29\" type=\"checkbox\" ><label for=\"67e778ad-3ef4-4b47-b239-8165f8f30e29\" class=\"sk-toggleable__label sk-toggleable__label-arrow\">pipeline-1</label><div class=\"sk-toggleable__content\"><pre>[&#x27;SibSp&#x27;, &#x27;Parch&#x27;, &#x27;Pclass&#x27;]</pre></div></div></div><div class=\"sk-serial\"><div class=\"sk-item\"><div class=\"sk-serial\"><div class=\"sk-item\"><div class=\"sk-estimator sk-toggleable\"><input class=\"sk-toggleable__control sk-hidden--visually\" id=\"5fe63f55-5b51-42e8-9723-e913d0cbac9d\" type=\"checkbox\" ><label for=\"5fe63f55-5b51-42e8-9723-e913d0cbac9d\" class=\"sk-toggleable__label sk-toggleable__label-arrow\">SimpleImputer</label><div class=\"sk-toggleable__content\"><pre>SimpleImputer(strategy=&#x27;most_frequent&#x27;)</pre></div></div></div><div class=\"sk-item\"><div class=\"sk-estimator sk-toggleable\"><input class=\"sk-toggleable__control sk-hidden--visually\" id=\"60c8a6ba-f085-4dba-a5d7-77cd766c725a\" type=\"checkbox\" ><label for=\"60c8a6ba-f085-4dba-a5d7-77cd766c725a\" class=\"sk-toggleable__label sk-toggleable__label-arrow\">StandardScaler</label><div class=\"sk-toggleable__content\"><pre>StandardScaler()</pre></div></div></div></div></div></div></div></div><div class=\"sk-parallel-item\"><div class=\"sk-item\"><div class=\"sk-label-container\"><div class=\"sk-label sk-toggleable\"><input class=\"sk-toggleable__control sk-hidden--visually\" id=\"14d6d39b-e1e9-4eab-866a-53a56a2767da\" type=\"checkbox\" ><label for=\"14d6d39b-e1e9-4eab-866a-53a56a2767da\" class=\"sk-toggleable__label sk-toggleable__label-arrow\">pipeline-2</label><div class=\"sk-toggleable__content\"><pre>[&#x27;Fare&#x27;]</pre></div></div></div><div class=\"sk-serial\"><div class=\"sk-item\"><div class=\"sk-serial\"><div class=\"sk-item\"><div class=\"sk-estimator sk-toggleable\"><input class=\"sk-toggleable__control sk-hidden--visually\" id=\"96647546-17c4-4045-9830-de29f09112ad\" type=\"checkbox\" ><label for=\"96647546-17c4-4045-9830-de29f09112ad\" class=\"sk-toggleable__label sk-toggleable__label-arrow\">SimpleImputer</label><div class=\"sk-toggleable__content\"><pre>SimpleImputer(strategy=&#x27;median&#x27;)</pre></div></div></div><div class=\"sk-item\"><div class=\"sk-estimator sk-toggleable\"><input class=\"sk-toggleable__control sk-hidden--visually\" id=\"2b5f67b9-60ad-4ff2-b73b-a27f8683aa40\" type=\"checkbox\" ><label for=\"2b5f67b9-60ad-4ff2-b73b-a27f8683aa40\" class=\"sk-toggleable__label sk-toggleable__label-arrow\">StandardScaler</label><div class=\"sk-toggleable__content\"><pre>StandardScaler()</pre></div></div></div></div></div></div></div></div><div class=\"sk-parallel-item\"><div class=\"sk-item\"><div class=\"sk-label-container\"><div class=\"sk-label sk-toggleable\"><input class=\"sk-toggleable__control sk-hidden--visually\" id=\"8bcf2c54-356c-41c6-91d6-102183d79724\" type=\"checkbox\" ><label for=\"8bcf2c54-356c-41c6-91d6-102183d79724\" class=\"sk-toggleable__label sk-toggleable__label-arrow\">pipeline-3</label><div class=\"sk-toggleable__content\"><pre>[&#x27;Sex&#x27;, &#x27;Embarked&#x27;, &#x27;CabinCat&#x27;, &#x27;Title&#x27;]</pre></div></div></div><div class=\"sk-serial\"><div class=\"sk-item\"><div class=\"sk-serial\"><div class=\"sk-item\"><div class=\"sk-estimator sk-toggleable\"><input class=\"sk-toggleable__control sk-hidden--visually\" id=\"556218da-22bb-4af0-9f96-414c6c72e95c\" type=\"checkbox\" ><label for=\"556218da-22bb-4af0-9f96-414c6c72e95c\" class=\"sk-toggleable__label sk-toggleable__label-arrow\">SimpleImputer</label><div class=\"sk-toggleable__content\"><pre>SimpleImputer(strategy=&#x27;most_frequent&#x27;)</pre></div></div></div><div class=\"sk-item\"><div class=\"sk-estimator sk-toggleable\"><input class=\"sk-toggleable__control sk-hidden--visually\" id=\"85a4707a-803d-4807-886e-d7eb67538a3a\" type=\"checkbox\" ><label for=\"85a4707a-803d-4807-886e-d7eb67538a3a\" class=\"sk-toggleable__label sk-toggleable__label-arrow\">OneHotEncoder</label><div class=\"sk-toggleable__content\"><pre>OneHotEncoder(handle_unknown=&#x27;ignore&#x27;, sparse=False)</pre></div></div></div></div></div></div></div></div></div></div><div class=\"sk-item\"><div class=\"sk-estimator sk-toggleable\"><input class=\"sk-toggleable__control sk-hidden--visually\" id=\"22e34168-af94-4548-8a47-53603a234422\" type=\"checkbox\" ><label for=\"22e34168-af94-4548-8a47-53603a234422\" class=\"sk-toggleable__label sk-toggleable__label-arrow\">KNNImputer</label><div class=\"sk-toggleable__content\"><pre>KNNImputer()</pre></div></div></div></div></div></div></div>"
      ],
      "text/plain": [
       "Pipeline(steps=[('newfeatureadder', NewFeatureAdder()),\n",
       "                ('columntransformer',\n",
       "                 ColumnTransformer(transformers=[('standardscaler',\n",
       "                                                  StandardScaler(), ['Age']),\n",
       "                                                 ('pipeline-1',\n",
       "                                                  Pipeline(steps=[('simpleimputer',\n",
       "                                                                   SimpleImputer(strategy='most_frequent')),\n",
       "                                                                  ('standardscaler',\n",
       "                                                                   StandardScaler())]),\n",
       "                                                  ['SibSp', 'Parch', 'Pclass']),\n",
       "                                                 ('pipeline-2',\n",
       "                                                  Pipeline(steps=[('simpleimputer',\n",
       "                                                                   SimpleImputer(strategy='median')),\n",
       "                                                                  ('standardscaler',\n",
       "                                                                   StandardScaler())]),\n",
       "                                                  ['Fare']),\n",
       "                                                 ('pipeline-3',\n",
       "                                                  Pipeline(steps=[('simpleimputer',\n",
       "                                                                   SimpleImputer(strategy='most_frequent')),\n",
       "                                                                  ('onehotencoder',\n",
       "                                                                   OneHotEncoder(handle_unknown='ignore',\n",
       "                                                                                 sparse=False))]),\n",
       "                                                  ['Sex', 'Embarked',\n",
       "                                                   'CabinCat', 'Title'])],\n",
       "                                   verbose_feature_names_out=False)),\n",
       "                ('knnimputer', KNNImputer())])"
      ]
     },
     "execution_count": 30,
     "metadata": {},
     "output_type": "execute_result"
    }
   ],
   "source": [
    "preprocessor = make_pipeline(\n",
    "    NewFeatureAdder(),\n",
    "    make_column_transformer(\n",
    "        (StandardScaler(), [\"Age\"]),\n",
    "        (make_pipeline(\n",
    "            SimpleImputer(strategy=\"most_frequent\"),\n",
    "            StandardScaler(),\n",
    "        ), ['SibSp', 'Parch', \"Pclass\"]),\n",
    "        (make_pipeline(\n",
    "            SimpleImputer(strategy=\"median\"),\n",
    "            StandardScaler(),\n",
    "        ), ['Fare']),\n",
    "        (make_pipeline(\n",
    "                SimpleImputer(strategy=\"most_frequent\"),\n",
    "                OneHotEncoder(sparse=False, handle_unknown='ignore'),\n",
    "        ), [\"Sex\", \"Embarked\", \"CabinCat\", \"Title\"]),\n",
    "        verbose_feature_names_out=False,\n",
    "    ),\n",
    "    # At this stage, only the `Age` attribute needs imputation.\n",
    "    KNNImputer(n_neighbors=5)\n",
    ")\n",
    "\n",
    "set_config(display=\"diagram\")\n",
    "preprocessor"
   ]
  },
  {
   "cell_type": "code",
   "execution_count": 31,
   "id": "28c8ceaa",
   "metadata": {
    "execution": {
     "iopub.execute_input": "2023-03-26T19:08:38.177335Z",
     "iopub.status.busy": "2023-03-26T19:08:38.176617Z",
     "iopub.status.idle": "2023-03-26T19:08:38.181386Z",
     "shell.execute_reply": "2023-03-26T19:08:38.180333Z"
    },
    "papermill": {
     "duration": 0.03905,
     "end_time": "2023-03-26T19:08:38.183837",
     "exception": false,
     "start_time": "2023-03-26T19:08:38.144787",
     "status": "completed"
    },
    "tags": []
   },
   "outputs": [],
   "source": [
    "full_pipeline = Pipeline([\n",
    "    ('preprocessor', preprocessor),\n",
    "    ('model', None),\n",
    "])"
   ]
  },
  {
   "cell_type": "markdown",
   "id": "173f8a0c",
   "metadata": {
    "papermill": {
     "duration": 0.029504,
     "end_time": "2023-03-26T19:08:38.243635",
     "exception": false,
     "start_time": "2023-03-26T19:08:38.214131",
     "status": "completed"
    },
    "tags": []
   },
   "source": [
    "Check how the pipeline works."
   ]
  },
  {
   "cell_type": "code",
   "execution_count": 32,
   "id": "650f43c8",
   "metadata": {
    "execution": {
     "iopub.execute_input": "2023-03-26T19:08:38.304560Z",
     "iopub.status.busy": "2023-03-26T19:08:38.304137Z",
     "iopub.status.idle": "2023-03-26T19:08:38.372300Z",
     "shell.execute_reply": "2023-03-26T19:08:38.370456Z"
    },
    "papermill": {
     "duration": 0.103886,
     "end_time": "2023-03-26T19:08:38.376806",
     "exception": false,
     "start_time": "2023-03-26T19:08:38.272920",
     "status": "completed"
    },
    "tags": []
   },
   "outputs": [],
   "source": [
    "train_data_prep = train_data.copy()\n",
    "train_data_prep_transformed = preprocessor.fit_transform(train_data_prep)"
   ]
  },
  {
   "cell_type": "code",
   "execution_count": 33,
   "id": "f2bafb0c",
   "metadata": {
    "execution": {
     "iopub.execute_input": "2023-03-26T19:08:38.497069Z",
     "iopub.status.busy": "2023-03-26T19:08:38.496635Z",
     "iopub.status.idle": "2023-03-26T19:08:38.531614Z",
     "shell.execute_reply": "2023-03-26T19:08:38.530108Z"
    },
    "papermill": {
     "duration": 0.08254,
     "end_time": "2023-03-26T19:08:38.534508",
     "exception": false,
     "start_time": "2023-03-26T19:08:38.451968",
     "status": "completed"
    },
    "tags": []
   },
   "outputs": [
    {
     "data": {
      "text/html": [
       "<div>\n",
       "<style scoped>\n",
       "    .dataframe tbody tr th:only-of-type {\n",
       "        vertical-align: middle;\n",
       "    }\n",
       "\n",
       "    .dataframe tbody tr th {\n",
       "        vertical-align: top;\n",
       "    }\n",
       "\n",
       "    .dataframe thead th {\n",
       "        text-align: right;\n",
       "    }\n",
       "</style>\n",
       "<table border=\"1\" class=\"dataframe\">\n",
       "  <thead>\n",
       "    <tr style=\"text-align: right;\">\n",
       "      <th></th>\n",
       "      <th>Age</th>\n",
       "      <th>SibSp</th>\n",
       "      <th>Parch</th>\n",
       "      <th>Pclass</th>\n",
       "      <th>Fare</th>\n",
       "      <th>Sex_female</th>\n",
       "      <th>Sex_male</th>\n",
       "      <th>Embarked_C</th>\n",
       "      <th>Embarked_Q</th>\n",
       "      <th>Embarked_S</th>\n",
       "      <th>CabinCat_A</th>\n",
       "      <th>CabinCat_B</th>\n",
       "      <th>CabinCat_C</th>\n",
       "      <th>CabinCat_D</th>\n",
       "      <th>CabinCat_E</th>\n",
       "      <th>CabinCat_F</th>\n",
       "      <th>CabinCat_G</th>\n",
       "      <th>CabinCat_T</th>\n",
       "      <th>CabinCat_X</th>\n",
       "      <th>Title_Master</th>\n",
       "      <th>Title_Miss</th>\n",
       "      <th>Title_Mr</th>\n",
       "      <th>Title_Mrs</th>\n",
       "      <th>Title_Other</th>\n",
       "    </tr>\n",
       "  </thead>\n",
       "  <tbody>\n",
       "    <tr>\n",
       "      <th>0</th>\n",
       "      <td>-0.530377</td>\n",
       "      <td>0.432793</td>\n",
       "      <td>-0.473674</td>\n",
       "      <td>0.827377</td>\n",
       "      <td>-0.502445</td>\n",
       "      <td>0.0</td>\n",
       "      <td>1.0</td>\n",
       "      <td>0.0</td>\n",
       "      <td>0.0</td>\n",
       "      <td>1.0</td>\n",
       "      <td>0.0</td>\n",
       "      <td>0.0</td>\n",
       "      <td>0.0</td>\n",
       "      <td>0.0</td>\n",
       "      <td>0.0</td>\n",
       "      <td>0.0</td>\n",
       "      <td>0.0</td>\n",
       "      <td>0.0</td>\n",
       "      <td>1.0</td>\n",
       "      <td>0.0</td>\n",
       "      <td>0.0</td>\n",
       "      <td>1.0</td>\n",
       "      <td>0.0</td>\n",
       "      <td>0.0</td>\n",
       "    </tr>\n",
       "    <tr>\n",
       "      <th>1</th>\n",
       "      <td>0.571831</td>\n",
       "      <td>0.432793</td>\n",
       "      <td>-0.473674</td>\n",
       "      <td>-1.566107</td>\n",
       "      <td>0.786845</td>\n",
       "      <td>1.0</td>\n",
       "      <td>0.0</td>\n",
       "      <td>1.0</td>\n",
       "      <td>0.0</td>\n",
       "      <td>0.0</td>\n",
       "      <td>0.0</td>\n",
       "      <td>0.0</td>\n",
       "      <td>1.0</td>\n",
       "      <td>0.0</td>\n",
       "      <td>0.0</td>\n",
       "      <td>0.0</td>\n",
       "      <td>0.0</td>\n",
       "      <td>0.0</td>\n",
       "      <td>0.0</td>\n",
       "      <td>0.0</td>\n",
       "      <td>0.0</td>\n",
       "      <td>0.0</td>\n",
       "      <td>1.0</td>\n",
       "      <td>0.0</td>\n",
       "    </tr>\n",
       "    <tr>\n",
       "      <th>2</th>\n",
       "      <td>-0.254825</td>\n",
       "      <td>-0.474545</td>\n",
       "      <td>-0.473674</td>\n",
       "      <td>0.827377</td>\n",
       "      <td>-0.488854</td>\n",
       "      <td>1.0</td>\n",
       "      <td>0.0</td>\n",
       "      <td>0.0</td>\n",
       "      <td>0.0</td>\n",
       "      <td>1.0</td>\n",
       "      <td>0.0</td>\n",
       "      <td>0.0</td>\n",
       "      <td>0.0</td>\n",
       "      <td>0.0</td>\n",
       "      <td>0.0</td>\n",
       "      <td>0.0</td>\n",
       "      <td>0.0</td>\n",
       "      <td>0.0</td>\n",
       "      <td>1.0</td>\n",
       "      <td>0.0</td>\n",
       "      <td>1.0</td>\n",
       "      <td>0.0</td>\n",
       "      <td>0.0</td>\n",
       "      <td>0.0</td>\n",
       "    </tr>\n",
       "    <tr>\n",
       "      <th>3</th>\n",
       "      <td>0.365167</td>\n",
       "      <td>0.432793</td>\n",
       "      <td>-0.473674</td>\n",
       "      <td>-1.566107</td>\n",
       "      <td>0.420730</td>\n",
       "      <td>1.0</td>\n",
       "      <td>0.0</td>\n",
       "      <td>0.0</td>\n",
       "      <td>0.0</td>\n",
       "      <td>1.0</td>\n",
       "      <td>0.0</td>\n",
       "      <td>0.0</td>\n",
       "      <td>1.0</td>\n",
       "      <td>0.0</td>\n",
       "      <td>0.0</td>\n",
       "      <td>0.0</td>\n",
       "      <td>0.0</td>\n",
       "      <td>0.0</td>\n",
       "      <td>0.0</td>\n",
       "      <td>0.0</td>\n",
       "      <td>0.0</td>\n",
       "      <td>0.0</td>\n",
       "      <td>1.0</td>\n",
       "      <td>0.0</td>\n",
       "    </tr>\n",
       "    <tr>\n",
       "      <th>4</th>\n",
       "      <td>0.365167</td>\n",
       "      <td>-0.474545</td>\n",
       "      <td>-0.473674</td>\n",
       "      <td>0.827377</td>\n",
       "      <td>-0.486337</td>\n",
       "      <td>0.0</td>\n",
       "      <td>1.0</td>\n",
       "      <td>0.0</td>\n",
       "      <td>0.0</td>\n",
       "      <td>1.0</td>\n",
       "      <td>0.0</td>\n",
       "      <td>0.0</td>\n",
       "      <td>0.0</td>\n",
       "      <td>0.0</td>\n",
       "      <td>0.0</td>\n",
       "      <td>0.0</td>\n",
       "      <td>0.0</td>\n",
       "      <td>0.0</td>\n",
       "      <td>1.0</td>\n",
       "      <td>0.0</td>\n",
       "      <td>0.0</td>\n",
       "      <td>1.0</td>\n",
       "      <td>0.0</td>\n",
       "      <td>0.0</td>\n",
       "    </tr>\n",
       "  </tbody>\n",
       "</table>\n",
       "</div>"
      ],
      "text/plain": [
       "        Age     SibSp     Parch    Pclass      Fare  Sex_female  Sex_male  \\\n",
       "0 -0.530377  0.432793 -0.473674  0.827377 -0.502445         0.0       1.0   \n",
       "1  0.571831  0.432793 -0.473674 -1.566107  0.786845         1.0       0.0   \n",
       "2 -0.254825 -0.474545 -0.473674  0.827377 -0.488854         1.0       0.0   \n",
       "3  0.365167  0.432793 -0.473674 -1.566107  0.420730         1.0       0.0   \n",
       "4  0.365167 -0.474545 -0.473674  0.827377 -0.486337         0.0       1.0   \n",
       "\n",
       "   Embarked_C  Embarked_Q  Embarked_S  CabinCat_A  CabinCat_B  CabinCat_C  \\\n",
       "0         0.0         0.0         1.0         0.0         0.0         0.0   \n",
       "1         1.0         0.0         0.0         0.0         0.0         1.0   \n",
       "2         0.0         0.0         1.0         0.0         0.0         0.0   \n",
       "3         0.0         0.0         1.0         0.0         0.0         1.0   \n",
       "4         0.0         0.0         1.0         0.0         0.0         0.0   \n",
       "\n",
       "   CabinCat_D  CabinCat_E  CabinCat_F  CabinCat_G  CabinCat_T  CabinCat_X  \\\n",
       "0         0.0         0.0         0.0         0.0         0.0         1.0   \n",
       "1         0.0         0.0         0.0         0.0         0.0         0.0   \n",
       "2         0.0         0.0         0.0         0.0         0.0         1.0   \n",
       "3         0.0         0.0         0.0         0.0         0.0         0.0   \n",
       "4         0.0         0.0         0.0         0.0         0.0         1.0   \n",
       "\n",
       "   Title_Master  Title_Miss  Title_Mr  Title_Mrs  Title_Other  \n",
       "0           0.0         0.0       1.0        0.0          0.0  \n",
       "1           0.0         0.0       0.0        1.0          0.0  \n",
       "2           0.0         1.0       0.0        0.0          0.0  \n",
       "3           0.0         0.0       0.0        1.0          0.0  \n",
       "4           0.0         0.0       1.0        0.0          0.0  "
      ]
     },
     "execution_count": 33,
     "metadata": {},
     "output_type": "execute_result"
    }
   ],
   "source": [
    "feature_names_out = preprocessor.get_feature_names_out()\n",
    "pd.DataFrame(train_data_prep_transformed, columns=feature_names_out).head()"
   ]
  },
  {
   "cell_type": "code",
   "execution_count": 34,
   "id": "5fad9ecd",
   "metadata": {
    "execution": {
     "iopub.execute_input": "2023-03-26T19:08:38.596957Z",
     "iopub.status.busy": "2023-03-26T19:08:38.596526Z",
     "iopub.status.idle": "2023-03-26T19:08:38.604039Z",
     "shell.execute_reply": "2023-03-26T19:08:38.602880Z"
    },
    "papermill": {
     "duration": 0.041869,
     "end_time": "2023-03-26T19:08:38.606739",
     "exception": false,
     "start_time": "2023-03-26T19:08:38.564870",
     "status": "completed"
    },
    "tags": []
   },
   "outputs": [
    {
     "data": {
      "text/plain": [
       "array(['Age', 'SibSp', 'Parch', 'Pclass', 'Fare', 'Sex_female',\n",
       "       'Sex_male', 'Embarked_C', 'Embarked_Q', 'Embarked_S', 'CabinCat_A',\n",
       "       'CabinCat_B', 'CabinCat_C', 'CabinCat_D', 'CabinCat_E',\n",
       "       'CabinCat_F', 'CabinCat_G', 'CabinCat_T', 'CabinCat_X',\n",
       "       'Title_Master', 'Title_Miss', 'Title_Mr', 'Title_Mrs',\n",
       "       'Title_Other'], dtype=object)"
      ]
     },
     "execution_count": 34,
     "metadata": {},
     "output_type": "execute_result"
    }
   ],
   "source": [
    "feature_names_out"
   ]
  },
  {
   "cell_type": "code",
   "execution_count": 35,
   "id": "ba64dcbd",
   "metadata": {
    "execution": {
     "iopub.execute_input": "2023-03-26T19:08:38.669607Z",
     "iopub.status.busy": "2023-03-26T19:08:38.669163Z",
     "iopub.status.idle": "2023-03-26T19:08:38.676452Z",
     "shell.execute_reply": "2023-03-26T19:08:38.675290Z"
    },
    "papermill": {
     "duration": 0.041613,
     "end_time": "2023-03-26T19:08:38.679136",
     "exception": false,
     "start_time": "2023-03-26T19:08:38.637523",
     "status": "completed"
    },
    "tags": []
   },
   "outputs": [
    {
     "data": {
      "text/plain": [
       "Index(['Survived', 'Pclass', 'Name', 'Sex', 'Age', 'SibSp', 'Parch', 'Ticket',\n",
       "       'Fare', 'Cabin', 'Embarked'],\n",
       "      dtype='object')"
      ]
     },
     "execution_count": 35,
     "metadata": {},
     "output_type": "execute_result"
    }
   ],
   "source": [
    "train_data.columns"
   ]
  },
  {
   "cell_type": "markdown",
   "id": "ec27ce31",
   "metadata": {
    "papermill": {
     "duration": 0.031018,
     "end_time": "2023-03-26T19:08:38.740738",
     "exception": false,
     "start_time": "2023-03-26T19:08:38.709720",
     "status": "completed"
    },
    "tags": []
   },
   "source": [
    "Split data into train and validations sets."
   ]
  },
  {
   "cell_type": "code",
   "execution_count": 36,
   "id": "61fbb99f",
   "metadata": {
    "execution": {
     "iopub.execute_input": "2023-03-26T19:08:38.804876Z",
     "iopub.status.busy": "2023-03-26T19:08:38.804316Z",
     "iopub.status.idle": "2023-03-26T19:08:38.820798Z",
     "shell.execute_reply": "2023-03-26T19:08:38.819889Z"
    },
    "papermill": {
     "duration": 0.05139,
     "end_time": "2023-03-26T19:08:38.822804",
     "exception": false,
     "start_time": "2023-03-26T19:08:38.771414",
     "status": "completed"
    },
    "tags": []
   },
   "outputs": [
    {
     "data": {
      "text/html": [
       "<div>\n",
       "<style scoped>\n",
       "    .dataframe tbody tr th:only-of-type {\n",
       "        vertical-align: middle;\n",
       "    }\n",
       "\n",
       "    .dataframe tbody tr th {\n",
       "        vertical-align: top;\n",
       "    }\n",
       "\n",
       "    .dataframe thead th {\n",
       "        text-align: right;\n",
       "    }\n",
       "</style>\n",
       "<table border=\"1\" class=\"dataframe\">\n",
       "  <thead>\n",
       "    <tr style=\"text-align: right;\">\n",
       "      <th></th>\n",
       "      <th>Survived</th>\n",
       "      <th>Pclass</th>\n",
       "      <th>Name</th>\n",
       "      <th>Sex</th>\n",
       "      <th>Age</th>\n",
       "      <th>SibSp</th>\n",
       "      <th>Parch</th>\n",
       "      <th>Ticket</th>\n",
       "      <th>Fare</th>\n",
       "      <th>Cabin</th>\n",
       "      <th>Embarked</th>\n",
       "    </tr>\n",
       "    <tr>\n",
       "      <th>PassengerId</th>\n",
       "      <th></th>\n",
       "      <th></th>\n",
       "      <th></th>\n",
       "      <th></th>\n",
       "      <th></th>\n",
       "      <th></th>\n",
       "      <th></th>\n",
       "      <th></th>\n",
       "      <th></th>\n",
       "      <th></th>\n",
       "      <th></th>\n",
       "    </tr>\n",
       "  </thead>\n",
       "  <tbody>\n",
       "    <tr>\n",
       "      <th>1</th>\n",
       "      <td>0</td>\n",
       "      <td>3</td>\n",
       "      <td>Braund, Mr. Owen Harris</td>\n",
       "      <td>male</td>\n",
       "      <td>22.0</td>\n",
       "      <td>1</td>\n",
       "      <td>0</td>\n",
       "      <td>A/5 21171</td>\n",
       "      <td>7.2500</td>\n",
       "      <td>NaN</td>\n",
       "      <td>S</td>\n",
       "    </tr>\n",
       "    <tr>\n",
       "      <th>2</th>\n",
       "      <td>1</td>\n",
       "      <td>1</td>\n",
       "      <td>Cumings, Mrs. John Bradley (Florence Briggs Th...</td>\n",
       "      <td>female</td>\n",
       "      <td>38.0</td>\n",
       "      <td>1</td>\n",
       "      <td>0</td>\n",
       "      <td>PC 17599</td>\n",
       "      <td>71.2833</td>\n",
       "      <td>C85</td>\n",
       "      <td>C</td>\n",
       "    </tr>\n",
       "    <tr>\n",
       "      <th>3</th>\n",
       "      <td>1</td>\n",
       "      <td>3</td>\n",
       "      <td>Heikkinen, Miss. Laina</td>\n",
       "      <td>female</td>\n",
       "      <td>26.0</td>\n",
       "      <td>0</td>\n",
       "      <td>0</td>\n",
       "      <td>STON/O2. 3101282</td>\n",
       "      <td>7.9250</td>\n",
       "      <td>NaN</td>\n",
       "      <td>S</td>\n",
       "    </tr>\n",
       "    <tr>\n",
       "      <th>4</th>\n",
       "      <td>1</td>\n",
       "      <td>1</td>\n",
       "      <td>Futrelle, Mrs. Jacques Heath (Lily May Peel)</td>\n",
       "      <td>female</td>\n",
       "      <td>35.0</td>\n",
       "      <td>1</td>\n",
       "      <td>0</td>\n",
       "      <td>113803</td>\n",
       "      <td>53.1000</td>\n",
       "      <td>C123</td>\n",
       "      <td>S</td>\n",
       "    </tr>\n",
       "    <tr>\n",
       "      <th>5</th>\n",
       "      <td>0</td>\n",
       "      <td>3</td>\n",
       "      <td>Allen, Mr. William Henry</td>\n",
       "      <td>male</td>\n",
       "      <td>35.0</td>\n",
       "      <td>0</td>\n",
       "      <td>0</td>\n",
       "      <td>373450</td>\n",
       "      <td>8.0500</td>\n",
       "      <td>NaN</td>\n",
       "      <td>S</td>\n",
       "    </tr>\n",
       "  </tbody>\n",
       "</table>\n",
       "</div>"
      ],
      "text/plain": [
       "             Survived  Pclass  \\\n",
       "PassengerId                     \n",
       "1                   0       3   \n",
       "2                   1       1   \n",
       "3                   1       3   \n",
       "4                   1       1   \n",
       "5                   0       3   \n",
       "\n",
       "                                                          Name     Sex   Age  \\\n",
       "PassengerId                                                                    \n",
       "1                                      Braund, Mr. Owen Harris    male  22.0   \n",
       "2            Cumings, Mrs. John Bradley (Florence Briggs Th...  female  38.0   \n",
       "3                                       Heikkinen, Miss. Laina  female  26.0   \n",
       "4                 Futrelle, Mrs. Jacques Heath (Lily May Peel)  female  35.0   \n",
       "5                                     Allen, Mr. William Henry    male  35.0   \n",
       "\n",
       "             SibSp  Parch            Ticket     Fare Cabin Embarked  \n",
       "PassengerId                                                          \n",
       "1                1      0         A/5 21171   7.2500   NaN        S  \n",
       "2                1      0          PC 17599  71.2833   C85        C  \n",
       "3                0      0  STON/O2. 3101282   7.9250   NaN        S  \n",
       "4                1      0            113803  53.1000  C123        S  \n",
       "5                0      0            373450   8.0500   NaN        S  "
      ]
     },
     "execution_count": 36,
     "metadata": {},
     "output_type": "execute_result"
    }
   ],
   "source": [
    "train_data.head()"
   ]
  },
  {
   "cell_type": "code",
   "execution_count": 37,
   "id": "45ebd64c",
   "metadata": {
    "execution": {
     "iopub.execute_input": "2023-03-26T19:08:38.886775Z",
     "iopub.status.busy": "2023-03-26T19:08:38.886356Z",
     "iopub.status.idle": "2023-03-26T19:08:38.899884Z",
     "shell.execute_reply": "2023-03-26T19:08:38.898478Z"
    },
    "papermill": {
     "duration": 0.048507,
     "end_time": "2023-03-26T19:08:38.902631",
     "exception": false,
     "start_time": "2023-03-26T19:08:38.854124",
     "status": "completed"
    },
    "tags": []
   },
   "outputs": [
    {
     "name": "stdout",
     "output_type": "stream",
     "text": [
      "Train shape. \t\tX: (712, 10), y: (712,) \n",
      "Validation shape. \tX: (179, 10), y: (179,)\n"
     ]
    }
   ],
   "source": [
    "X_full = train_data.drop(\"Survived\", axis=1)\n",
    "y_full = train_data[\"Survived\"]\n",
    "X_train, X_val, y_train, y_val = train_test_split(X_full, y_full, \n",
    "                                                    test_size=0.2, random_state=42,\n",
    "                                                    stratify = y_full)\n",
    "y_train = y_train.to_numpy()\n",
    "y_val = y_val.to_numpy()\n",
    "print(f'Train shape. \\t\\tX: {X_train.shape}, y: {y_train.shape}',\n",
    "    f'\\nValidation shape. \\tX: {X_val.shape}, y: {y_val.shape}')"
   ]
  },
  {
   "cell_type": "code",
   "execution_count": 38,
   "id": "c9e7b670",
   "metadata": {
    "execution": {
     "iopub.execute_input": "2023-03-26T19:08:38.965336Z",
     "iopub.status.busy": "2023-03-26T19:08:38.964901Z",
     "iopub.status.idle": "2023-03-26T19:08:38.981849Z",
     "shell.execute_reply": "2023-03-26T19:08:38.980590Z"
    },
    "papermill": {
     "duration": 0.051352,
     "end_time": "2023-03-26T19:08:38.984488",
     "exception": false,
     "start_time": "2023-03-26T19:08:38.933136",
     "status": "completed"
    },
    "tags": []
   },
   "outputs": [
    {
     "data": {
      "text/html": [
       "<div>\n",
       "<style scoped>\n",
       "    .dataframe tbody tr th:only-of-type {\n",
       "        vertical-align: middle;\n",
       "    }\n",
       "\n",
       "    .dataframe tbody tr th {\n",
       "        vertical-align: top;\n",
       "    }\n",
       "\n",
       "    .dataframe thead th {\n",
       "        text-align: right;\n",
       "    }\n",
       "</style>\n",
       "<table border=\"1\" class=\"dataframe\">\n",
       "  <thead>\n",
       "    <tr style=\"text-align: right;\">\n",
       "      <th></th>\n",
       "      <th>Pclass</th>\n",
       "      <th>Name</th>\n",
       "      <th>Sex</th>\n",
       "      <th>Age</th>\n",
       "      <th>SibSp</th>\n",
       "      <th>Parch</th>\n",
       "      <th>Ticket</th>\n",
       "      <th>Fare</th>\n",
       "      <th>Cabin</th>\n",
       "      <th>Embarked</th>\n",
       "    </tr>\n",
       "    <tr>\n",
       "      <th>PassengerId</th>\n",
       "      <th></th>\n",
       "      <th></th>\n",
       "      <th></th>\n",
       "      <th></th>\n",
       "      <th></th>\n",
       "      <th></th>\n",
       "      <th></th>\n",
       "      <th></th>\n",
       "      <th></th>\n",
       "      <th></th>\n",
       "    </tr>\n",
       "  </thead>\n",
       "  <tbody>\n",
       "    <tr>\n",
       "      <th>693</th>\n",
       "      <td>3</td>\n",
       "      <td>Lam, Mr. Ali</td>\n",
       "      <td>male</td>\n",
       "      <td>NaN</td>\n",
       "      <td>0</td>\n",
       "      <td>0</td>\n",
       "      <td>1601</td>\n",
       "      <td>56.4958</td>\n",
       "      <td>NaN</td>\n",
       "      <td>S</td>\n",
       "    </tr>\n",
       "    <tr>\n",
       "      <th>482</th>\n",
       "      <td>2</td>\n",
       "      <td>Frost, Mr. Anthony Wood \"Archie\"</td>\n",
       "      <td>male</td>\n",
       "      <td>NaN</td>\n",
       "      <td>0</td>\n",
       "      <td>0</td>\n",
       "      <td>239854</td>\n",
       "      <td>0.0000</td>\n",
       "      <td>NaN</td>\n",
       "      <td>S</td>\n",
       "    </tr>\n",
       "    <tr>\n",
       "      <th>528</th>\n",
       "      <td>1</td>\n",
       "      <td>Farthing, Mr. John</td>\n",
       "      <td>male</td>\n",
       "      <td>NaN</td>\n",
       "      <td>0</td>\n",
       "      <td>0</td>\n",
       "      <td>PC 17483</td>\n",
       "      <td>221.7792</td>\n",
       "      <td>C95</td>\n",
       "      <td>S</td>\n",
       "    </tr>\n",
       "    <tr>\n",
       "      <th>856</th>\n",
       "      <td>3</td>\n",
       "      <td>Aks, Mrs. Sam (Leah Rosen)</td>\n",
       "      <td>female</td>\n",
       "      <td>18.0</td>\n",
       "      <td>0</td>\n",
       "      <td>1</td>\n",
       "      <td>392091</td>\n",
       "      <td>9.3500</td>\n",
       "      <td>NaN</td>\n",
       "      <td>S</td>\n",
       "    </tr>\n",
       "    <tr>\n",
       "      <th>802</th>\n",
       "      <td>2</td>\n",
       "      <td>Collyer, Mrs. Harvey (Charlotte Annie Tate)</td>\n",
       "      <td>female</td>\n",
       "      <td>31.0</td>\n",
       "      <td>1</td>\n",
       "      <td>1</td>\n",
       "      <td>C.A. 31921</td>\n",
       "      <td>26.2500</td>\n",
       "      <td>NaN</td>\n",
       "      <td>S</td>\n",
       "    </tr>\n",
       "  </tbody>\n",
       "</table>\n",
       "</div>"
      ],
      "text/plain": [
       "             Pclass                                         Name     Sex  \\\n",
       "PassengerId                                                                \n",
       "693               3                                 Lam, Mr. Ali    male   \n",
       "482               2             Frost, Mr. Anthony Wood \"Archie\"    male   \n",
       "528               1                           Farthing, Mr. John    male   \n",
       "856               3                   Aks, Mrs. Sam (Leah Rosen)  female   \n",
       "802               2  Collyer, Mrs. Harvey (Charlotte Annie Tate)  female   \n",
       "\n",
       "              Age  SibSp  Parch      Ticket      Fare Cabin Embarked  \n",
       "PassengerId                                                           \n",
       "693           NaN      0      0        1601   56.4958   NaN        S  \n",
       "482           NaN      0      0      239854    0.0000   NaN        S  \n",
       "528           NaN      0      0    PC 17483  221.7792   C95        S  \n",
       "856          18.0      0      1      392091    9.3500   NaN        S  \n",
       "802          31.0      1      1  C.A. 31921   26.2500   NaN        S  "
      ]
     },
     "execution_count": 38,
     "metadata": {},
     "output_type": "execute_result"
    }
   ],
   "source": [
    "X_train.head()"
   ]
  },
  {
   "cell_type": "markdown",
   "id": "9bbdf59b",
   "metadata": {
    "papermill": {
     "duration": 0.03286,
     "end_time": "2023-03-26T19:08:39.048260",
     "exception": false,
     "start_time": "2023-03-26T19:08:39.015400",
     "status": "completed"
    },
    "tags": []
   },
   "source": [
    "# Model Training and Evaluation"
   ]
  },
  {
   "cell_type": "markdown",
   "id": "cd524f3e",
   "metadata": {
    "papermill": {
     "duration": 0.030992,
     "end_time": "2023-03-26T19:08:39.110924",
     "exception": false,
     "start_time": "2023-03-26T19:08:39.079932",
     "status": "completed"
    },
    "tags": []
   },
   "source": [
    "Create reporting functions."
   ]
  },
  {
   "cell_type": "code",
   "execution_count": 39,
   "id": "b2f47f25",
   "metadata": {
    "_kg_hide-input": true,
    "execution": {
     "iopub.execute_input": "2023-03-26T19:08:39.176045Z",
     "iopub.status.busy": "2023-03-26T19:08:39.174808Z",
     "iopub.status.idle": "2023-03-26T19:08:39.190908Z",
     "shell.execute_reply": "2023-03-26T19:08:39.189966Z"
    },
    "papermill": {
     "duration": 0.051418,
     "end_time": "2023-03-26T19:08:39.193346",
     "exception": false,
     "start_time": "2023-03-26T19:08:39.141928",
     "status": "completed"
    },
    "tags": []
   },
   "outputs": [],
   "source": [
    "def plot_classification_report(clf_report, ax, vmin=0.8, vmax=1, classes_count=2):\n",
    "    mask1 = np.zeros_like(clf_report, dtype=bool)\n",
    "    mask1[classes_count:, :] = True\n",
    "    mask2 = np.zeros_like(clf_report, dtype=bool)\n",
    "    mask2[:classes_count, :] = True\n",
    "    cmap_white = ListedColormap(['white'])\n",
    "    sns.heatmap(clf_report, ax=ax, mask=mask1, annot=True, \n",
    "                cmap='viridis', fmt='.6f', cbar=False)\n",
    "#                 cmap='viridis', fmt='.6f', vmin=vmin, vmax=vmax, cbar=False)\n",
    "    sns.heatmap(clf_report, ax=ax, mask=mask2, annot=True, \n",
    "                cmap=cmap_white, fmt='.6f', cbar=False)\n",
    "    ax.set_title(\"Classification report\", fontsize=10, pad=10)\n",
    "    ax.xaxis.tick_top()\n",
    "    ax.xaxis.set_label_position('top')\n",
    "    \n",
    "def plot_confusion_matrix(conf_mx, ax, diag_toblack=True):\n",
    "    norm_conf_mx = conf_mx.astype('float') / conf_mx.sum(axis=1, keepdims=True)\n",
    "    if diag_toblack:\n",
    "        np.fill_diagonal(norm_conf_mx, 0)\n",
    "    sns.heatmap(norm_conf_mx, ax=ax, annot=False, cmap=plt.cm.gray, cbar=False)\n",
    "    plt.title('Confusion matrix')\n",
    "    thresh = norm_conf_mx.max() / 2\n",
    "    for i, j in itertools.product(range(conf_mx.shape[0]), range(conf_mx.shape[1])):\n",
    "        plt.text(j+0.5, i+0.6, conf_mx[i, j],\n",
    "            ha=\"center\",\n",
    "            va='baseline',\n",
    "            color=\"white\" if norm_conf_mx[i, j] < thresh else \"black\")\n",
    "    plt.tight_layout()\n",
    "    plt.ylabel('True label')\n",
    "    plt.xlabel('Predicted label')\n",
    "    \n",
    "def display_evalreport(y_actual, y_predicted, set_name):\n",
    "    display(Markdown(f'## <span style=\"color: black;\">Evaluation on the {set_name}</span>'))\n",
    "    accuracy = accuracy_score(y_actual, y_predicted)\n",
    "    display(Markdown('Accuracy: {:.4f}%'.format(accuracy*100)))\n",
    "    conf_mx = confusion_matrix(y_actual, y_predicted)\n",
    "    classif_report_df = pd.DataFrame(classification_report(y_actual, y_predicted, output_dict=True)).iloc[:-1, :].T\n",
    "    fig, (ax0, ax1) = plt.subplots(1, 2, figsize=(10, 5), sharex=False,\n",
    "                               gridspec_kw={'width_ratios': [1, 2.2]}, dpi=100)\n",
    "    plot_classification_report(classif_report_df, ax0)\n",
    "    plot_confusion_matrix(conf_mx, ax1, False)\n",
    "    fig.tight_layout()\n",
    "    plt.show()"
   ]
  },
  {
   "cell_type": "code",
   "execution_count": 40,
   "id": "55895e77",
   "metadata": {
    "_kg_hide-input": true,
    "execution": {
     "iopub.execute_input": "2023-03-26T19:08:39.257112Z",
     "iopub.status.busy": "2023-03-26T19:08:39.256311Z",
     "iopub.status.idle": "2023-03-26T19:08:39.269591Z",
     "shell.execute_reply": "2023-03-26T19:08:39.268416Z"
    },
    "papermill": {
     "duration": 0.048724,
     "end_time": "2023-03-26T19:08:39.272604",
     "exception": false,
     "start_time": "2023-03-26T19:08:39.223880",
     "status": "completed"
    },
    "tags": []
   },
   "outputs": [],
   "source": [
    "def plot_roc_curve(fpr, tpr, label=None):\n",
    "    plt.plot(fpr, tpr, linewidth=2, label=label)\n",
    "    plt.plot([0, 1], [0, 1], 'k--')\n",
    "    plt.axis([0, 1, 0, 1])\n",
    "    plt.xlabel('False Positive Rate (Fall-Out)', fontsize=16)\n",
    "    plt.ylabel('True Positive Rate (Recall)', fontsize=16)\n",
    "    plt.grid(True)\n",
    "    \n",
    "def plot_precision_vs_recall(precisions, recalls):\n",
    "    plt.plot(recalls, precisions, \"b-\", linewidth=2)\n",
    "    plt.xlabel(\"Recall\", fontsize=16)\n",
    "    plt.ylabel(\"Precision\", fontsize=16)\n",
    "    plt.axis([0, 1, 0, 1])\n",
    "    plt.grid(True)\n",
    "    \n",
    "def plot_learning_curve(model, X_train, y_train, cv=5, scoring='accuracy', splits=10):\n",
    "    train_sizes, train_scores, test_scores = learning_curve(\n",
    "        model, X_train, y_train, cv=5, train_sizes=np.linspace(0.1, 1.0, splits), scoring=scoring)\n",
    "    train_scores_mean = np.mean(train_scores, axis=1)\n",
    "    train_scores_std = np.std(train_scores, axis=1)\n",
    "    test_scores_mean = np.mean(test_scores, axis=1)\n",
    "    test_scores_std = np.std(test_scores, axis=1)\n",
    "    plt.figure()\n",
    "    plt.title(\"Learning Curve\")\n",
    "    plt.xlabel(\"Training Examples\")\n",
    "    plt.ylabel(\"Score\")\n",
    "    plt.ylim(0.0, 1.1)\n",
    "    plt.grid()\n",
    "    plt.fill_between(train_sizes, train_scores_mean - train_scores_std,\n",
    "                     train_scores_mean + train_scores_std, alpha=0.1,\n",
    "                     color=\"r\")\n",
    "    plt.fill_between(train_sizes, test_scores_mean - test_scores_std,\n",
    "                     test_scores_mean + test_scores_std, alpha=0.1, color=\"g\")\n",
    "    plt.plot(train_sizes, train_scores_mean, 'o-', color=\"r\",\n",
    "             label=\"Training score\")\n",
    "    plt.plot(train_sizes, test_scores_mean, 'o-', color=\"g\",\n",
    "             label=\"Cross-validation score\")\n",
    "    plt.legend(loc=\"best\")\n",
    "    plt.show()"
   ]
  },
  {
   "cell_type": "code",
   "execution_count": 41,
   "id": "6507ce83",
   "metadata": {
    "_kg_hide-input": true,
    "execution": {
     "iopub.execute_input": "2023-03-26T19:08:39.338217Z",
     "iopub.status.busy": "2023-03-26T19:08:39.337019Z",
     "iopub.status.idle": "2023-03-26T19:08:39.344903Z",
     "shell.execute_reply": "2023-03-26T19:08:39.344064Z"
    },
    "papermill": {
     "duration": 0.043749,
     "end_time": "2023-03-26T19:08:39.347545",
     "exception": false,
     "start_time": "2023-03-26T19:08:39.303796",
     "status": "completed"
    },
    "tags": []
   },
   "outputs": [],
   "source": [
    "def display_cv_results(cv_results, sortby='mean_test_f1'):\n",
    "    cv_results_df = pd.DataFrame(cv_results)\n",
    "    cv_results_df['model'] = (cv_results_df['params']\n",
    "                               .astype('str')\n",
    "                               .str.findall('(?<=\\'model\\'. )\\w+(?=\\()')\n",
    "                               .apply(', '.join))\n",
    "    mean_columns = cv_results_df.filter(regex='^mean_test').columns.to_list()\n",
    "    filtered_columns = np.concatenate((['model'], mean_columns))\n",
    "    display(\n",
    "        cv_results_df\n",
    "            .sort_values(by=[sortby], ascending=False)\n",
    "            .groupby('model')\n",
    "            .first()\n",
    "            .reindex(columns=filtered_columns)\n",
    "            .loc[:, mean_columns]\n",
    "            .sort_values(by=[sortby], ascending=False)\n",
    "            .style\n",
    "            .background_gradient(cmap='viridis'))"
   ]
  },
  {
   "cell_type": "markdown",
   "id": "8e0b0120",
   "metadata": {
    "papermill": {
     "duration": 0.030908,
     "end_time": "2023-03-26T19:08:39.409147",
     "exception": false,
     "start_time": "2023-03-26T19:08:39.378239",
     "status": "completed"
    },
    "tags": []
   },
   "source": [
    "### Estimate different models"
   ]
  },
  {
   "cell_type": "code",
   "execution_count": 42,
   "id": "ffe0c3c7",
   "metadata": {
    "execution": {
     "iopub.execute_input": "2023-03-26T19:08:39.474233Z",
     "iopub.status.busy": "2023-03-26T19:08:39.473210Z",
     "iopub.status.idle": "2023-03-26T19:08:45.384338Z",
     "shell.execute_reply": "2023-03-26T19:08:45.382844Z"
    },
    "papermill": {
     "duration": 5.946892,
     "end_time": "2023-03-26T19:08:45.387677",
     "exception": false,
     "start_time": "2023-03-26T19:08:39.440785",
     "status": "completed"
    },
    "tags": []
   },
   "outputs": [
    {
     "name": "stdout",
     "output_type": "stream",
     "text": [
      "Fitting 6 folds for each of 9 candidates, totalling 54 fits\n"
     ]
    },
    {
     "data": {
      "text/html": [
       "<div>\n",
       "<style scoped>\n",
       "    .dataframe tbody tr th:only-of-type {\n",
       "        vertical-align: middle;\n",
       "    }\n",
       "\n",
       "    .dataframe tbody tr th {\n",
       "        vertical-align: top;\n",
       "    }\n",
       "\n",
       "    .dataframe thead th {\n",
       "        text-align: right;\n",
       "    }\n",
       "</style>\n",
       "<table border=\"1\" class=\"dataframe\">\n",
       "  <thead>\n",
       "    <tr style=\"text-align: right;\">\n",
       "      <th></th>\n",
       "      <th>mean_fit_time</th>\n",
       "      <th>std_fit_time</th>\n",
       "      <th>mean_score_time</th>\n",
       "      <th>std_score_time</th>\n",
       "      <th>param_model</th>\n",
       "      <th>params</th>\n",
       "      <th>split0_test_accuracy</th>\n",
       "      <th>split1_test_accuracy</th>\n",
       "      <th>split2_test_accuracy</th>\n",
       "      <th>split3_test_accuracy</th>\n",
       "      <th>split4_test_accuracy</th>\n",
       "      <th>split5_test_accuracy</th>\n",
       "      <th>mean_test_accuracy</th>\n",
       "      <th>std_test_accuracy</th>\n",
       "      <th>rank_test_accuracy</th>\n",
       "      <th>split0_test_precision</th>\n",
       "      <th>split1_test_precision</th>\n",
       "      <th>split2_test_precision</th>\n",
       "      <th>split3_test_precision</th>\n",
       "      <th>split4_test_precision</th>\n",
       "      <th>split5_test_precision</th>\n",
       "      <th>mean_test_precision</th>\n",
       "      <th>std_test_precision</th>\n",
       "      <th>rank_test_precision</th>\n",
       "      <th>split0_test_recall</th>\n",
       "      <th>split1_test_recall</th>\n",
       "      <th>split2_test_recall</th>\n",
       "      <th>split3_test_recall</th>\n",
       "      <th>split4_test_recall</th>\n",
       "      <th>split5_test_recall</th>\n",
       "      <th>mean_test_recall</th>\n",
       "      <th>std_test_recall</th>\n",
       "      <th>rank_test_recall</th>\n",
       "      <th>split0_test_f1</th>\n",
       "      <th>split1_test_f1</th>\n",
       "      <th>split2_test_f1</th>\n",
       "      <th>split3_test_f1</th>\n",
       "      <th>split4_test_f1</th>\n",
       "      <th>split5_test_f1</th>\n",
       "      <th>mean_test_f1</th>\n",
       "      <th>std_test_f1</th>\n",
       "      <th>rank_test_f1</th>\n",
       "    </tr>\n",
       "  </thead>\n",
       "  <tbody>\n",
       "    <tr>\n",
       "      <th>1</th>\n",
       "      <td>0.081808</td>\n",
       "      <td>0.008687</td>\n",
       "      <td>0.028432</td>\n",
       "      <td>0.001910</td>\n",
       "      <td>LogisticRegression()</td>\n",
       "      <td>{'model': LogisticRegression()}</td>\n",
       "      <td>0.773109</td>\n",
       "      <td>0.840336</td>\n",
       "      <td>0.831933</td>\n",
       "      <td>0.848739</td>\n",
       "      <td>0.847458</td>\n",
       "      <td>0.813559</td>\n",
       "      <td>0.825856</td>\n",
       "      <td>0.026364</td>\n",
       "      <td>1</td>\n",
       "      <td>0.704545</td>\n",
       "      <td>0.760870</td>\n",
       "      <td>0.815789</td>\n",
       "      <td>0.813953</td>\n",
       "      <td>0.808511</td>\n",
       "      <td>0.800000</td>\n",
       "      <td>0.783945</td>\n",
       "      <td>0.040026</td>\n",
       "      <td>4</td>\n",
       "      <td>0.688889</td>\n",
       "      <td>0.813953</td>\n",
       "      <td>0.704545</td>\n",
       "      <td>0.777778</td>\n",
       "      <td>0.808511</td>\n",
       "      <td>0.734694</td>\n",
       "      <td>0.754728</td>\n",
       "      <td>0.048624</td>\n",
       "      <td>2</td>\n",
       "      <td>0.696629</td>\n",
       "      <td>0.786517</td>\n",
       "      <td>0.756098</td>\n",
       "      <td>0.795455</td>\n",
       "      <td>0.808511</td>\n",
       "      <td>0.765957</td>\n",
       "      <td>0.768194</td>\n",
       "      <td>0.036463</td>\n",
       "      <td>1</td>\n",
       "    </tr>\n",
       "    <tr>\n",
       "      <th>2</th>\n",
       "      <td>0.082624</td>\n",
       "      <td>0.003449</td>\n",
       "      <td>0.032428</td>\n",
       "      <td>0.000663</td>\n",
       "      <td>SVC()</td>\n",
       "      <td>{'model': SVC()}</td>\n",
       "      <td>0.789916</td>\n",
       "      <td>0.831933</td>\n",
       "      <td>0.840336</td>\n",
       "      <td>0.857143</td>\n",
       "      <td>0.813559</td>\n",
       "      <td>0.805085</td>\n",
       "      <td>0.822995</td>\n",
       "      <td>0.022549</td>\n",
       "      <td>2</td>\n",
       "      <td>0.763158</td>\n",
       "      <td>0.767442</td>\n",
       "      <td>0.903226</td>\n",
       "      <td>0.833333</td>\n",
       "      <td>0.790698</td>\n",
       "      <td>0.825000</td>\n",
       "      <td>0.813809</td>\n",
       "      <td>0.047874</td>\n",
       "      <td>1</td>\n",
       "      <td>0.644444</td>\n",
       "      <td>0.767442</td>\n",
       "      <td>0.636364</td>\n",
       "      <td>0.777778</td>\n",
       "      <td>0.723404</td>\n",
       "      <td>0.673469</td>\n",
       "      <td>0.703817</td>\n",
       "      <td>0.056122</td>\n",
       "      <td>6</td>\n",
       "      <td>0.698795</td>\n",
       "      <td>0.767442</td>\n",
       "      <td>0.746667</td>\n",
       "      <td>0.804598</td>\n",
       "      <td>0.755556</td>\n",
       "      <td>0.741573</td>\n",
       "      <td>0.752438</td>\n",
       "      <td>0.031582</td>\n",
       "      <td>2</td>\n",
       "    </tr>\n",
       "    <tr>\n",
       "      <th>8</th>\n",
       "      <td>0.217932</td>\n",
       "      <td>0.023134</td>\n",
       "      <td>0.026432</td>\n",
       "      <td>0.005044</td>\n",
       "      <td>GradientBoostingClassifier()</td>\n",
       "      <td>{'model': GradientBoostingClassifier()}</td>\n",
       "      <td>0.789916</td>\n",
       "      <td>0.831933</td>\n",
       "      <td>0.798319</td>\n",
       "      <td>0.882353</td>\n",
       "      <td>0.796610</td>\n",
       "      <td>0.805085</td>\n",
       "      <td>0.817369</td>\n",
       "      <td>0.031972</td>\n",
       "      <td>3</td>\n",
       "      <td>0.750000</td>\n",
       "      <td>0.810811</td>\n",
       "      <td>0.794118</td>\n",
       "      <td>0.878049</td>\n",
       "      <td>0.767442</td>\n",
       "      <td>0.809524</td>\n",
       "      <td>0.801657</td>\n",
       "      <td>0.040574</td>\n",
       "      <td>2</td>\n",
       "      <td>0.666667</td>\n",
       "      <td>0.697674</td>\n",
       "      <td>0.613636</td>\n",
       "      <td>0.800000</td>\n",
       "      <td>0.702128</td>\n",
       "      <td>0.693878</td>\n",
       "      <td>0.695664</td>\n",
       "      <td>0.055534</td>\n",
       "      <td>8</td>\n",
       "      <td>0.705882</td>\n",
       "      <td>0.750000</td>\n",
       "      <td>0.692308</td>\n",
       "      <td>0.837209</td>\n",
       "      <td>0.733333</td>\n",
       "      <td>0.747253</td>\n",
       "      <td>0.744331</td>\n",
       "      <td>0.046499</td>\n",
       "      <td>5</td>\n",
       "    </tr>\n",
       "    <tr>\n",
       "      <th>5</th>\n",
       "      <td>0.051613</td>\n",
       "      <td>0.003922</td>\n",
       "      <td>0.035032</td>\n",
       "      <td>0.000606</td>\n",
       "      <td>KNeighborsClassifier()</td>\n",
       "      <td>{'model': KNeighborsClassifier()}</td>\n",
       "      <td>0.806723</td>\n",
       "      <td>0.840336</td>\n",
       "      <td>0.798319</td>\n",
       "      <td>0.848739</td>\n",
       "      <td>0.796610</td>\n",
       "      <td>0.805085</td>\n",
       "      <td>0.815969</td>\n",
       "      <td>0.020647</td>\n",
       "      <td>4</td>\n",
       "      <td>0.805556</td>\n",
       "      <td>0.785714</td>\n",
       "      <td>0.794118</td>\n",
       "      <td>0.829268</td>\n",
       "      <td>0.767442</td>\n",
       "      <td>0.782609</td>\n",
       "      <td>0.794118</td>\n",
       "      <td>0.019498</td>\n",
       "      <td>3</td>\n",
       "      <td>0.644444</td>\n",
       "      <td>0.767442</td>\n",
       "      <td>0.613636</td>\n",
       "      <td>0.755556</td>\n",
       "      <td>0.702128</td>\n",
       "      <td>0.734694</td>\n",
       "      <td>0.702983</td>\n",
       "      <td>0.056767</td>\n",
       "      <td>7</td>\n",
       "      <td>0.716049</td>\n",
       "      <td>0.776471</td>\n",
       "      <td>0.692308</td>\n",
       "      <td>0.790698</td>\n",
       "      <td>0.733333</td>\n",
       "      <td>0.757895</td>\n",
       "      <td>0.744459</td>\n",
       "      <td>0.034142</td>\n",
       "      <td>4</td>\n",
       "    </tr>\n",
       "    <tr>\n",
       "      <th>6</th>\n",
       "      <td>0.754329</td>\n",
       "      <td>0.031083</td>\n",
       "      <td>0.033962</td>\n",
       "      <td>0.000808</td>\n",
       "      <td>XGBClassifier(base_score=None, booster=None, c...</td>\n",
       "      <td>{'model': XGBClassifier(base_score=None, boost...</td>\n",
       "      <td>0.798319</td>\n",
       "      <td>0.789916</td>\n",
       "      <td>0.806723</td>\n",
       "      <td>0.848739</td>\n",
       "      <td>0.822034</td>\n",
       "      <td>0.796610</td>\n",
       "      <td>0.810390</td>\n",
       "      <td>0.019893</td>\n",
       "      <td>5</td>\n",
       "      <td>0.744186</td>\n",
       "      <td>0.714286</td>\n",
       "      <td>0.838710</td>\n",
       "      <td>0.800000</td>\n",
       "      <td>0.782609</td>\n",
       "      <td>0.777778</td>\n",
       "      <td>0.776261</td>\n",
       "      <td>0.039530</td>\n",
       "      <td>5</td>\n",
       "      <td>0.711111</td>\n",
       "      <td>0.697674</td>\n",
       "      <td>0.590909</td>\n",
       "      <td>0.800000</td>\n",
       "      <td>0.765957</td>\n",
       "      <td>0.714286</td>\n",
       "      <td>0.713323</td>\n",
       "      <td>0.065216</td>\n",
       "      <td>5</td>\n",
       "      <td>0.727273</td>\n",
       "      <td>0.705882</td>\n",
       "      <td>0.693333</td>\n",
       "      <td>0.800000</td>\n",
       "      <td>0.774194</td>\n",
       "      <td>0.744681</td>\n",
       "      <td>0.740894</td>\n",
       "      <td>0.037171</td>\n",
       "      <td>6</td>\n",
       "    </tr>\n",
       "  </tbody>\n",
       "</table>\n",
       "</div>"
      ],
      "text/plain": [
       "   mean_fit_time  std_fit_time  mean_score_time  std_score_time  \\\n",
       "1       0.081808      0.008687         0.028432        0.001910   \n",
       "2       0.082624      0.003449         0.032428        0.000663   \n",
       "8       0.217932      0.023134         0.026432        0.005044   \n",
       "5       0.051613      0.003922         0.035032        0.000606   \n",
       "6       0.754329      0.031083         0.033962        0.000808   \n",
       "\n",
       "                                         param_model  \\\n",
       "1                               LogisticRegression()   \n",
       "2                                              SVC()   \n",
       "8                       GradientBoostingClassifier()   \n",
       "5                             KNeighborsClassifier()   \n",
       "6  XGBClassifier(base_score=None, booster=None, c...   \n",
       "\n",
       "                                              params  split0_test_accuracy  \\\n",
       "1                    {'model': LogisticRegression()}              0.773109   \n",
       "2                                   {'model': SVC()}              0.789916   \n",
       "8            {'model': GradientBoostingClassifier()}              0.789916   \n",
       "5                  {'model': KNeighborsClassifier()}              0.806723   \n",
       "6  {'model': XGBClassifier(base_score=None, boost...              0.798319   \n",
       "\n",
       "   split1_test_accuracy  split2_test_accuracy  split3_test_accuracy  \\\n",
       "1              0.840336              0.831933              0.848739   \n",
       "2              0.831933              0.840336              0.857143   \n",
       "8              0.831933              0.798319              0.882353   \n",
       "5              0.840336              0.798319              0.848739   \n",
       "6              0.789916              0.806723              0.848739   \n",
       "\n",
       "   split4_test_accuracy  split5_test_accuracy  mean_test_accuracy  \\\n",
       "1              0.847458              0.813559            0.825856   \n",
       "2              0.813559              0.805085            0.822995   \n",
       "8              0.796610              0.805085            0.817369   \n",
       "5              0.796610              0.805085            0.815969   \n",
       "6              0.822034              0.796610            0.810390   \n",
       "\n",
       "   std_test_accuracy  rank_test_accuracy  split0_test_precision  \\\n",
       "1           0.026364                   1               0.704545   \n",
       "2           0.022549                   2               0.763158   \n",
       "8           0.031972                   3               0.750000   \n",
       "5           0.020647                   4               0.805556   \n",
       "6           0.019893                   5               0.744186   \n",
       "\n",
       "   split1_test_precision  split2_test_precision  split3_test_precision  \\\n",
       "1               0.760870               0.815789               0.813953   \n",
       "2               0.767442               0.903226               0.833333   \n",
       "8               0.810811               0.794118               0.878049   \n",
       "5               0.785714               0.794118               0.829268   \n",
       "6               0.714286               0.838710               0.800000   \n",
       "\n",
       "   split4_test_precision  split5_test_precision  mean_test_precision  \\\n",
       "1               0.808511               0.800000             0.783945   \n",
       "2               0.790698               0.825000             0.813809   \n",
       "8               0.767442               0.809524             0.801657   \n",
       "5               0.767442               0.782609             0.794118   \n",
       "6               0.782609               0.777778             0.776261   \n",
       "\n",
       "   std_test_precision  rank_test_precision  split0_test_recall  \\\n",
       "1            0.040026                    4            0.688889   \n",
       "2            0.047874                    1            0.644444   \n",
       "8            0.040574                    2            0.666667   \n",
       "5            0.019498                    3            0.644444   \n",
       "6            0.039530                    5            0.711111   \n",
       "\n",
       "   split1_test_recall  split2_test_recall  split3_test_recall  \\\n",
       "1            0.813953            0.704545            0.777778   \n",
       "2            0.767442            0.636364            0.777778   \n",
       "8            0.697674            0.613636            0.800000   \n",
       "5            0.767442            0.613636            0.755556   \n",
       "6            0.697674            0.590909            0.800000   \n",
       "\n",
       "   split4_test_recall  split5_test_recall  mean_test_recall  std_test_recall  \\\n",
       "1            0.808511            0.734694          0.754728         0.048624   \n",
       "2            0.723404            0.673469          0.703817         0.056122   \n",
       "8            0.702128            0.693878          0.695664         0.055534   \n",
       "5            0.702128            0.734694          0.702983         0.056767   \n",
       "6            0.765957            0.714286          0.713323         0.065216   \n",
       "\n",
       "   rank_test_recall  split0_test_f1  split1_test_f1  split2_test_f1  \\\n",
       "1                 2        0.696629        0.786517        0.756098   \n",
       "2                 6        0.698795        0.767442        0.746667   \n",
       "8                 8        0.705882        0.750000        0.692308   \n",
       "5                 7        0.716049        0.776471        0.692308   \n",
       "6                 5        0.727273        0.705882        0.693333   \n",
       "\n",
       "   split3_test_f1  split4_test_f1  split5_test_f1  mean_test_f1  std_test_f1  \\\n",
       "1        0.795455        0.808511        0.765957      0.768194     0.036463   \n",
       "2        0.804598        0.755556        0.741573      0.752438     0.031582   \n",
       "8        0.837209        0.733333        0.747253      0.744331     0.046499   \n",
       "5        0.790698        0.733333        0.757895      0.744459     0.034142   \n",
       "6        0.800000        0.774194        0.744681      0.740894     0.037171   \n",
       "\n",
       "   rank_test_f1  \n",
       "1             1  \n",
       "2             2  \n",
       "8             5  \n",
       "5             4  \n",
       "6             6  "
      ]
     },
     "execution_count": 42,
     "metadata": {},
     "output_type": "execute_result"
    }
   ],
   "source": [
    "precision_scorer = make_scorer(precision_score, zero_division=0)\n",
    "custom_scoring = {\"accuracy\": \"accuracy\", \"precision\": precision_scorer, \"recall\": \"recall\", \"f1\": \"f1\"}\n",
    "params = [\n",
    "    {'model': [\n",
    "        SGDClassifier(),\n",
    "        LogisticRegression(),\n",
    "        SVC(),\n",
    "        RandomForestClassifier(),\n",
    "        DecisionTreeClassifier(),\n",
    "        KNeighborsClassifier(),\n",
    "        xgb.XGBClassifier(),\n",
    "        GaussianNB(),\n",
    "        GradientBoostingClassifier()\n",
    "    ]}]\n",
    "grid_search = GridSearchCV(full_pipeline, params, cv=6, \n",
    "                           scoring=custom_scoring, n_jobs=-1, \n",
    "                           verbose=1, refit=False)\n",
    "grid_search.fit(X_train, y_train)\n",
    "(pd.DataFrame(grid_search.cv_results_)\n",
    "    .sort_values(by=['rank_test_accuracy'], ascending=True).head())"
   ]
  },
  {
   "cell_type": "code",
   "execution_count": 43,
   "id": "6679557d",
   "metadata": {
    "execution": {
     "iopub.execute_input": "2023-03-26T19:08:45.465264Z",
     "iopub.status.busy": "2023-03-26T19:08:45.464773Z",
     "iopub.status.idle": "2023-03-26T19:08:45.500824Z",
     "shell.execute_reply": "2023-03-26T19:08:45.499646Z"
    },
    "papermill": {
     "duration": 0.07287,
     "end_time": "2023-03-26T19:08:45.503295",
     "exception": false,
     "start_time": "2023-03-26T19:08:45.430425",
     "status": "completed"
    },
    "tags": []
   },
   "outputs": [
    {
     "data": {
      "text/html": [
       "<style type=\"text/css\">\n",
       "#T_5c1cb_row0_col0, #T_5c1cb_row0_col3, #T_5c1cb_row1_col1, #T_5c1cb_row2_col2 {\n",
       "  background-color: #fde725;\n",
       "  color: #000000;\n",
       "}\n",
       "#T_5c1cb_row0_col1 {\n",
       "  background-color: #6ece58;\n",
       "  color: #000000;\n",
       "}\n",
       "#T_5c1cb_row0_col2 {\n",
       "  background-color: #20928c;\n",
       "  color: #f1f1f1;\n",
       "}\n",
       "#T_5c1cb_row1_col0 {\n",
       "  background-color: #dde318;\n",
       "  color: #000000;\n",
       "}\n",
       "#T_5c1cb_row1_col2 {\n",
       "  background-color: #3e4a89;\n",
       "  color: #f1f1f1;\n",
       "}\n",
       "#T_5c1cb_row1_col3 {\n",
       "  background-color: #7cd250;\n",
       "  color: #000000;\n",
       "}\n",
       "#T_5c1cb_row2_col0 {\n",
       "  background-color: #39558c;\n",
       "  color: #f1f1f1;\n",
       "}\n",
       "#T_5c1cb_row2_col1, #T_5c1cb_row8_col0, #T_5c1cb_row8_col2, #T_5c1cb_row8_col3 {\n",
       "  background-color: #440154;\n",
       "  color: #f1f1f1;\n",
       "}\n",
       "#T_5c1cb_row2_col3 {\n",
       "  background-color: #73d056;\n",
       "  color: #000000;\n",
       "}\n",
       "#T_5c1cb_row3_col0 {\n",
       "  background-color: #84d44b;\n",
       "  color: #000000;\n",
       "}\n",
       "#T_5c1cb_row3_col1 {\n",
       "  background-color: #9dd93b;\n",
       "  color: #000000;\n",
       "}\n",
       "#T_5c1cb_row3_col2 {\n",
       "  background-color: #3e4989;\n",
       "  color: #f1f1f1;\n",
       "}\n",
       "#T_5c1cb_row3_col3, #T_5c1cb_row4_col3 {\n",
       "  background-color: #44bf70;\n",
       "  color: #f1f1f1;\n",
       "}\n",
       "#T_5c1cb_row4_col0 {\n",
       "  background-color: #95d840;\n",
       "  color: #000000;\n",
       "}\n",
       "#T_5c1cb_row4_col1 {\n",
       "  background-color: #c2df23;\n",
       "  color: #000000;\n",
       "}\n",
       "#T_5c1cb_row4_col2 {\n",
       "  background-color: #433d84;\n",
       "  color: #f1f1f1;\n",
       "}\n",
       "#T_5c1cb_row5_col0 {\n",
       "  background-color: #48c16e;\n",
       "  color: #f1f1f1;\n",
       "}\n",
       "#T_5c1cb_row5_col1 {\n",
       "  background-color: #4ec36b;\n",
       "  color: #000000;\n",
       "}\n",
       "#T_5c1cb_row5_col2 {\n",
       "  background-color: #375a8c;\n",
       "  color: #f1f1f1;\n",
       "}\n",
       "#T_5c1cb_row5_col3 {\n",
       "  background-color: #32b67a;\n",
       "  color: #f1f1f1;\n",
       "}\n",
       "#T_5c1cb_row6_col0 {\n",
       "  background-color: #3dbc74;\n",
       "  color: #f1f1f1;\n",
       "}\n",
       "#T_5c1cb_row6_col1, #T_5c1cb_row6_col3 {\n",
       "  background-color: #2eb37c;\n",
       "  color: #f1f1f1;\n",
       "}\n",
       "#T_5c1cb_row6_col2 {\n",
       "  background-color: #32648e;\n",
       "  color: #f1f1f1;\n",
       "}\n",
       "#T_5c1cb_row7_col0 {\n",
       "  background-color: #472e7c;\n",
       "  color: #f1f1f1;\n",
       "}\n",
       "#T_5c1cb_row7_col1 {\n",
       "  background-color: #3c4f8a;\n",
       "  color: #f1f1f1;\n",
       "}\n",
       "#T_5c1cb_row7_col2 {\n",
       "  background-color: #2e6f8e;\n",
       "  color: #f1f1f1;\n",
       "}\n",
       "#T_5c1cb_row7_col3 {\n",
       "  background-color: #2e6d8e;\n",
       "  color: #f1f1f1;\n",
       "}\n",
       "#T_5c1cb_row8_col1 {\n",
       "  background-color: #297a8e;\n",
       "  color: #f1f1f1;\n",
       "}\n",
       "</style>\n",
       "<table id=\"T_5c1cb_\">\n",
       "  <thead>\n",
       "    <tr>\n",
       "      <th class=\"blank level0\" >&nbsp;</th>\n",
       "      <th class=\"col_heading level0 col0\" >mean_test_accuracy</th>\n",
       "      <th class=\"col_heading level0 col1\" >mean_test_precision</th>\n",
       "      <th class=\"col_heading level0 col2\" >mean_test_recall</th>\n",
       "      <th class=\"col_heading level0 col3\" >mean_test_f1</th>\n",
       "    </tr>\n",
       "    <tr>\n",
       "      <th class=\"index_name level0\" >model</th>\n",
       "      <th class=\"blank col0\" >&nbsp;</th>\n",
       "      <th class=\"blank col1\" >&nbsp;</th>\n",
       "      <th class=\"blank col2\" >&nbsp;</th>\n",
       "      <th class=\"blank col3\" >&nbsp;</th>\n",
       "    </tr>\n",
       "  </thead>\n",
       "  <tbody>\n",
       "    <tr>\n",
       "      <th id=\"T_5c1cb_level0_row0\" class=\"row_heading level0 row0\" >LogisticRegression</th>\n",
       "      <td id=\"T_5c1cb_row0_col0\" class=\"data row0 col0\" >0.825856</td>\n",
       "      <td id=\"T_5c1cb_row0_col1\" class=\"data row0 col1\" >0.783945</td>\n",
       "      <td id=\"T_5c1cb_row0_col2\" class=\"data row0 col2\" >0.754728</td>\n",
       "      <td id=\"T_5c1cb_row0_col3\" class=\"data row0 col3\" >0.768194</td>\n",
       "    </tr>\n",
       "    <tr>\n",
       "      <th id=\"T_5c1cb_level0_row1\" class=\"row_heading level0 row1\" >SVC</th>\n",
       "      <td id=\"T_5c1cb_row1_col0\" class=\"data row1 col0\" >0.822995</td>\n",
       "      <td id=\"T_5c1cb_row1_col1\" class=\"data row1 col1\" >0.813809</td>\n",
       "      <td id=\"T_5c1cb_row1_col2\" class=\"data row1 col2\" >0.703817</td>\n",
       "      <td id=\"T_5c1cb_row1_col3\" class=\"data row1 col3\" >0.752438</td>\n",
       "    </tr>\n",
       "    <tr>\n",
       "      <th id=\"T_5c1cb_level0_row2\" class=\"row_heading level0 row2\" >GaussianNB</th>\n",
       "      <td id=\"T_5c1cb_row2_col0\" class=\"data row2 col0\" >0.786533</td>\n",
       "      <td id=\"T_5c1cb_row2_col1\" class=\"data row2 col1\" >0.679491</td>\n",
       "      <td id=\"T_5c1cb_row2_col2\" class=\"data row2 col2\" >0.841709</td>\n",
       "      <td id=\"T_5c1cb_row2_col3\" class=\"data row2 col3\" >0.751246</td>\n",
       "    </tr>\n",
       "    <tr>\n",
       "      <th id=\"T_5c1cb_level0_row3\" class=\"row_heading level0 row3\" >KNeighborsClassifier</th>\n",
       "      <td id=\"T_5c1cb_row3_col0\" class=\"data row3 col0\" >0.815969</td>\n",
       "      <td id=\"T_5c1cb_row3_col1\" class=\"data row3 col1\" >0.794118</td>\n",
       "      <td id=\"T_5c1cb_row3_col2\" class=\"data row3 col2\" >0.702983</td>\n",
       "      <td id=\"T_5c1cb_row3_col3\" class=\"data row3 col3\" >0.744459</td>\n",
       "    </tr>\n",
       "    <tr>\n",
       "      <th id=\"T_5c1cb_level0_row4\" class=\"row_heading level0 row4\" >GradientBoostingClassifier</th>\n",
       "      <td id=\"T_5c1cb_row4_col0\" class=\"data row4 col0\" >0.817369</td>\n",
       "      <td id=\"T_5c1cb_row4_col1\" class=\"data row4 col1\" >0.801657</td>\n",
       "      <td id=\"T_5c1cb_row4_col2\" class=\"data row4 col2\" >0.695664</td>\n",
       "      <td id=\"T_5c1cb_row4_col3\" class=\"data row4 col3\" >0.744331</td>\n",
       "    </tr>\n",
       "    <tr>\n",
       "      <th id=\"T_5c1cb_level0_row5\" class=\"row_heading level0 row5\" >XGBClassifier</th>\n",
       "      <td id=\"T_5c1cb_row5_col0\" class=\"data row5 col0\" >0.810390</td>\n",
       "      <td id=\"T_5c1cb_row5_col1\" class=\"data row5 col1\" >0.776261</td>\n",
       "      <td id=\"T_5c1cb_row5_col2\" class=\"data row5 col2\" >0.713323</td>\n",
       "      <td id=\"T_5c1cb_row5_col3\" class=\"data row5 col3\" >0.740894</td>\n",
       "    </tr>\n",
       "    <tr>\n",
       "      <th id=\"T_5c1cb_level0_row6\" class=\"row_heading level0 row6\" >RandomForestClassifier</th>\n",
       "      <td id=\"T_5c1cb_row6_col0\" class=\"data row6 col0\" >0.809037</td>\n",
       "      <td id=\"T_5c1cb_row6_col1\" class=\"data row6 col1\" >0.766383</td>\n",
       "      <td id=\"T_5c1cb_row6_col2\" class=\"data row6 col2\" >0.720344</td>\n",
       "      <td id=\"T_5c1cb_row6_col3\" class=\"data row6 col3\" >0.739949</td>\n",
       "    </tr>\n",
       "    <tr>\n",
       "      <th id=\"T_5c1cb_level0_row7\" class=\"row_heading level0 row7\" >DecisionTreeClassifier</th>\n",
       "      <td id=\"T_5c1cb_row7_col0\" class=\"data row7 col0\" >0.779412</td>\n",
       "      <td id=\"T_5c1cb_row7_col1\" class=\"data row7 col1\" >0.711649</td>\n",
       "      <td id=\"T_5c1cb_row7_col2\" class=\"data row7 col2\" >0.728114</td>\n",
       "      <td id=\"T_5c1cb_row7_col3\" class=\"data row7 col3\" >0.716829</td>\n",
       "    </tr>\n",
       "    <tr>\n",
       "      <th id=\"T_5c1cb_level0_row8\" class=\"row_heading level0 row8\" >SGDClassifier</th>\n",
       "      <td id=\"T_5c1cb_row8_col0\" class=\"data row8 col0\" >0.772492</td>\n",
       "      <td id=\"T_5c1cb_row8_col1\" class=\"data row8 col1\" >0.734539</td>\n",
       "      <td id=\"T_5c1cb_row8_col2\" class=\"data row8 col2\" >0.663836</td>\n",
       "      <td id=\"T_5c1cb_row8_col3\" class=\"data row8 col3\" >0.688582</td>\n",
       "    </tr>\n",
       "  </tbody>\n",
       "</table>\n"
      ],
      "text/plain": [
       "<pandas.io.formats.style.Styler at 0x7fc653f1ba90>"
      ]
     },
     "metadata": {},
     "output_type": "display_data"
    }
   ],
   "source": [
    "display_cv_results(grid_search.cv_results_)"
   ]
  },
  {
   "cell_type": "markdown",
   "id": "cf3847a1",
   "metadata": {
    "papermill": {
     "duration": 0.033419,
     "end_time": "2023-03-26T19:08:45.568849",
     "exception": false,
     "start_time": "2023-03-26T19:08:45.535430",
     "status": "completed"
    },
    "tags": []
   },
   "source": [
    "### Tuning Best Models"
   ]
  },
  {
   "cell_type": "code",
   "execution_count": 44,
   "id": "7bfa6ef9",
   "metadata": {
    "execution": {
     "iopub.execute_input": "2023-03-26T19:08:45.634921Z",
     "iopub.status.busy": "2023-03-26T19:08:45.634487Z",
     "iopub.status.idle": "2023-03-26T19:09:18.571414Z",
     "shell.execute_reply": "2023-03-26T19:09:18.570112Z"
    },
    "papermill": {
     "duration": 33.004458,
     "end_time": "2023-03-26T19:09:18.605613",
     "exception": false,
     "start_time": "2023-03-26T19:08:45.601155",
     "status": "completed"
    },
    "tags": []
   },
   "outputs": [
    {
     "name": "stdout",
     "output_type": "stream",
     "text": [
      "Fitting 6 folds for each of 169 candidates, totalling 1014 fits\n"
     ]
    },
    {
     "data": {
      "text/html": [
       "<div>\n",
       "<style scoped>\n",
       "    .dataframe tbody tr th:only-of-type {\n",
       "        vertical-align: middle;\n",
       "    }\n",
       "\n",
       "    .dataframe tbody tr th {\n",
       "        vertical-align: top;\n",
       "    }\n",
       "\n",
       "    .dataframe thead th {\n",
       "        text-align: right;\n",
       "    }\n",
       "</style>\n",
       "<table border=\"1\" class=\"dataframe\">\n",
       "  <thead>\n",
       "    <tr style=\"text-align: right;\">\n",
       "      <th></th>\n",
       "      <th>mean_fit_time</th>\n",
       "      <th>std_fit_time</th>\n",
       "      <th>mean_score_time</th>\n",
       "      <th>std_score_time</th>\n",
       "      <th>param_model</th>\n",
       "      <th>param_model__C</th>\n",
       "      <th>param_model__gamma</th>\n",
       "      <th>param_model__kernel</th>\n",
       "      <th>param_model__max_iter</th>\n",
       "      <th>param_model__penalty</th>\n",
       "      <th>param_model__solver</th>\n",
       "      <th>params</th>\n",
       "      <th>split0_test_score</th>\n",
       "      <th>split1_test_score</th>\n",
       "      <th>split2_test_score</th>\n",
       "      <th>split3_test_score</th>\n",
       "      <th>split4_test_score</th>\n",
       "      <th>split5_test_score</th>\n",
       "      <th>mean_test_score</th>\n",
       "      <th>std_test_score</th>\n",
       "      <th>rank_test_score</th>\n",
       "    </tr>\n",
       "  </thead>\n",
       "  <tbody>\n",
       "    <tr>\n",
       "      <th>11</th>\n",
       "      <td>0.075706</td>\n",
       "      <td>0.008925</td>\n",
       "      <td>0.027850</td>\n",
       "      <td>0.000468</td>\n",
       "      <td>SVC(C=2, gamma=0.05)</td>\n",
       "      <td>2</td>\n",
       "      <td>0.05</td>\n",
       "      <td>rbf</td>\n",
       "      <td>NaN</td>\n",
       "      <td>NaN</td>\n",
       "      <td>NaN</td>\n",
       "      <td>{'model': SVC(C=2, gamma=0.05), 'model__C': 2,...</td>\n",
       "      <td>0.789916</td>\n",
       "      <td>0.865546</td>\n",
       "      <td>0.831933</td>\n",
       "      <td>0.857143</td>\n",
       "      <td>0.813559</td>\n",
       "      <td>0.838983</td>\n",
       "      <td>0.832847</td>\n",
       "      <td>0.025538</td>\n",
       "      <td>1</td>\n",
       "    </tr>\n",
       "    <tr>\n",
       "      <th>39</th>\n",
       "      <td>0.086539</td>\n",
       "      <td>0.008748</td>\n",
       "      <td>0.028979</td>\n",
       "      <td>0.000692</td>\n",
       "      <td>SVC(C=2, gamma=0.05)</td>\n",
       "      <td>4</td>\n",
       "      <td>0.35</td>\n",
       "      <td>rbf</td>\n",
       "      <td>NaN</td>\n",
       "      <td>NaN</td>\n",
       "      <td>NaN</td>\n",
       "      <td>{'model': SVC(C=2, gamma=0.05), 'model__C': 4,...</td>\n",
       "      <td>0.798319</td>\n",
       "      <td>0.823529</td>\n",
       "      <td>0.823529</td>\n",
       "      <td>0.865546</td>\n",
       "      <td>0.855932</td>\n",
       "      <td>0.813559</td>\n",
       "      <td>0.830069</td>\n",
       "      <td>0.023430</td>\n",
       "      <td>2</td>\n",
       "    </tr>\n",
       "    <tr>\n",
       "      <th>50</th>\n",
       "      <td>0.087207</td>\n",
       "      <td>0.007974</td>\n",
       "      <td>0.029601</td>\n",
       "      <td>0.001662</td>\n",
       "      <td>SVC(C=2, gamma=0.05)</td>\n",
       "      <td>5</td>\n",
       "      <td>0.35</td>\n",
       "      <td>rbf</td>\n",
       "      <td>NaN</td>\n",
       "      <td>NaN</td>\n",
       "      <td>NaN</td>\n",
       "      <td>{'model': SVC(C=2, gamma=0.05), 'model__C': 5,...</td>\n",
       "      <td>0.789916</td>\n",
       "      <td>0.823529</td>\n",
       "      <td>0.823529</td>\n",
       "      <td>0.873950</td>\n",
       "      <td>0.855932</td>\n",
       "      <td>0.813559</td>\n",
       "      <td>0.830069</td>\n",
       "      <td>0.027583</td>\n",
       "      <td>2</td>\n",
       "    </tr>\n",
       "    <tr>\n",
       "      <th>71</th>\n",
       "      <td>0.093887</td>\n",
       "      <td>0.013864</td>\n",
       "      <td>0.031174</td>\n",
       "      <td>0.005388</td>\n",
       "      <td>SVC(C=2, gamma=0.05)</td>\n",
       "      <td>7</td>\n",
       "      <td>0.3</td>\n",
       "      <td>rbf</td>\n",
       "      <td>NaN</td>\n",
       "      <td>NaN</td>\n",
       "      <td>NaN</td>\n",
       "      <td>{'model': SVC(C=2, gamma=0.05), 'model__C': 7,...</td>\n",
       "      <td>0.789916</td>\n",
       "      <td>0.823529</td>\n",
       "      <td>0.831933</td>\n",
       "      <td>0.865546</td>\n",
       "      <td>0.855932</td>\n",
       "      <td>0.813559</td>\n",
       "      <td>0.830069</td>\n",
       "      <td>0.025359</td>\n",
       "      <td>2</td>\n",
       "    </tr>\n",
       "    <tr>\n",
       "      <th>0</th>\n",
       "      <td>0.077323</td>\n",
       "      <td>0.011245</td>\n",
       "      <td>0.030055</td>\n",
       "      <td>0.002114</td>\n",
       "      <td>SVC(C=2, gamma=0.05)</td>\n",
       "      <td>1</td>\n",
       "      <td>0.05</td>\n",
       "      <td>rbf</td>\n",
       "      <td>NaN</td>\n",
       "      <td>NaN</td>\n",
       "      <td>NaN</td>\n",
       "      <td>{'model': SVC(C=2, gamma=0.05), 'model__C': 1,...</td>\n",
       "      <td>0.798319</td>\n",
       "      <td>0.857143</td>\n",
       "      <td>0.831933</td>\n",
       "      <td>0.848739</td>\n",
       "      <td>0.813559</td>\n",
       "      <td>0.830508</td>\n",
       "      <td>0.830034</td>\n",
       "      <td>0.019857</td>\n",
       "      <td>5</td>\n",
       "    </tr>\n",
       "  </tbody>\n",
       "</table>\n",
       "</div>"
      ],
      "text/plain": [
       "    mean_fit_time  std_fit_time  mean_score_time  std_score_time  \\\n",
       "11       0.075706      0.008925         0.027850        0.000468   \n",
       "39       0.086539      0.008748         0.028979        0.000692   \n",
       "50       0.087207      0.007974         0.029601        0.001662   \n",
       "71       0.093887      0.013864         0.031174        0.005388   \n",
       "0        0.077323      0.011245         0.030055        0.002114   \n",
       "\n",
       "             param_model param_model__C param_model__gamma  \\\n",
       "11  SVC(C=2, gamma=0.05)              2               0.05   \n",
       "39  SVC(C=2, gamma=0.05)              4               0.35   \n",
       "50  SVC(C=2, gamma=0.05)              5               0.35   \n",
       "71  SVC(C=2, gamma=0.05)              7                0.3   \n",
       "0   SVC(C=2, gamma=0.05)              1               0.05   \n",
       "\n",
       "   param_model__kernel param_model__max_iter param_model__penalty  \\\n",
       "11                 rbf                   NaN                  NaN   \n",
       "39                 rbf                   NaN                  NaN   \n",
       "50                 rbf                   NaN                  NaN   \n",
       "71                 rbf                   NaN                  NaN   \n",
       "0                  rbf                   NaN                  NaN   \n",
       "\n",
       "   param_model__solver                                             params  \\\n",
       "11                 NaN  {'model': SVC(C=2, gamma=0.05), 'model__C': 2,...   \n",
       "39                 NaN  {'model': SVC(C=2, gamma=0.05), 'model__C': 4,...   \n",
       "50                 NaN  {'model': SVC(C=2, gamma=0.05), 'model__C': 5,...   \n",
       "71                 NaN  {'model': SVC(C=2, gamma=0.05), 'model__C': 7,...   \n",
       "0                  NaN  {'model': SVC(C=2, gamma=0.05), 'model__C': 1,...   \n",
       "\n",
       "    split0_test_score  split1_test_score  split2_test_score  \\\n",
       "11           0.789916           0.865546           0.831933   \n",
       "39           0.798319           0.823529           0.823529   \n",
       "50           0.789916           0.823529           0.823529   \n",
       "71           0.789916           0.823529           0.831933   \n",
       "0            0.798319           0.857143           0.831933   \n",
       "\n",
       "    split3_test_score  split4_test_score  split5_test_score  mean_test_score  \\\n",
       "11           0.857143           0.813559           0.838983         0.832847   \n",
       "39           0.865546           0.855932           0.813559         0.830069   \n",
       "50           0.873950           0.855932           0.813559         0.830069   \n",
       "71           0.865546           0.855932           0.813559         0.830069   \n",
       "0            0.848739           0.813559           0.830508         0.830034   \n",
       "\n",
       "    std_test_score  rank_test_score  \n",
       "11        0.025538                1  \n",
       "39        0.023430                2  \n",
       "50        0.027583                2  \n",
       "71        0.025359                2  \n",
       "0         0.019857                5  "
      ]
     },
     "execution_count": 44,
     "metadata": {},
     "output_type": "execute_result"
    }
   ],
   "source": [
    "params_tune = [\n",
    "    {\n",
    "        'model': [SVC()],\n",
    "        'model__kernel': ['rbf'],\n",
    "        'model__C': np.arange(1, 15, 1),\n",
    "        'model__gamma': np.arange(0.05, 0.65, 0.05)[:-1]\n",
    "    }, \n",
    "    {\n",
    "        'model': [LogisticRegression()],\n",
    "        'model__solver': ['liblinear'],\n",
    "        'model__C': np.arange(0.5, 25, 5),\n",
    "        'model__penalty': ['l1', 'l2'],\n",
    "        'model__max_iter': [4000]\n",
    "    },\n",
    "    {\n",
    "        'model': [LogisticRegression()],\n",
    "        'model__solver': ['lbfgs'],\n",
    "        'model__C': np.arange(0.5, 25, 5),\n",
    "        'model__max_iter': [4000]\n",
    "    },\n",
    "]\n",
    "grid_search_tuned = GridSearchCV(full_pipeline, params_tune, cv=6, n_jobs=-1,\n",
    "                                 scoring='accuracy', refit=True, verbose=1)\n",
    "grid_search_tuned.fit(X_train, y_train)\n",
    "(pd.DataFrame(grid_search_tuned.cv_results_)\n",
    "    .sort_values(by=['rank_test_score'], ascending=True).head())"
   ]
  },
  {
   "cell_type": "code",
   "execution_count": 45,
   "id": "0f08297e",
   "metadata": {
    "execution": {
     "iopub.execute_input": "2023-03-26T19:09:18.672450Z",
     "iopub.status.busy": "2023-03-26T19:09:18.671204Z",
     "iopub.status.idle": "2023-03-26T19:09:18.734040Z",
     "shell.execute_reply": "2023-03-26T19:09:18.732835Z"
    },
    "papermill": {
     "duration": 0.099157,
     "end_time": "2023-03-26T19:09:18.736804",
     "exception": false,
     "start_time": "2023-03-26T19:09:18.637647",
     "status": "completed"
    },
    "tags": []
   },
   "outputs": [
    {
     "data": {
      "text/html": [
       "<style type=\"text/css\">\n",
       "#T_ad670_row0_col0 {\n",
       "  background-color: #fde725;\n",
       "  color: #000000;\n",
       "}\n",
       "#T_ad670_row1_col0 {\n",
       "  background-color: #440154;\n",
       "  color: #f1f1f1;\n",
       "}\n",
       "</style>\n",
       "<table id=\"T_ad670_\">\n",
       "  <thead>\n",
       "    <tr>\n",
       "      <th class=\"blank level0\" >&nbsp;</th>\n",
       "      <th class=\"col_heading level0 col0\" >mean_test_score</th>\n",
       "    </tr>\n",
       "    <tr>\n",
       "      <th class=\"index_name level0\" >model</th>\n",
       "      <th class=\"blank col0\" >&nbsp;</th>\n",
       "    </tr>\n",
       "  </thead>\n",
       "  <tbody>\n",
       "    <tr>\n",
       "      <th id=\"T_ad670_level0_row0\" class=\"row_heading level0 row0\" >SVC</th>\n",
       "      <td id=\"T_ad670_row0_col0\" class=\"data row0 col0\" >0.832847</td>\n",
       "    </tr>\n",
       "    <tr>\n",
       "      <th id=\"T_ad670_level0_row1\" class=\"row_heading level0 row1\" >LogisticRegression</th>\n",
       "      <td id=\"T_ad670_row1_col0\" class=\"data row1 col0\" >0.825856</td>\n",
       "    </tr>\n",
       "  </tbody>\n",
       "</table>\n"
      ],
      "text/plain": [
       "<pandas.io.formats.style.Styler at 0x7fc653ec2310>"
      ]
     },
     "metadata": {},
     "output_type": "display_data"
    }
   ],
   "source": [
    "display_cv_results(grid_search_tuned.cv_results_, 'mean_test_score')"
   ]
  },
  {
   "cell_type": "code",
   "execution_count": 46,
   "id": "05f07e3d",
   "metadata": {
    "execution": {
     "iopub.execute_input": "2023-03-26T19:09:18.804241Z",
     "iopub.status.busy": "2023-03-26T19:09:18.803111Z",
     "iopub.status.idle": "2023-03-26T19:09:18.810614Z",
     "shell.execute_reply": "2023-03-26T19:09:18.809490Z"
    },
    "papermill": {
     "duration": 0.044357,
     "end_time": "2023-03-26T19:09:18.813576",
     "exception": false,
     "start_time": "2023-03-26T19:09:18.769219",
     "status": "completed"
    },
    "tags": []
   },
   "outputs": [
    {
     "data": {
      "text/plain": [
       "{'model': SVC(C=2, gamma=0.05),\n",
       " 'model__C': 2,\n",
       " 'model__gamma': 0.05,\n",
       " 'model__kernel': 'rbf'}"
      ]
     },
     "execution_count": 46,
     "metadata": {},
     "output_type": "execute_result"
    }
   ],
   "source": [
    "grid_search_tuned.best_params_"
   ]
  },
  {
   "cell_type": "code",
   "execution_count": 47,
   "id": "01c10125",
   "metadata": {
    "execution": {
     "iopub.execute_input": "2023-03-26T19:09:18.881736Z",
     "iopub.status.busy": "2023-03-26T19:09:18.880749Z",
     "iopub.status.idle": "2023-03-26T19:09:18.887089Z",
     "shell.execute_reply": "2023-03-26T19:09:18.886289Z"
    },
    "papermill": {
     "duration": 0.042935,
     "end_time": "2023-03-26T19:09:18.889290",
     "exception": false,
     "start_time": "2023-03-26T19:09:18.846355",
     "status": "completed"
    },
    "tags": []
   },
   "outputs": [
    {
     "data": {
      "text/plain": [
       "'Best score: 0.8328466980012345'"
      ]
     },
     "metadata": {},
     "output_type": "display_data"
    }
   ],
   "source": [
    "display(f\"Best score: {grid_search_tuned.best_score_}\")"
   ]
  },
  {
   "cell_type": "code",
   "execution_count": 48,
   "id": "307b668c",
   "metadata": {
    "execution": {
     "iopub.execute_input": "2023-03-26T19:09:18.956700Z",
     "iopub.status.busy": "2023-03-26T19:09:18.955699Z",
     "iopub.status.idle": "2023-03-26T19:09:19.464726Z",
     "shell.execute_reply": "2023-03-26T19:09:19.463452Z"
    },
    "papermill": {
     "duration": 0.545692,
     "end_time": "2023-03-26T19:09:19.467644",
     "exception": false,
     "start_time": "2023-03-26T19:09:18.921952",
     "status": "completed"
    },
    "tags": []
   },
   "outputs": [
    {
     "data": {
      "text/markdown": [
       "## <span style=\"color: black;\">Evaluation on the Validation Set (tuned estimator)</span>"
      ],
      "text/plain": [
       "<IPython.core.display.Markdown object>"
      ]
     },
     "metadata": {},
     "output_type": "display_data"
    },
    {
     "data": {
      "text/markdown": [
       "Accuracy: 84.3575%"
      ],
      "text/plain": [
       "<IPython.core.display.Markdown object>"
      ]
     },
     "metadata": {},
     "output_type": "display_data"
    },
    {
     "data": {
      "image/png": "[encoded data removed]",
      "text/plain": [
       "<Figure size 1000x500 with 2 Axes>"
      ]
     },
     "metadata": {},
     "output_type": "display_data"
    }
   ],
   "source": [
    "best_estimator = grid_search_tuned.best_estimator_\n",
    "y_val_predicted_tuned = best_estimator.predict(X_val)\n",
    "display_evalreport(y_val, y_val_predicted_tuned, \"Validation Set (tuned estimator)\")"
   ]
  },
  {
   "cell_type": "markdown",
   "id": "5cd2666d",
   "metadata": {
    "papermill": {
     "duration": 0.033765,
     "end_time": "2023-03-26T19:09:19.536208",
     "exception": false,
     "start_time": "2023-03-26T19:09:19.502443",
     "status": "completed"
    },
    "tags": []
   },
   "source": [
    "Visualize loss with respect to hyperparameters"
   ]
  },
  {
   "cell_type": "code",
   "execution_count": 49,
   "id": "9527685d",
   "metadata": {
    "execution": {
     "iopub.execute_input": "2023-03-26T19:09:19.606584Z",
     "iopub.status.busy": "2023-03-26T19:09:19.605271Z",
     "iopub.status.idle": "2023-03-26T19:09:20.182529Z",
     "shell.execute_reply": "2023-03-26T19:09:20.181260Z"
    },
    "papermill": {
     "duration": 0.615386,
     "end_time": "2023-03-26T19:09:20.185276",
     "exception": false,
     "start_time": "2023-03-26T19:09:19.569890",
     "status": "completed"
    },
    "tags": []
   },
   "outputs": [
    {
     "data": {
      "image/png": "[encoded data removed]",
      "text/plain": [
       "<Figure size 600x400 with 1 Axes>"
      ]
     },
     "metadata": {},
     "output_type": "display_data"
    }
   ],
   "source": [
    "y_scores = cross_val_predict(best_estimator, X_train, y_train, cv=3,\n",
    "                         method=\"decision_function\")\n",
    "fpr, tpr, thresholds = roc_curve(y_train, y_scores)\n",
    "plt.figure(figsize=(6, 4))\n",
    "plot_roc_curve(fpr, tpr)\n",
    "plt.show()"
   ]
  },
  {
   "cell_type": "code",
   "execution_count": 50,
   "id": "0f413da6",
   "metadata": {
    "execution": {
     "iopub.execute_input": "2023-03-26T19:09:20.257214Z",
     "iopub.status.busy": "2023-03-26T19:09:20.255795Z",
     "iopub.status.idle": "2023-03-26T19:09:20.401722Z",
     "shell.execute_reply": "2023-03-26T19:09:20.400739Z"
    },
    "papermill": {
     "duration": 0.184991,
     "end_time": "2023-03-26T19:09:20.404287",
     "exception": false,
     "start_time": "2023-03-26T19:09:20.219296",
     "status": "completed"
    },
    "tags": []
   },
   "outputs": [
    {
     "data": {
      "image/png": "[encoded data removed]",
      "text/plain": [
       "<Figure size 600x400 with 1 Axes>"
      ]
     },
     "metadata": {},
     "output_type": "display_data"
    }
   ],
   "source": [
    "precisions, recalls, thresholds = precision_recall_curve(y_train, y_scores)\n",
    "plt.figure(figsize=(6, 4))\n",
    "plot_precision_vs_recall(precisions, recalls)\n",
    "plt.show()"
   ]
  },
  {
   "cell_type": "code",
   "execution_count": 51,
   "id": "ee8657af",
   "metadata": {
    "execution": {
     "iopub.execute_input": "2023-03-26T19:09:20.476829Z",
     "iopub.status.busy": "2023-03-26T19:09:20.475415Z",
     "iopub.status.idle": "2023-03-26T19:09:27.482942Z",
     "shell.execute_reply": "2023-03-26T19:09:27.482075Z"
    },
    "papermill": {
     "duration": 7.046536,
     "end_time": "2023-03-26T19:09:27.485371",
     "exception": false,
     "start_time": "2023-03-26T19:09:20.438835",
     "status": "completed"
    },
    "tags": []
   },
   "outputs": [
    {
     "data": {
      "image/png": "[encoded data removed]",
      "text/plain": [
       "<Figure size 640x480 with 1 Axes>"
      ]
     },
     "metadata": {},
     "output_type": "display_data"
    }
   ],
   "source": [
    "plot_learning_curve(best_estimator, X_train, y_train)"
   ]
  },
  {
   "cell_type": "code",
   "execution_count": 52,
   "id": "5008005d",
   "metadata": {
    "execution": {
     "iopub.execute_input": "2023-03-26T19:09:27.560463Z",
     "iopub.status.busy": "2023-03-26T19:09:27.559366Z",
     "iopub.status.idle": "2023-03-26T19:09:27.577098Z",
     "shell.execute_reply": "2023-03-26T19:09:27.575811Z"
    },
    "papermill": {
     "duration": 0.057372,
     "end_time": "2023-03-26T19:09:27.579760",
     "exception": false,
     "start_time": "2023-03-26T19:09:27.522388",
     "status": "completed"
    },
    "tags": []
   },
   "outputs": [
    {
     "data": {
      "text/html": [
       "<div>\n",
       "<style scoped>\n",
       "    .dataframe tbody tr th:only-of-type {\n",
       "        vertical-align: middle;\n",
       "    }\n",
       "\n",
       "    .dataframe tbody tr th {\n",
       "        vertical-align: top;\n",
       "    }\n",
       "\n",
       "    .dataframe thead th {\n",
       "        text-align: right;\n",
       "    }\n",
       "</style>\n",
       "<table border=\"1\" class=\"dataframe\">\n",
       "  <thead>\n",
       "    <tr style=\"text-align: right;\">\n",
       "      <th></th>\n",
       "      <th>Survived</th>\n",
       "      <th>Pclass</th>\n",
       "      <th>Name</th>\n",
       "      <th>Sex</th>\n",
       "      <th>Age</th>\n",
       "      <th>SibSp</th>\n",
       "      <th>Parch</th>\n",
       "      <th>Ticket</th>\n",
       "      <th>Fare</th>\n",
       "      <th>Cabin</th>\n",
       "      <th>Embarked</th>\n",
       "    </tr>\n",
       "    <tr>\n",
       "      <th>PassengerId</th>\n",
       "      <th></th>\n",
       "      <th></th>\n",
       "      <th></th>\n",
       "      <th></th>\n",
       "      <th></th>\n",
       "      <th></th>\n",
       "      <th></th>\n",
       "      <th></th>\n",
       "      <th></th>\n",
       "      <th></th>\n",
       "      <th></th>\n",
       "    </tr>\n",
       "  </thead>\n",
       "  <tbody>\n",
       "    <tr>\n",
       "      <th>1</th>\n",
       "      <td>0</td>\n",
       "      <td>3</td>\n",
       "      <td>Braund, Mr. Owen Harris</td>\n",
       "      <td>male</td>\n",
       "      <td>22.0</td>\n",
       "      <td>1</td>\n",
       "      <td>0</td>\n",
       "      <td>A/5 21171</td>\n",
       "      <td>7.2500</td>\n",
       "      <td>NaN</td>\n",
       "      <td>S</td>\n",
       "    </tr>\n",
       "    <tr>\n",
       "      <th>2</th>\n",
       "      <td>1</td>\n",
       "      <td>1</td>\n",
       "      <td>Cumings, Mrs. John Bradley (Florence Briggs Th...</td>\n",
       "      <td>female</td>\n",
       "      <td>38.0</td>\n",
       "      <td>1</td>\n",
       "      <td>0</td>\n",
       "      <td>PC 17599</td>\n",
       "      <td>71.2833</td>\n",
       "      <td>C85</td>\n",
       "      <td>C</td>\n",
       "    </tr>\n",
       "    <tr>\n",
       "      <th>3</th>\n",
       "      <td>1</td>\n",
       "      <td>3</td>\n",
       "      <td>Heikkinen, Miss. Laina</td>\n",
       "      <td>female</td>\n",
       "      <td>26.0</td>\n",
       "      <td>0</td>\n",
       "      <td>0</td>\n",
       "      <td>STON/O2. 3101282</td>\n",
       "      <td>7.9250</td>\n",
       "      <td>NaN</td>\n",
       "      <td>S</td>\n",
       "    </tr>\n",
       "    <tr>\n",
       "      <th>4</th>\n",
       "      <td>1</td>\n",
       "      <td>1</td>\n",
       "      <td>Futrelle, Mrs. Jacques Heath (Lily May Peel)</td>\n",
       "      <td>female</td>\n",
       "      <td>35.0</td>\n",
       "      <td>1</td>\n",
       "      <td>0</td>\n",
       "      <td>113803</td>\n",
       "      <td>53.1000</td>\n",
       "      <td>C123</td>\n",
       "      <td>S</td>\n",
       "    </tr>\n",
       "    <tr>\n",
       "      <th>5</th>\n",
       "      <td>0</td>\n",
       "      <td>3</td>\n",
       "      <td>Allen, Mr. William Henry</td>\n",
       "      <td>male</td>\n",
       "      <td>35.0</td>\n",
       "      <td>0</td>\n",
       "      <td>0</td>\n",
       "      <td>373450</td>\n",
       "      <td>8.0500</td>\n",
       "      <td>NaN</td>\n",
       "      <td>S</td>\n",
       "    </tr>\n",
       "  </tbody>\n",
       "</table>\n",
       "</div>"
      ],
      "text/plain": [
       "             Survived  Pclass  \\\n",
       "PassengerId                     \n",
       "1                   0       3   \n",
       "2                   1       1   \n",
       "3                   1       3   \n",
       "4                   1       1   \n",
       "5                   0       3   \n",
       "\n",
       "                                                          Name     Sex   Age  \\\n",
       "PassengerId                                                                    \n",
       "1                                      Braund, Mr. Owen Harris    male  22.0   \n",
       "2            Cumings, Mrs. John Bradley (Florence Briggs Th...  female  38.0   \n",
       "3                                       Heikkinen, Miss. Laina  female  26.0   \n",
       "4                 Futrelle, Mrs. Jacques Heath (Lily May Peel)  female  35.0   \n",
       "5                                     Allen, Mr. William Henry    male  35.0   \n",
       "\n",
       "             SibSp  Parch            Ticket     Fare Cabin Embarked  \n",
       "PassengerId                                                          \n",
       "1                1      0         A/5 21171   7.2500   NaN        S  \n",
       "2                1      0          PC 17599  71.2833   C85        C  \n",
       "3                0      0  STON/O2. 3101282   7.9250   NaN        S  \n",
       "4                1      0            113803  53.1000  C123        S  \n",
       "5                0      0            373450   8.0500   NaN        S  "
      ]
     },
     "execution_count": 52,
     "metadata": {},
     "output_type": "execute_result"
    }
   ],
   "source": [
    "train_data.head()"
   ]
  },
  {
   "cell_type": "markdown",
   "id": "d066558b",
   "metadata": {
    "papermill": {
     "duration": 0.035945,
     "end_time": "2023-03-26T19:09:27.651403",
     "exception": false,
     "start_time": "2023-03-26T19:09:27.615458",
     "status": "completed"
    },
    "tags": []
   },
   "source": [
    "Refit the best estimator on the full train dataset."
   ]
  },
  {
   "cell_type": "code",
   "execution_count": 53,
   "id": "97091363",
   "metadata": {
    "execution": {
     "iopub.execute_input": "2023-03-26T19:09:27.725597Z",
     "iopub.status.busy": "2023-03-26T19:09:27.725129Z",
     "iopub.status.idle": "2023-03-26T19:09:28.101119Z",
     "shell.execute_reply": "2023-03-26T19:09:28.099895Z"
    },
    "papermill": {
     "duration": 0.4165,
     "end_time": "2023-03-26T19:09:28.103606",
     "exception": false,
     "start_time": "2023-03-26T19:09:27.687106",
     "status": "completed"
    },
    "tags": []
   },
   "outputs": [
    {
     "data": {
      "text/html": [
       "<style>#sk-e088c383-69e6-4d8e-914e-0d4eef874f98 {color: black;background-color: white;}#sk-e088c383-69e6-4d8e-914e-0d4eef874f98 pre{padding: 0;}#sk-e088c383-69e6-4d8e-914e-0d4eef874f98 div.sk-toggleable {background-color: white;}#sk-e088c383-69e6-4d8e-914e-0d4eef874f98 label.sk-toggleable__label {cursor: pointer;display: block;width: 100%;margin-bottom: 0;padding: 0.3em;box-sizing: border-box;text-align: center;}#sk-e088c383-69e6-4d8e-914e-0d4eef874f98 label.sk-toggleable__label-arrow:before {content: \"▸\";float: left;margin-right: 0.25em;color: #696969;}#sk-e088c383-69e6-4d8e-914e-0d4eef874f98 label.sk-toggleable__label-arrow:hover:before {color: black;}#sk-e088c383-69e6-4d8e-914e-0d4eef874f98 div.sk-estimator:hover label.sk-toggleable__label-arrow:before {color: black;}#sk-e088c383-69e6-4d8e-914e-0d4eef874f98 div.sk-toggleable__content {max-height: 0;max-width: 0;overflow: hidden;text-align: left;background-color: #f0f8ff;}#sk-e088c383-69e6-4d8e-914e-0d4eef874f98 div.sk-toggleable__content pre {margin: 0.2em;color: black;border-radius: 0.25em;background-color: #f0f8ff;}#sk-e088c383-69e6-4d8e-914e-0d4eef874f98 input.sk-toggleable__control:checked~div.sk-toggleable__content {max-height: 200px;max-width: 100%;overflow: auto;}#sk-e088c383-69e6-4d8e-914e-0d4eef874f98 input.sk-toggleable__control:checked~label.sk-toggleable__label-arrow:before {content: \"▾\";}#sk-e088c383-69e6-4d8e-914e-0d4eef874f98 div.sk-estimator input.sk-toggleable__control:checked~label.sk-toggleable__label {background-color: #d4ebff;}#sk-e088c383-69e6-4d8e-914e-0d4eef874f98 div.sk-label input.sk-toggleable__control:checked~label.sk-toggleable__label {background-color: #d4ebff;}#sk-e088c383-69e6-4d8e-914e-0d4eef874f98 input.sk-hidden--visually {border: 0;clip: rect(1px 1px 1px 1px);clip: rect(1px, 1px, 1px, 1px);height: 1px;margin: -1px;overflow: hidden;padding: 0;position: absolute;width: 1px;}#sk-e088c383-69e6-4d8e-914e-0d4eef874f98 div.sk-estimator {font-family: monospace;background-color: #f0f8ff;border: 1px dotted black;border-radius: 0.25em;box-sizing: border-box;margin-bottom: 0.5em;}#sk-e088c383-69e6-4d8e-914e-0d4eef874f98 div.sk-estimator:hover {background-color: #d4ebff;}#sk-e088c383-69e6-4d8e-914e-0d4eef874f98 div.sk-parallel-item::after {content: \"\";width: 100%;border-bottom: 1px solid gray;flex-grow: 1;}#sk-e088c383-69e6-4d8e-914e-0d4eef874f98 div.sk-label:hover label.sk-toggleable__label {background-color: #d4ebff;}#sk-e088c383-69e6-4d8e-914e-0d4eef874f98 div.sk-serial::before {content: \"\";position: absolute;border-left: 1px solid gray;box-sizing: border-box;top: 2em;bottom: 0;left: 50%;}#sk-e088c383-69e6-4d8e-914e-0d4eef874f98 div.sk-serial {display: flex;flex-direction: column;align-items: center;background-color: white;padding-right: 0.2em;padding-left: 0.2em;}#sk-e088c383-69e6-4d8e-914e-0d4eef874f98 div.sk-item {z-index: 1;}#sk-e088c383-69e6-4d8e-914e-0d4eef874f98 div.sk-parallel {display: flex;align-items: stretch;justify-content: center;background-color: white;}#sk-e088c383-69e6-4d8e-914e-0d4eef874f98 div.sk-parallel::before {content: \"\";position: absolute;border-left: 1px solid gray;box-sizing: border-box;top: 2em;bottom: 0;left: 50%;}#sk-e088c383-69e6-4d8e-914e-0d4eef874f98 div.sk-parallel-item {display: flex;flex-direction: column;position: relative;background-color: white;}#sk-e088c383-69e6-4d8e-914e-0d4eef874f98 div.sk-parallel-item:first-child::after {align-self: flex-end;width: 50%;}#sk-e088c383-69e6-4d8e-914e-0d4eef874f98 div.sk-parallel-item:last-child::after {align-self: flex-start;width: 50%;}#sk-e088c383-69e6-4d8e-914e-0d4eef874f98 div.sk-parallel-item:only-child::after {width: 0;}#sk-e088c383-69e6-4d8e-914e-0d4eef874f98 div.sk-dashed-wrapped {border: 1px dashed gray;margin: 0 0.4em 0.5em 0.4em;box-sizing: border-box;padding-bottom: 0.4em;background-color: white;position: relative;}#sk-e088c383-69e6-4d8e-914e-0d4eef874f98 div.sk-label label {font-family: monospace;font-weight: bold;background-color: white;display: inline-block;line-height: 1.2em;}#sk-e088c383-69e6-4d8e-914e-0d4eef874f98 div.sk-label-container {position: relative;z-index: 2;text-align: center;}#sk-e088c383-69e6-4d8e-914e-0d4eef874f98 div.sk-container {/* jupyter's `normalize.less` sets `[hidden] { display: none; }` but bootstrap.min.css set `[hidden] { display: none !important; }` so we also need the `!important` here to be able to override the default hidden behavior on the sphinx rendered scikit-learn.org. See: https://github.com/scikit-learn/scikit-learn/issues/21755 */display: inline-block !important;position: relative;}#sk-e088c383-69e6-4d8e-914e-0d4eef874f98 div.sk-text-repr-fallback {display: none;}</style><div id=\"sk-e088c383-69e6-4d8e-914e-0d4eef874f98\" class=\"sk-top-container\"><div class=\"sk-text-repr-fallback\"><pre>Pipeline(steps=[(&#x27;preprocessor&#x27;,\n",
       "                 Pipeline(steps=[(&#x27;newfeatureadder&#x27;, NewFeatureAdder()),\n",
       "                                 (&#x27;columntransformer&#x27;,\n",
       "                                  ColumnTransformer(transformers=[(&#x27;standardscaler&#x27;,\n",
       "                                                                   StandardScaler(),\n",
       "                                                                   [&#x27;Age&#x27;]),\n",
       "                                                                  (&#x27;pipeline-1&#x27;,\n",
       "                                                                   Pipeline(steps=[(&#x27;simpleimputer&#x27;,\n",
       "                                                                                    SimpleImputer(strategy=&#x27;most_frequent&#x27;)),\n",
       "                                                                                   (&#x27;standardscaler&#x27;,\n",
       "                                                                                    StandardScaler())]),\n",
       "                                                                   [&#x27;SibSp&#x27;,\n",
       "                                                                    &#x27;Parch&#x27;,\n",
       "                                                                    &#x27;Pclass&#x27;]),\n",
       "                                                                  (&#x27;pipeline-2&#x27;...\n",
       "                                                                                    SimpleImputer(strategy=&#x27;median&#x27;)),\n",
       "                                                                                   (&#x27;standardscaler&#x27;,\n",
       "                                                                                    StandardScaler())]),\n",
       "                                                                   [&#x27;Fare&#x27;]),\n",
       "                                                                  (&#x27;pipeline-3&#x27;,\n",
       "                                                                   Pipeline(steps=[(&#x27;simpleimputer&#x27;,\n",
       "                                                                                    SimpleImputer(strategy=&#x27;most_frequent&#x27;)),\n",
       "                                                                                   (&#x27;onehotencoder&#x27;,\n",
       "                                                                                    OneHotEncoder(handle_unknown=&#x27;ignore&#x27;,\n",
       "                                                                                                  sparse=False))]),\n",
       "                                                                   [&#x27;Sex&#x27;,\n",
       "                                                                    &#x27;Embarked&#x27;,\n",
       "                                                                    &#x27;CabinCat&#x27;,\n",
       "                                                                    &#x27;Title&#x27;])],\n",
       "                                                    verbose_feature_names_out=False)),\n",
       "                                 (&#x27;knnimputer&#x27;, KNNImputer())])),\n",
       "                (&#x27;model&#x27;, SVC(C=2, gamma=0.05))])</pre><b>Please rerun this cell to show the HTML repr or trust the notebook.</b></div><div class=\"sk-container\" hidden><div class=\"sk-item sk-dashed-wrapped\"><div class=\"sk-label-container\"><div class=\"sk-label sk-toggleable\"><input class=\"sk-toggleable__control sk-hidden--visually\" id=\"95c714cf-49fc-4d9a-88ae-d81330449a71\" type=\"checkbox\" ><label for=\"95c714cf-49fc-4d9a-88ae-d81330449a71\" class=\"sk-toggleable__label sk-toggleable__label-arrow\">Pipeline</label><div class=\"sk-toggleable__content\"><pre>Pipeline(steps=[(&#x27;preprocessor&#x27;,\n",
       "                 Pipeline(steps=[(&#x27;newfeatureadder&#x27;, NewFeatureAdder()),\n",
       "                                 (&#x27;columntransformer&#x27;,\n",
       "                                  ColumnTransformer(transformers=[(&#x27;standardscaler&#x27;,\n",
       "                                                                   StandardScaler(),\n",
       "                                                                   [&#x27;Age&#x27;]),\n",
       "                                                                  (&#x27;pipeline-1&#x27;,\n",
       "                                                                   Pipeline(steps=[(&#x27;simpleimputer&#x27;,\n",
       "                                                                                    SimpleImputer(strategy=&#x27;most_frequent&#x27;)),\n",
       "                                                                                   (&#x27;standardscaler&#x27;,\n",
       "                                                                                    StandardScaler())]),\n",
       "                                                                   [&#x27;SibSp&#x27;,\n",
       "                                                                    &#x27;Parch&#x27;,\n",
       "                                                                    &#x27;Pclass&#x27;]),\n",
       "                                                                  (&#x27;pipeline-2&#x27;...\n",
       "                                                                                    SimpleImputer(strategy=&#x27;median&#x27;)),\n",
       "                                                                                   (&#x27;standardscaler&#x27;,\n",
       "                                                                                    StandardScaler())]),\n",
       "                                                                   [&#x27;Fare&#x27;]),\n",
       "                                                                  (&#x27;pipeline-3&#x27;,\n",
       "                                                                   Pipeline(steps=[(&#x27;simpleimputer&#x27;,\n",
       "                                                                                    SimpleImputer(strategy=&#x27;most_frequent&#x27;)),\n",
       "                                                                                   (&#x27;onehotencoder&#x27;,\n",
       "                                                                                    OneHotEncoder(handle_unknown=&#x27;ignore&#x27;,\n",
       "                                                                                                  sparse=False))]),\n",
       "                                                                   [&#x27;Sex&#x27;,\n",
       "                                                                    &#x27;Embarked&#x27;,\n",
       "                                                                    &#x27;CabinCat&#x27;,\n",
       "                                                                    &#x27;Title&#x27;])],\n",
       "                                                    verbose_feature_names_out=False)),\n",
       "                                 (&#x27;knnimputer&#x27;, KNNImputer())])),\n",
       "                (&#x27;model&#x27;, SVC(C=2, gamma=0.05))])</pre></div></div></div><div class=\"sk-serial\"><div class=\"sk-item\"><div class=\"sk-label-container\"><div class=\"sk-label sk-toggleable\"><input class=\"sk-toggleable__control sk-hidden--visually\" id=\"f98e816b-3324-405b-8745-b98453004c9c\" type=\"checkbox\" ><label for=\"f98e816b-3324-405b-8745-b98453004c9c\" class=\"sk-toggleable__label sk-toggleable__label-arrow\">preprocessor: Pipeline</label><div class=\"sk-toggleable__content\"><pre>Pipeline(steps=[(&#x27;newfeatureadder&#x27;, NewFeatureAdder()),\n",
       "                (&#x27;columntransformer&#x27;,\n",
       "                 ColumnTransformer(transformers=[(&#x27;standardscaler&#x27;,\n",
       "                                                  StandardScaler(), [&#x27;Age&#x27;]),\n",
       "                                                 (&#x27;pipeline-1&#x27;,\n",
       "                                                  Pipeline(steps=[(&#x27;simpleimputer&#x27;,\n",
       "                                                                   SimpleImputer(strategy=&#x27;most_frequent&#x27;)),\n",
       "                                                                  (&#x27;standardscaler&#x27;,\n",
       "                                                                   StandardScaler())]),\n",
       "                                                  [&#x27;SibSp&#x27;, &#x27;Parch&#x27;, &#x27;Pclass&#x27;]),\n",
       "                                                 (&#x27;pipeline-2&#x27;,\n",
       "                                                  Pipeline(steps=[(&#x27;simpleimputer&#x27;,\n",
       "                                                                   SimpleImputer(strategy=&#x27;median&#x27;)),\n",
       "                                                                  (&#x27;standardscaler&#x27;,\n",
       "                                                                   StandardScaler())]),\n",
       "                                                  [&#x27;Fare&#x27;]),\n",
       "                                                 (&#x27;pipeline-3&#x27;,\n",
       "                                                  Pipeline(steps=[(&#x27;simpleimputer&#x27;,\n",
       "                                                                   SimpleImputer(strategy=&#x27;most_frequent&#x27;)),\n",
       "                                                                  (&#x27;onehotencoder&#x27;,\n",
       "                                                                   OneHotEncoder(handle_unknown=&#x27;ignore&#x27;,\n",
       "                                                                                 sparse=False))]),\n",
       "                                                  [&#x27;Sex&#x27;, &#x27;Embarked&#x27;,\n",
       "                                                   &#x27;CabinCat&#x27;, &#x27;Title&#x27;])],\n",
       "                                   verbose_feature_names_out=False)),\n",
       "                (&#x27;knnimputer&#x27;, KNNImputer())])</pre></div></div></div><div class=\"sk-serial\"><div class=\"sk-item\"><div class=\"sk-estimator sk-toggleable\"><input class=\"sk-toggleable__control sk-hidden--visually\" id=\"5e12e74e-a4dd-44f6-83e2-0588027b41d2\" type=\"checkbox\" ><label for=\"5e12e74e-a4dd-44f6-83e2-0588027b41d2\" class=\"sk-toggleable__label sk-toggleable__label-arrow\">NewFeatureAdder</label><div class=\"sk-toggleable__content\"><pre>NewFeatureAdder()</pre></div></div></div><div class=\"sk-item sk-dashed-wrapped\"><div class=\"sk-label-container\"><div class=\"sk-label sk-toggleable\"><input class=\"sk-toggleable__control sk-hidden--visually\" id=\"14a1bea6-7ddb-4e70-9f07-cd73fa2c9444\" type=\"checkbox\" ><label for=\"14a1bea6-7ddb-4e70-9f07-cd73fa2c9444\" class=\"sk-toggleable__label sk-toggleable__label-arrow\">columntransformer: ColumnTransformer</label><div class=\"sk-toggleable__content\"><pre>ColumnTransformer(transformers=[(&#x27;standardscaler&#x27;, StandardScaler(), [&#x27;Age&#x27;]),\n",
       "                                (&#x27;pipeline-1&#x27;,\n",
       "                                 Pipeline(steps=[(&#x27;simpleimputer&#x27;,\n",
       "                                                  SimpleImputer(strategy=&#x27;most_frequent&#x27;)),\n",
       "                                                 (&#x27;standardscaler&#x27;,\n",
       "                                                  StandardScaler())]),\n",
       "                                 [&#x27;SibSp&#x27;, &#x27;Parch&#x27;, &#x27;Pclass&#x27;]),\n",
       "                                (&#x27;pipeline-2&#x27;,\n",
       "                                 Pipeline(steps=[(&#x27;simpleimputer&#x27;,\n",
       "                                                  SimpleImputer(strategy=&#x27;median&#x27;)),\n",
       "                                                 (&#x27;standardscaler&#x27;,\n",
       "                                                  StandardScaler())]),\n",
       "                                 [&#x27;Fare&#x27;]),\n",
       "                                (&#x27;pipeline-3&#x27;,\n",
       "                                 Pipeline(steps=[(&#x27;simpleimputer&#x27;,\n",
       "                                                  SimpleImputer(strategy=&#x27;most_frequent&#x27;)),\n",
       "                                                 (&#x27;onehotencoder&#x27;,\n",
       "                                                  OneHotEncoder(handle_unknown=&#x27;ignore&#x27;,\n",
       "                                                                sparse=False))]),\n",
       "                                 [&#x27;Sex&#x27;, &#x27;Embarked&#x27;, &#x27;CabinCat&#x27;, &#x27;Title&#x27;])],\n",
       "                  verbose_feature_names_out=False)</pre></div></div></div><div class=\"sk-parallel\"><div class=\"sk-parallel-item\"><div class=\"sk-item\"><div class=\"sk-label-container\"><div class=\"sk-label sk-toggleable\"><input class=\"sk-toggleable__control sk-hidden--visually\" id=\"f364c78b-95b0-4c29-ba8f-41001ee9a351\" type=\"checkbox\" ><label for=\"f364c78b-95b0-4c29-ba8f-41001ee9a351\" class=\"sk-toggleable__label sk-toggleable__label-arrow\">standardscaler</label><div class=\"sk-toggleable__content\"><pre>[&#x27;Age&#x27;]</pre></div></div></div><div class=\"sk-serial\"><div class=\"sk-item\"><div class=\"sk-estimator sk-toggleable\"><input class=\"sk-toggleable__control sk-hidden--visually\" id=\"0877bdb7-23c1-4eb2-b34b-aec54c5a4910\" type=\"checkbox\" ><label for=\"0877bdb7-23c1-4eb2-b34b-aec54c5a4910\" class=\"sk-toggleable__label sk-toggleable__label-arrow\">StandardScaler</label><div class=\"sk-toggleable__content\"><pre>StandardScaler()</pre></div></div></div></div></div></div><div class=\"sk-parallel-item\"><div class=\"sk-item\"><div class=\"sk-label-container\"><div class=\"sk-label sk-toggleable\"><input class=\"sk-toggleable__control sk-hidden--visually\" id=\"f2cf30c6-7301-4aab-8b18-3ec71d303c2e\" type=\"checkbox\" ><label for=\"f2cf30c6-7301-4aab-8b18-3ec71d303c2e\" class=\"sk-toggleable__label sk-toggleable__label-arrow\">pipeline-1</label><div class=\"sk-toggleable__content\"><pre>[&#x27;SibSp&#x27;, &#x27;Parch&#x27;, &#x27;Pclass&#x27;]</pre></div></div></div><div class=\"sk-serial\"><div class=\"sk-item\"><div class=\"sk-serial\"><div class=\"sk-item\"><div class=\"sk-estimator sk-toggleable\"><input class=\"sk-toggleable__control sk-hidden--visually\" id=\"dc75ebbd-3809-4436-8f5c-dea9eb2970ec\" type=\"checkbox\" ><label for=\"dc75ebbd-3809-4436-8f5c-dea9eb2970ec\" class=\"sk-toggleable__label sk-toggleable__label-arrow\">SimpleImputer</label><div class=\"sk-toggleable__content\"><pre>SimpleImputer(strategy=&#x27;most_frequent&#x27;)</pre></div></div></div><div class=\"sk-item\"><div class=\"sk-estimator sk-toggleable\"><input class=\"sk-toggleable__control sk-hidden--visually\" id=\"c4fb148a-f12f-46cd-93d7-b2d4f09f9f64\" type=\"checkbox\" ><label for=\"c4fb148a-f12f-46cd-93d7-b2d4f09f9f64\" class=\"sk-toggleable__label sk-toggleable__label-arrow\">StandardScaler</label><div class=\"sk-toggleable__content\"><pre>StandardScaler()</pre></div></div></div></div></div></div></div></div><div class=\"sk-parallel-item\"><div class=\"sk-item\"><div class=\"sk-label-container\"><div class=\"sk-label sk-toggleable\"><input class=\"sk-toggleable__control sk-hidden--visually\" id=\"db5db727-b822-4780-8f7a-8a3a10578bfa\" type=\"checkbox\" ><label for=\"db5db727-b822-4780-8f7a-8a3a10578bfa\" class=\"sk-toggleable__label sk-toggleable__label-arrow\">pipeline-2</label><div class=\"sk-toggleable__content\"><pre>[&#x27;Fare&#x27;]</pre></div></div></div><div class=\"sk-serial\"><div class=\"sk-item\"><div class=\"sk-serial\"><div class=\"sk-item\"><div class=\"sk-estimator sk-toggleable\"><input class=\"sk-toggleable__control sk-hidden--visually\" id=\"afd0d3c3-94b3-47f6-8404-4a8aeaa284bf\" type=\"checkbox\" ><label for=\"afd0d3c3-94b3-47f6-8404-4a8aeaa284bf\" class=\"sk-toggleable__label sk-toggleable__label-arrow\">SimpleImputer</label><div class=\"sk-toggleable__content\"><pre>SimpleImputer(strategy=&#x27;median&#x27;)</pre></div></div></div><div class=\"sk-item\"><div class=\"sk-estimator sk-toggleable\"><input class=\"sk-toggleable__control sk-hidden--visually\" id=\"5069c1bf-6ba2-42fb-94b8-57580e37e19a\" type=\"checkbox\" ><label for=\"5069c1bf-6ba2-42fb-94b8-57580e37e19a\" class=\"sk-toggleable__label sk-toggleable__label-arrow\">StandardScaler</label><div class=\"sk-toggleable__content\"><pre>StandardScaler()</pre></div></div></div></div></div></div></div></div><div class=\"sk-parallel-item\"><div class=\"sk-item\"><div class=\"sk-label-container\"><div class=\"sk-label sk-toggleable\"><input class=\"sk-toggleable__control sk-hidden--visually\" id=\"937855a1-c236-4a12-a501-5592ad380ff2\" type=\"checkbox\" ><label for=\"937855a1-c236-4a12-a501-5592ad380ff2\" class=\"sk-toggleable__label sk-toggleable__label-arrow\">pipeline-3</label><div class=\"sk-toggleable__content\"><pre>[&#x27;Sex&#x27;, &#x27;Embarked&#x27;, &#x27;CabinCat&#x27;, &#x27;Title&#x27;]</pre></div></div></div><div class=\"sk-serial\"><div class=\"sk-item\"><div class=\"sk-serial\"><div class=\"sk-item\"><div class=\"sk-estimator sk-toggleable\"><input class=\"sk-toggleable__control sk-hidden--visually\" id=\"cef32e3c-3a0a-4107-96ea-9413b6940f7e\" type=\"checkbox\" ><label for=\"cef32e3c-3a0a-4107-96ea-9413b6940f7e\" class=\"sk-toggleable__label sk-toggleable__label-arrow\">SimpleImputer</label><div class=\"sk-toggleable__content\"><pre>SimpleImputer(strategy=&#x27;most_frequent&#x27;)</pre></div></div></div><div class=\"sk-item\"><div class=\"sk-estimator sk-toggleable\"><input class=\"sk-toggleable__control sk-hidden--visually\" id=\"d31aa10f-6266-47a3-809b-1628ab6747dc\" type=\"checkbox\" ><label for=\"d31aa10f-6266-47a3-809b-1628ab6747dc\" class=\"sk-toggleable__label sk-toggleable__label-arrow\">OneHotEncoder</label><div class=\"sk-toggleable__content\"><pre>OneHotEncoder(handle_unknown=&#x27;ignore&#x27;, sparse=False)</pre></div></div></div></div></div></div></div></div></div></div><div class=\"sk-item\"><div class=\"sk-estimator sk-toggleable\"><input class=\"sk-toggleable__control sk-hidden--visually\" id=\"7bea4e38-34e6-4150-a0a4-0ab204da96f9\" type=\"checkbox\" ><label for=\"7bea4e38-34e6-4150-a0a4-0ab204da96f9\" class=\"sk-toggleable__label sk-toggleable__label-arrow\">KNNImputer</label><div class=\"sk-toggleable__content\"><pre>KNNImputer()</pre></div></div></div></div></div><div class=\"sk-item\"><div class=\"sk-estimator sk-toggleable\"><input class=\"sk-toggleable__control sk-hidden--visually\" id=\"9bf88240-6e1f-4c36-96a3-52415d844127\" type=\"checkbox\" ><label for=\"9bf88240-6e1f-4c36-96a3-52415d844127\" class=\"sk-toggleable__label sk-toggleable__label-arrow\">SVC</label><div class=\"sk-toggleable__content\"><pre>SVC(C=2, gamma=0.05)</pre></div></div></div></div></div></div></div>"
      ],
      "text/plain": [
       "Pipeline(steps=[('preprocessor',\n",
       "                 Pipeline(steps=[('newfeatureadder', NewFeatureAdder()),\n",
       "                                 ('columntransformer',\n",
       "                                  ColumnTransformer(transformers=[('standardscaler',\n",
       "                                                                   StandardScaler(),\n",
       "                                                                   ['Age']),\n",
       "                                                                  ('pipeline-1',\n",
       "                                                                   Pipeline(steps=[('simpleimputer',\n",
       "                                                                                    SimpleImputer(strategy='most_frequent')),\n",
       "                                                                                   ('standardscaler',\n",
       "                                                                                    StandardScaler())]),\n",
       "                                                                   ['SibSp',\n",
       "                                                                    'Parch',\n",
       "                                                                    'Pclass']),\n",
       "                                                                  ('pipeline-2'...\n",
       "                                                                                    SimpleImputer(strategy='median')),\n",
       "                                                                                   ('standardscaler',\n",
       "                                                                                    StandardScaler())]),\n",
       "                                                                   ['Fare']),\n",
       "                                                                  ('pipeline-3',\n",
       "                                                                   Pipeline(steps=[('simpleimputer',\n",
       "                                                                                    SimpleImputer(strategy='most_frequent')),\n",
       "                                                                                   ('onehotencoder',\n",
       "                                                                                    OneHotEncoder(handle_unknown='ignore',\n",
       "                                                                                                  sparse=False))]),\n",
       "                                                                   ['Sex',\n",
       "                                                                    'Embarked',\n",
       "                                                                    'CabinCat',\n",
       "                                                                    'Title'])],\n",
       "                                                    verbose_feature_names_out=False)),\n",
       "                                 ('knnimputer', KNNImputer())])),\n",
       "                ('model', SVC(C=2, gamma=0.05))])"
      ]
     },
     "execution_count": 53,
     "metadata": {},
     "output_type": "execute_result"
    }
   ],
   "source": [
    "best_estimator.fit(X_full, y_full)"
   ]
  },
  {
   "cell_type": "code",
   "execution_count": 54,
   "id": "8493e01a",
   "metadata": {
    "execution": {
     "iopub.execute_input": "2023-03-26T19:09:28.180038Z",
     "iopub.status.busy": "2023-03-26T19:09:28.179568Z",
     "iopub.status.idle": "2023-03-26T19:09:28.730617Z",
     "shell.execute_reply": "2023-03-26T19:09:28.729396Z"
    },
    "papermill": {
     "duration": 0.595163,
     "end_time": "2023-03-26T19:09:28.736700",
     "exception": false,
     "start_time": "2023-03-26T19:09:28.141537",
     "status": "completed"
    },
    "tags": []
   },
   "outputs": [
    {
     "data": {
      "text/markdown": [
       "## <span style=\"color: black;\">Evaluation on the Full Training Set</span>"
      ],
      "text/plain": [
       "<IPython.core.display.Markdown object>"
      ]
     },
     "metadata": {},
     "output_type": "display_data"
    },
    {
     "data": {
      "text/markdown": [
       "Accuracy: 83.8384%"
      ],
      "text/plain": [
       "<IPython.core.display.Markdown object>"
      ]
     },
     "metadata": {},
     "output_type": "display_data"
    },
    {
     "data": {
      "image/png": "[encoded data removed]",
      "text/plain": [
       "<Figure size 1000x500 with 2 Axes>"
      ]
     },
     "metadata": {},
     "output_type": "display_data"
    }
   ],
   "source": [
    "y_val_predicted_tuned = best_estimator.predict(X_full)\n",
    "display_evalreport(train_data['Survived'], y_val_predicted_tuned, \"Full Training Set\")"
   ]
  },
  {
   "cell_type": "markdown",
   "id": "f2074f12",
   "metadata": {
    "papermill": {
     "duration": 0.037192,
     "end_time": "2023-03-26T19:09:28.825018",
     "exception": false,
     "start_time": "2023-03-26T19:09:28.787826",
     "status": "completed"
    },
    "tags": []
   },
   "source": [
    "# Submission"
   ]
  },
  {
   "cell_type": "code",
   "execution_count": 55,
   "id": "eb24c5fc",
   "metadata": {
    "execution": {
     "iopub.execute_input": "2023-03-26T19:09:28.903244Z",
     "iopub.status.busy": "2023-03-26T19:09:28.902751Z",
     "iopub.status.idle": "2023-03-26T19:09:28.993452Z",
     "shell.execute_reply": "2023-03-26T19:09:28.991600Z"
    },
    "papermill": {
     "duration": 0.135041,
     "end_time": "2023-03-26T19:09:28.998030",
     "exception": false,
     "start_time": "2023-03-26T19:09:28.862989",
     "status": "completed"
    },
    "tags": []
   },
   "outputs": [
    {
     "data": {
      "text/html": [
       "<div>\n",
       "<style scoped>\n",
       "    .dataframe tbody tr th:only-of-type {\n",
       "        vertical-align: middle;\n",
       "    }\n",
       "\n",
       "    .dataframe tbody tr th {\n",
       "        vertical-align: top;\n",
       "    }\n",
       "\n",
       "    .dataframe thead th {\n",
       "        text-align: right;\n",
       "    }\n",
       "</style>\n",
       "<table border=\"1\" class=\"dataframe\">\n",
       "  <thead>\n",
       "    <tr style=\"text-align: right;\">\n",
       "      <th></th>\n",
       "      <th>Survived</th>\n",
       "    </tr>\n",
       "    <tr>\n",
       "      <th>PassengerId</th>\n",
       "      <th></th>\n",
       "    </tr>\n",
       "  </thead>\n",
       "  <tbody>\n",
       "    <tr>\n",
       "      <th>892</th>\n",
       "      <td>0</td>\n",
       "    </tr>\n",
       "    <tr>\n",
       "      <th>893</th>\n",
       "      <td>1</td>\n",
       "    </tr>\n",
       "    <tr>\n",
       "      <th>894</th>\n",
       "      <td>0</td>\n",
       "    </tr>\n",
       "    <tr>\n",
       "      <th>895</th>\n",
       "      <td>0</td>\n",
       "    </tr>\n",
       "    <tr>\n",
       "      <th>896</th>\n",
       "      <td>1</td>\n",
       "    </tr>\n",
       "  </tbody>\n",
       "</table>\n",
       "</div>"
      ],
      "text/plain": [
       "             Survived\n",
       "PassengerId          \n",
       "892                 0\n",
       "893                 1\n",
       "894                 0\n",
       "895                 0\n",
       "896                 1"
      ]
     },
     "execution_count": 55,
     "metadata": {},
     "output_type": "execute_result"
    }
   ],
   "source": [
    "sumbission = pd.DataFrame(\n",
    "    {\n",
    "        \"PassengerId\": test_data.index,\n",
    "        \"Survived\": best_estimator.predict(test_data),\n",
    "    }\n",
    ").set_index(\"PassengerId\")\n",
    "\n",
    "sumbission.to_csv(\"submission.csv\")\n",
    "sumbission.head()"
   ]
  }
 ],
 "metadata": {
  "kernelspec": {
   "display_name": "Python 3",
   "language": "python",
   "name": "python3"
  },
  "language_info": {
   "codemirror_mode": {
    "name": "ipython",
    "version": 3
   },
   "file_extension": ".py",
   "mimetype": "text/x-python",
   "name": "python",
   "nbconvert_exporter": "python",
   "pygments_lexer": "ipython3",
   "version": "3.7.12"
  },
  "papermill": {
   "default_parameters": {},
   "duration": 76.585867,
   "end_time": "2023-03-26T19:09:31.688242",
   "environment_variables": {},
   "exception": null,
   "input_path": "__notebook__.ipynb",
   "output_path": "__notebook__.ipynb",
   "parameters": {},
   "start_time": "2023-03-26T19:08:15.102375",
   "version": "2.4.0"
  }
 },
 "nbformat": 4,
 "nbformat_minor": 5
}
